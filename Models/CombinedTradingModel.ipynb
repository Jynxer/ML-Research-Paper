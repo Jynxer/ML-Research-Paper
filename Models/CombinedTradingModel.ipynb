{
 "cells": [
  {
   "cell_type": "markdown",
   "metadata": {},
   "source": [
    "# Combining Price Prediction LSTM with Sentiment Analysis Model for Increased Trading Strategy Performance"
   ]
  },
  {
   "cell_type": "markdown",
   "metadata": {},
   "source": [
    "### Imports"
   ]
  },
  {
   "cell_type": "code",
   "execution_count": 1,
   "metadata": {},
   "outputs": [],
   "source": [
    "import pandas as pd\n",
    "import seaborn as sb\n",
    "import pywt\n",
    "import gensim\n",
    "import numpy as np\n",
    "import yfinance as yf\n",
    "from datetime import datetime\n",
    "from sklearn.preprocessing import StandardScaler, MinMaxScaler\n",
    "from sklearn.model_selection import train_test_split\n",
    "from keras.utils import to_categorical\n",
    "from keras.models import Sequential\n",
    "from keras.layers import Bidirectional, LSTM, Dense\n",
    "from attention import Attention\n",
    "from keras.optimizers import Adam\n",
    "from keras import metrics\n",
    "from keras import backend as K\n",
    "import keras.utils.vis_utils\n",
    "from random import randint\n",
    "from importlib import reload\n",
    "reload(keras.utils.vis_utils)\n",
    "from keras.utils.vis_utils import plot_model\n",
    "import matplotlib.pyplot as plt"
   ]
  },
  {
   "cell_type": "markdown",
   "metadata": {},
   "source": [
    "### Loading the Datasets"
   ]
  },
  {
   "cell_type": "code",
   "execution_count": 2,
   "metadata": {},
   "outputs": [],
   "source": [
    "historicalData = pd.read_csv(\"./Datasets/S&P500.csv\")\n",
    "sentimentData = pd.read_csv(\"./Datasets/SentimentData.csv\")"
   ]
  },
  {
   "cell_type": "markdown",
   "metadata": {},
   "source": [
    "### Check if Price History Dataset is Clean"
   ]
  },
  {
   "cell_type": "code",
   "execution_count": 3,
   "metadata": {},
   "outputs": [
    {
     "name": "stdout",
     "output_type": "stream",
     "text": [
      "Price History Dataset is clean!\n"
     ]
    }
   ],
   "source": [
    "nulls = historicalData.isnull().sum().sum() + historicalData.isna().sum().sum()\n",
    "boolSeries = historicalData.duplicated().to_numpy()\n",
    "if ((boolSeries.sum() == 0) and (nulls == 0)):\n",
    "    print('Price History Dataset is clean!')\n",
    "else:\n",
    "    print('Price History Dataset is unclean!')"
   ]
  },
  {
   "cell_type": "markdown",
   "metadata": {},
   "source": [
    "### Visualise Sentiment Data"
   ]
  },
  {
   "cell_type": "code",
   "execution_count": 4,
   "metadata": {},
   "outputs": [
    {
     "name": "stdout",
     "output_type": "stream",
     "text": [
      "<class 'pandas.core.frame.DataFrame'>\n",
      "RangeIndex: 5847 entries, 0 to 5846\n",
      "Data columns (total 2 columns):\n",
      " #   Column     Non-Null Count  Dtype \n",
      "---  ------     --------------  ----- \n",
      " 0   Sentence   5847 non-null   object\n",
      " 1   Sentiment  5847 non-null   object\n",
      "dtypes: object(2)\n",
      "memory usage: 91.5+ KB\n",
      "None\n"
     ]
    },
    {
     "data": {
      "text/plain": [
       "<AxesSubplot:xlabel='Sentiment', ylabel='count'>"
      ]
     },
     "execution_count": 4,
     "metadata": {},
     "output_type": "execute_result"
    },
    {
     "data": {
      "image/png": "[encoded data removed]",
      "text/plain": [
       "<Figure size 432x288 with 1 Axes>"
      ]
     },
     "metadata": {
      "needs_background": "light"
     },
     "output_type": "display_data"
    }
   ],
   "source": [
    "print(sentimentData.info())\n",
    "sb.countplot(x=\"Sentiment\", data=sentimentData)"
   ]
  },
  {
   "cell_type": "markdown",
   "metadata": {},
   "source": [
    "### Sentiment Data Preprocessing"
   ]
  },
  {
   "cell_type": "code",
   "execution_count": 5,
   "metadata": {},
   "outputs": [
    {
     "name": "stdout",
     "output_type": "stream",
     "text": [
      "0    [the, geosolutions, technology, will, leverage...\n",
      "1     [esi, on, lows, down, to, bk, real, possibility]\n",
      "2    [for, the, last, quarter, of, componenta, net,...\n",
      "3    [according, to, the, finnish, russian, chamber...\n",
      "4    [the, swedish, buyout, firm, has, sold, its, r...\n",
      "Name: Sentence, dtype: object\n"
     ]
    }
   ],
   "source": [
    "sentences = sentimentData[\"Sentence\"].apply(gensim.utils.simple_preprocess)\n",
    "print(sentences.head())"
   ]
  },
  {
   "cell_type": "markdown",
   "metadata": {},
   "source": [
    "### Denominating Sentiment Labels"
   ]
  },
  {
   "cell_type": "code",
   "execution_count": 6,
   "metadata": {},
   "outputs": [
    {
     "name": "stdout",
     "output_type": "stream",
     "text": [
      "0    0\n",
      "1    2\n",
      "2    0\n",
      "3    1\n",
      "4    1\n",
      "Name: Sentiment, dtype: object\n"
     ]
    }
   ],
   "source": [
    "labels = sentimentData[\"Sentiment\"].copy()\n",
    "\n",
    "for i in range(labels.shape[0]):\n",
    "    if (sentimentData[\"Sentiment\"].iloc[i] == \"positive\"):\n",
    "        labels.iloc[i] = 0\n",
    "    elif (sentimentData[\"Sentiment\"].iloc[i] == \"neutral\"):\n",
    "        labels.iloc[i] = 1\n",
    "    elif (sentimentData[\"Sentiment\"].iloc[i] == \"negative\"):\n",
    "        labels.iloc[i] = 2\n",
    "        \n",
    "print(labels[:5])"
   ]
  },
  {
   "cell_type": "markdown",
   "metadata": {},
   "source": [
    "### Build and Train Word to Vector Model"
   ]
  },
  {
   "cell_type": "code",
   "execution_count": 7,
   "metadata": {},
   "outputs": [
    {
     "data": {
      "text/plain": [
       "(7295949, 10166600)"
      ]
     },
     "execution_count": 7,
     "metadata": {},
     "output_type": "execute_result"
    }
   ],
   "source": [
    "word2vecModel = gensim.models.Word2Vec(window=10, min_count=2, workers=4)\n",
    "word2vecModel.build_vocab(sentences, progress_per=1000)\n",
    "word2vecModel.train(sentences, total_examples=word2vecModel.corpus_count, epochs=100)"
   ]
  },
  {
   "cell_type": "markdown",
   "metadata": {},
   "source": [
    "### Building Sentiment Data Inputs and Outputs"
   ]
  },
  {
   "cell_type": "code",
   "execution_count": 8,
   "metadata": {},
   "outputs": [
    {
     "name": "stdout",
     "output_type": "stream",
     "text": [
      "(5847, 50, 100)\n",
      "float32\n",
      "(5847,)\n",
      "float32\n",
      "(5847, 3)\n"
     ]
    }
   ],
   "source": [
    "maxLength = 0\n",
    "\n",
    "for sentence in sentences:\n",
    "    if (len(sentence) > maxLength):\n",
    "        maxLength = len(sentence)\n",
    "\n",
    "X = []\n",
    "y = []\n",
    "\n",
    "for i in range(sentences.shape[0]):\n",
    "    sentence = sentences[i]\n",
    "    wordVec = []\n",
    "    # Embedding\n",
    "    for word in sentence:\n",
    "        if (word in word2vecModel.wv):\n",
    "            wordVec.append(word2vecModel.wv[word].tolist())\n",
    "    # Padding\n",
    "    for j in range(maxLength-len(wordVec)):\n",
    "        wordVec.append([0 for index in range(100)])\n",
    "    X.append(wordVec)\n",
    "    y.append(labels[i])\n",
    "    \n",
    "X = np.array(X)\n",
    "y = np.array(y)\n",
    "X = X.astype(np.float32)\n",
    "y = y.astype(np.float32)\n",
    "\n",
    "y_hot = to_categorical(y)\n",
    "\n",
    "print(X.shape)\n",
    "print(X.dtype)\n",
    "print(y.shape)\n",
    "print(y.dtype)\n",
    "print(y_hot.shape)"
   ]
  },
  {
   "cell_type": "markdown",
   "metadata": {},
   "source": [
    "### Sentiment Data Train-Test Split"
   ]
  },
  {
   "cell_type": "code",
   "execution_count": 9,
   "metadata": {},
   "outputs": [
    {
     "name": "stdout",
     "output_type": "stream",
     "text": [
      "(5262, 50, 100)\n",
      "(5262, 3)\n",
      "(585, 50, 100)\n",
      "(585, 3)\n"
     ]
    }
   ],
   "source": [
    "sentiment_X_train, sentiment_X_test, sentiment_y_train, sentiment_y_test = train_test_split(X, y_hot, test_size=0.1, random_state=42, shuffle=False)\n",
    "\n",
    "print(sentiment_X_train.shape)\n",
    "print(sentiment_y_train.shape)\n",
    "print(sentiment_X_test.shape)\n",
    "print(sentiment_y_test.shape)"
   ]
  },
  {
   "cell_type": "markdown",
   "metadata": {},
   "source": [
    "### Define and Compile Sentiment Analysis Model"
   ]
  },
  {
   "cell_type": "code",
   "execution_count": 10,
   "metadata": {},
   "outputs": [
    {
     "name": "stderr",
     "output_type": "stream",
     "text": [
      "2022-08-15 21:17:31.244076: I tensorflow/core/platform/cpu_feature_guard.cc:193] This TensorFlow binary is optimized with oneAPI Deep Neural Network Library (oneDNN) to use the following CPU instructions in performance-critical operations:  AVX2 FMA\n",
      "To enable them in other operations, rebuild TensorFlow with the appropriate compiler flags.\n"
     ]
    },
    {
     "name": "stdout",
     "output_type": "stream",
     "text": [
      "Model: \"sequential\"\n",
      "_________________________________________________________________\n",
      " Layer (type)                Output Shape              Param #   \n",
      "=================================================================\n",
      " bidirectional (Bidirectiona  (None, 50, 100)          60400     \n",
      " l)                                                              \n",
      "                                                                 \n",
      " attention (Attention)       (None, 32)                16400     \n",
      "                                                                 \n",
      " dense (Dense)               (None, 3)                 99        \n",
      "                                                                 \n",
      "=================================================================\n",
      "Total params: 76,899\n",
      "Trainable params: 76,899\n",
      "Non-trainable params: 0\n",
      "_________________________________________________________________\n",
      "None\n"
     ]
    }
   ],
   "source": [
    "sentimentModel = Sequential()\n",
    "sentimentModel.add(Bidirectional(LSTM(50, return_sequences=True), input_shape=(X.shape[1], X.shape[2])))\n",
    "sentimentModel.add(Attention(units=32))\n",
    "sentimentModel.add(Dense(3, activation='sigmoid'))\n",
    "sentimentModelOptimiser = Adam(learning_rate=0.01)\n",
    "sentimentModel.compile(loss='categorical_crossentropy', optimizer=sentimentModelOptimiser, metrics=['acc'])\n",
    "print(sentimentModel.summary())"
   ]
  },
  {
   "cell_type": "markdown",
   "metadata": {},
   "source": [
    "### Train Sentiment Analysis Model"
   ]
  },
  {
   "cell_type": "code",
   "execution_count": 11,
   "metadata": {},
   "outputs": [
    {
     "name": "stdout",
     "output_type": "stream",
     "text": [
      "Epoch 1/5\n"
     ]
    },
    {
     "name": "stderr",
     "output_type": "stream",
     "text": [
      "2022-08-15 21:17:34.054919: W tensorflow/core/grappler/costs/op_level_cost_estimator.cc:690] Error in PredictCost() for the op: op: \"Softmax\" attr { key: \"T\" value { type: DT_FLOAT } } inputs { dtype: DT_FLOAT shape { unknown_rank: true } } device { type: \"CPU\" vendor: \"GenuineIntel\" model: \"110\" frequency: 2400 num_cores: 16 environment { key: \"cpu_instruction_set\" value: \"SSE, SSE2, SSE3, SSSE3, SSE4.1, SSE4.2\" } environment { key: \"eigen\" value: \"3.4.90\" } l1_cache_size: 32768 l2_cache_size: 262144 l3_cache_size: 16777216 memory_size: 268435456 } outputs { dtype: DT_FLOAT shape { unknown_rank: true } }\n"
     ]
    },
    {
     "name": "stdout",
     "output_type": "stream",
     "text": [
      "165/165 [==============================] - ETA: 0s - loss: 0.7517 - acc: 0.6807"
     ]
    },
    {
     "name": "stderr",
     "output_type": "stream",
     "text": [
      "2022-08-15 21:17:38.244682: W tensorflow/core/grappler/costs/op_level_cost_estimator.cc:690] Error in PredictCost() for the op: op: \"Softmax\" attr { key: \"T\" value { type: DT_FLOAT } } inputs { dtype: DT_FLOAT shape { unknown_rank: true } } device { type: \"CPU\" vendor: \"GenuineIntel\" model: \"110\" frequency: 2400 num_cores: 16 environment { key: \"cpu_instruction_set\" value: \"SSE, SSE2, SSE3, SSSE3, SSE4.1, SSE4.2\" } environment { key: \"eigen\" value: \"3.4.90\" } l1_cache_size: 32768 l2_cache_size: 262144 l3_cache_size: 16777216 memory_size: 268435456 } outputs { dtype: DT_FLOAT shape { unknown_rank: true } }\n"
     ]
    },
    {
     "name": "stdout",
     "output_type": "stream",
     "text": [
      "165/165 [==============================] - 7s 23ms/step - loss: 0.7517 - acc: 0.6807 - val_loss: 0.7039 - val_acc: 0.7094\n",
      "Epoch 2/5\n",
      "165/165 [==============================] - 3s 19ms/step - loss: 0.5636 - acc: 0.7520 - val_loss: 0.6297 - val_acc: 0.7026\n",
      "Epoch 3/5\n",
      "165/165 [==============================] - 3s 20ms/step - loss: 0.4624 - acc: 0.7970 - val_loss: 0.6503 - val_acc: 0.7145\n",
      "Epoch 4/5\n",
      "165/165 [==============================] - 4s 22ms/step - loss: 0.3932 - acc: 0.8223 - val_loss: 0.7186 - val_acc: 0.7111\n",
      "Epoch 5/5\n",
      "165/165 [==============================] - 4s 24ms/step - loss: 0.3383 - acc: 0.8385 - val_loss: 0.7845 - val_acc: 0.7077\n"
     ]
    }
   ],
   "source": [
    "sentimentHistory = sentimentModel.fit(sentiment_X_train, sentiment_y_train, validation_data=(sentiment_X_test, sentiment_y_test), batch_size=32, epochs=5, verbose=1)"
   ]
  },
  {
   "cell_type": "markdown",
   "metadata": {},
   "source": [
    "### Predict Sentiment"
   ]
  },
  {
   "cell_type": "code",
   "execution_count": 12,
   "metadata": {},
   "outputs": [
    {
     "name": "stdout",
     "output_type": "stream",
     "text": [
      " 1/19 [>.............................] - ETA: 11s"
     ]
    },
    {
     "name": "stderr",
     "output_type": "stream",
     "text": [
      "2022-08-15 21:17:53.224378: W tensorflow/core/grappler/costs/op_level_cost_estimator.cc:690] Error in PredictCost() for the op: op: \"Softmax\" attr { key: \"T\" value { type: DT_FLOAT } } inputs { dtype: DT_FLOAT shape { unknown_rank: true } } device { type: \"CPU\" vendor: \"GenuineIntel\" model: \"110\" frequency: 2400 num_cores: 16 environment { key: \"cpu_instruction_set\" value: \"SSE, SSE2, SSE3, SSSE3, SSE4.1, SSE4.2\" } environment { key: \"eigen\" value: \"3.4.90\" } l1_cache_size: 32768 l2_cache_size: 262144 l3_cache_size: 16777216 memory_size: 268435456 } outputs { dtype: DT_FLOAT shape { unknown_rank: true } }\n"
     ]
    },
    {
     "name": "stdout",
     "output_type": "stream",
     "text": [
      "19/19 [==============================] - 1s 11ms/step\n"
     ]
    }
   ],
   "source": [
    "sentiment_y_hat = sentimentModel.predict(sentiment_X_test)"
   ]
  },
  {
   "cell_type": "markdown",
   "metadata": {},
   "source": [
    "### Decode Sentiment Prediction"
   ]
  },
  {
   "cell_type": "code",
   "execution_count": 13,
   "metadata": {},
   "outputs": [],
   "source": [
    "sentiment_y_hat_absolute = []\n",
    "sentiment_y_hat_text = []\n",
    "\n",
    "for i in range(len(sentiment_y_hat)):\n",
    "    maxConfidenceScore = 0\n",
    "    indexOfMaxScore = 0\n",
    "    prediction = sentiment_y_hat[i]\n",
    "    for j in range(len(prediction)):\n",
    "        if (prediction[j] > maxConfidenceScore):\n",
    "            maxConfidenceScore = prediction[j]\n",
    "            indexOfMaxScore = j\n",
    "    if (indexOfMaxScore == 0):\n",
    "        sentiment_y_hat_absolute.append([1, 0, 0])\n",
    "        sentiment_y_hat_text.append(\"positive\")\n",
    "    elif (indexOfMaxScore == 1):\n",
    "        sentiment_y_hat_absolute.append([0, 1, 0])\n",
    "        sentiment_y_hat_text.append(\"neutral\")\n",
    "    elif (indexOfMaxScore == 2):\n",
    "        sentiment_y_hat_absolute.append([0, 0, 1])\n",
    "        sentiment_y_hat_text.append(\"negative\")"
   ]
  },
  {
   "cell_type": "code",
   "execution_count": 14,
   "metadata": {},
   "outputs": [
    {
     "data": {
      "text/plain": [
       "['positive', 'positive', 'negative', 'positive', 'neutral']"
      ]
     },
     "execution_count": 14,
     "metadata": {},
     "output_type": "execute_result"
    }
   ],
   "source": [
    "sentiment_y_hat_text[-5:]"
   ]
  },
  {
   "cell_type": "markdown",
   "metadata": {},
   "source": [
    "### Price History Data Train-Test Split"
   ]
  },
  {
   "cell_type": "code",
   "execution_count": 15,
   "metadata": {},
   "outputs": [],
   "source": [
    "exposureSize = 128\n",
    "splitDate = '2019-05-16'\n",
    "\n",
    "trainingDataUnscaled = historicalData[historicalData['Date'] <= splitDate].copy()\n",
    "trainingDataUnscaled.drop(['Date', 'Adj Close'], axis=1, inplace=True)\n",
    "\n",
    "testData = historicalData[historicalData['Date'] > splitDate].copy()\n",
    "previousDays = trainingDataUnscaled.tail(exposureSize)\n",
    "testInputs = pd.concat([previousDays, testData], ignore_index=True)\n",
    "dates = testData['Date'].copy()\n",
    "testInputs.drop(['Date', 'Adj Close'], axis=1, inplace=True)"
   ]
  },
  {
   "cell_type": "markdown",
   "metadata": {},
   "source": [
    "### Price History Data Scaling"
   ]
  },
  {
   "cell_type": "code",
   "execution_count": 16,
   "metadata": {},
   "outputs": [],
   "source": [
    "scaler = StandardScaler()\n",
    "anotherScaler = MinMaxScaler()\n",
    "trainingDataStandardised = scaler.fit_transform(trainingDataUnscaled)\n",
    "trainingDataNormalised = anotherScaler.fit_transform(trainingDataStandardised)\n",
    "testInputsStandardised = scaler.transform(testInputs)\n",
    "testInputsNormalised = anotherScaler.transform(testInputsStandardised)"
   ]
  },
  {
   "cell_type": "markdown",
   "metadata": {},
   "source": [
    "### Wavelet Transform"
   ]
  },
  {
   "cell_type": "code",
   "execution_count": 17,
   "metadata": {},
   "outputs": [],
   "source": [
    "def WaveletTransform(data, levels, threshold=0.63, wavelet='coif3'):\n",
    "    reconstructedData = pd.DataFrame()\n",
    "    for i in range(data.shape[1]):\n",
    "        threshold = threshold * np.nanmax(data[:,i])\n",
    "        coefficients = pywt.wavedec(data[:,i], wavelet, mode='per', level=levels)\n",
    "        coefficients[1:] = (pywt.threshold(i, value=threshold, mode='soft') for i in coefficients[1:])\n",
    "        reconstructedColumn = pywt.waverec(coefficients, wavelet, mode='per')\n",
    "        reconstructedData = pd.concat([reconstructedData, pd.DataFrame(reconstructedColumn)], axis=1)\n",
    "    return reconstructedData\n",
    "\n",
    "trainingData = np.array(WaveletTransform(trainingDataNormalised, 3))"
   ]
  },
  {
   "cell_type": "markdown",
   "metadata": {},
   "source": [
    "### Building Price History Training Data Inputs and Outputs"
   ]
  },
  {
   "cell_type": "code",
   "execution_count": 18,
   "metadata": {},
   "outputs": [
    {
     "name": "stdout",
     "output_type": "stream",
     "text": [
      "(4651, 128, 5)\n",
      "(4651,)\n"
     ]
    }
   ],
   "source": [
    "X_train = []\n",
    "y_train = []\n",
    "\n",
    "for i in range(exposureSize, trainingData.shape[0]):\n",
    "    X_train.append(trainingData[i-exposureSize:i])\n",
    "    y_train.append(trainingData[i, 0])\n",
    "\n",
    "X_train, y_train = np.array(X_train), np.array(y_train)\n",
    "\n",
    "print(X_train.shape)\n",
    "print(y_train.shape)"
   ]
  },
  {
   "cell_type": "markdown",
   "metadata": {},
   "source": [
    "### Building Price History Testing Data Inputs and Outputs"
   ]
  },
  {
   "cell_type": "code",
   "execution_count": 19,
   "metadata": {},
   "outputs": [
    {
     "name": "stdout",
     "output_type": "stream",
     "text": [
      "(125, 128, 5)\n",
      "(125,)\n"
     ]
    }
   ],
   "source": [
    "X_test = []\n",
    "y_test = []\n",
    "\n",
    "for i in range(exposureSize, testInputs.shape[0]):\n",
    "    X_test.append(testInputsNormalised[i-exposureSize:i])\n",
    "    y_test.append(testInputsNormalised[i, 0])\n",
    "\n",
    "X_test, y_test = np.array(X_test), np.array(y_test)\n",
    "\n",
    "print(X_test.shape)\n",
    "print(y_test.shape)"
   ]
  },
  {
   "cell_type": "markdown",
   "metadata": {},
   "source": [
    "### Coefficient of Determination (R2) Function"
   ]
  },
  {
   "cell_type": "code",
   "execution_count": 20,
   "metadata": {},
   "outputs": [],
   "source": [
    "# REF: https://jmlb.github.io/ml/2017/03/20/CoeffDetermination_CustomMetric4Keras/\n",
    "def coefficient_of_determination(y_true, y_pred):\n",
    "    SS_res = K.sum(K.square(y_true - y_pred)) \n",
    "    SS_tot = K.sum(K.square(y_true - K.mean(y_true))) \n",
    "    return (1 - SS_res/(SS_tot + K.epsilon()))"
   ]
  },
  {
   "cell_type": "markdown",
   "metadata": {},
   "source": [
    "### Define and Compile Price Prediction Model"
   ]
  },
  {
   "cell_type": "code",
   "execution_count": 21,
   "metadata": {},
   "outputs": [
    {
     "name": "stdout",
     "output_type": "stream",
     "text": [
      "Model: \"sequential_1\"\n",
      "_________________________________________________________________\n",
      " Layer (type)                Output Shape              Param #   \n",
      "=================================================================\n",
      " lstm_1 (LSTM)               (None, 128, 50)           11200     \n",
      "                                                                 \n",
      " lstm_2 (LSTM)               (None, 128, 50)           20200     \n",
      "                                                                 \n",
      " attention_1 (Attention)     (None, 16)                4100      \n",
      "                                                                 \n",
      " dense_1 (Dense)             (None, 1)                 17        \n",
      "                                                                 \n",
      "=================================================================\n",
      "Total params: 35,517\n",
      "Trainable params: 35,517\n",
      "Non-trainable params: 0\n",
      "_________________________________________________________________\n",
      "None\n"
     ]
    }
   ],
   "source": [
    "priceModel = Sequential()\n",
    "priceModel.add(LSTM(50, input_shape=(X_train.shape[1], X_train.shape[2]), return_sequences=True))\n",
    "priceModel.add(LSTM(50, return_sequences=True))\n",
    "priceModel.add(Attention(units=16))\n",
    "priceModel.add(Dense(1))\n",
    "priceModelOptimiser = Adam(learning_rate=0.01)\n",
    "priceModel.compile(loss='mae', optimizer=priceModelOptimiser, metrics=[metrics.MeanAbsoluteError(), metrics.MeanSquaredError(), metrics.RootMeanSquaredError(), coefficient_of_determination])\n",
    "print(priceModel.summary())"
   ]
  },
  {
   "cell_type": "markdown",
   "metadata": {},
   "source": [
    "### Train Price Prediction Model"
   ]
  },
  {
   "cell_type": "code",
   "execution_count": 22,
   "metadata": {},
   "outputs": [
    {
     "name": "stdout",
     "output_type": "stream",
     "text": [
      "Epoch 1/12\n"
     ]
    },
    {
     "name": "stderr",
     "output_type": "stream",
     "text": [
      "2022-08-15 21:17:57.247429: W tensorflow/core/grappler/costs/op_level_cost_estimator.cc:690] Error in PredictCost() for the op: op: \"Softmax\" attr { key: \"T\" value { type: DT_FLOAT } } inputs { dtype: DT_FLOAT shape { unknown_rank: true } } device { type: \"CPU\" vendor: \"GenuineIntel\" model: \"110\" frequency: 2400 num_cores: 16 environment { key: \"cpu_instruction_set\" value: \"SSE, SSE2, SSE3, SSSE3, SSE4.1, SSE4.2\" } environment { key: \"eigen\" value: \"3.4.90\" } l1_cache_size: 32768 l2_cache_size: 262144 l3_cache_size: 16777216 memory_size: 268435456 } outputs { dtype: DT_FLOAT shape { unknown_rank: true } }\n"
     ]
    },
    {
     "name": "stdout",
     "output_type": "stream",
     "text": [
      "146/146 [==============================] - ETA: 0s - loss: 0.0380 - mean_absolute_error: 0.0380 - mean_squared_error: 0.0086 - root_mean_squared_error: 0.0925 - coefficient_of_determination: 0.7803"
     ]
    },
    {
     "name": "stderr",
     "output_type": "stream",
     "text": [
      "2022-08-15 21:18:08.054640: W tensorflow/core/grappler/costs/op_level_cost_estimator.cc:690] Error in PredictCost() for the op: op: \"Softmax\" attr { key: \"T\" value { type: DT_FLOAT } } inputs { dtype: DT_FLOAT shape { unknown_rank: true } } device { type: \"CPU\" vendor: \"GenuineIntel\" model: \"110\" frequency: 2400 num_cores: 16 environment { key: \"cpu_instruction_set\" value: \"SSE, SSE2, SSE3, SSSE3, SSE4.1, SSE4.2\" } environment { key: \"eigen\" value: \"3.4.90\" } l1_cache_size: 32768 l2_cache_size: 262144 l3_cache_size: 16777216 memory_size: 268435456 } outputs { dtype: DT_FLOAT shape { unknown_rank: true } }\n"
     ]
    },
    {
     "name": "stdout",
     "output_type": "stream",
     "text": [
      "146/146 [==============================] - 13s 71ms/step - loss: 0.0380 - mean_absolute_error: 0.0380 - mean_squared_error: 0.0086 - root_mean_squared_error: 0.0925 - coefficient_of_determination: 0.7803 - val_loss: 0.0278 - val_mean_absolute_error: 0.0278 - val_mean_squared_error: 9.9441e-04 - val_root_mean_squared_error: 0.0315 - val_coefficient_of_determination: -2.2162\n",
      "Epoch 2/12\n",
      "146/146 [==============================] - 10s 68ms/step - loss: 0.0144 - mean_absolute_error: 0.0144 - mean_squared_error: 4.0382e-04 - root_mean_squared_error: 0.0201 - coefficient_of_determination: 0.9919 - val_loss: 0.0124 - val_mean_absolute_error: 0.0124 - val_mean_squared_error: 2.1372e-04 - val_root_mean_squared_error: 0.0146 - val_coefficient_of_determination: 0.3947\n",
      "Epoch 3/12\n",
      "146/146 [==============================] - 10s 71ms/step - loss: 0.0177 - mean_absolute_error: 0.0177 - mean_squared_error: 5.6949e-04 - root_mean_squared_error: 0.0239 - coefficient_of_determination: 0.9885 - val_loss: 0.0677 - val_mean_absolute_error: 0.0677 - val_mean_squared_error: 0.0047 - val_root_mean_squared_error: 0.0685 - val_coefficient_of_determination: -13.1225\n",
      "Epoch 4/12\n",
      "146/146 [==============================] - 11s 73ms/step - loss: 0.0103 - mean_absolute_error: 0.0103 - mean_squared_error: 2.1464e-04 - root_mean_squared_error: 0.0147 - coefficient_of_determination: 0.9957 - val_loss: 0.0211 - val_mean_absolute_error: 0.0211 - val_mean_squared_error: 5.0296e-04 - val_root_mean_squared_error: 0.0224 - val_coefficient_of_determination: -0.5657\n",
      "Epoch 5/12\n",
      "146/146 [==============================] - 11s 75ms/step - loss: 0.0087 - mean_absolute_error: 0.0087 - mean_squared_error: 1.5831e-04 - root_mean_squared_error: 0.0126 - coefficient_of_determination: 0.9969 - val_loss: 0.0104 - val_mean_absolute_error: 0.0104 - val_mean_squared_error: 1.3781e-04 - val_root_mean_squared_error: 0.0117 - val_coefficient_of_determination: 0.6705\n",
      "Epoch 6/12\n",
      "146/146 [==============================] - 11s 79ms/step - loss: 0.0071 - mean_absolute_error: 0.0071 - mean_squared_error: 1.0148e-04 - root_mean_squared_error: 0.0101 - coefficient_of_determination: 0.9978 - val_loss: 0.0051 - val_mean_absolute_error: 0.0051 - val_mean_squared_error: 5.1029e-05 - val_root_mean_squared_error: 0.0071 - val_coefficient_of_determination: 0.8544\n",
      "Epoch 7/12\n",
      "146/146 [==============================] - 11s 75ms/step - loss: 0.0138 - mean_absolute_error: 0.0138 - mean_squared_error: 3.7191e-04 - root_mean_squared_error: 0.0193 - coefficient_of_determination: 0.9926 - val_loss: 0.0273 - val_mean_absolute_error: 0.0273 - val_mean_squared_error: 8.3367e-04 - val_root_mean_squared_error: 0.0289 - val_coefficient_of_determination: -1.5786\n",
      "Epoch 8/12\n",
      "146/146 [==============================] - 11s 77ms/step - loss: 0.0097 - mean_absolute_error: 0.0097 - mean_squared_error: 1.8437e-04 - root_mean_squared_error: 0.0136 - coefficient_of_determination: 0.9963 - val_loss: 0.0132 - val_mean_absolute_error: 0.0132 - val_mean_squared_error: 2.3524e-04 - val_root_mean_squared_error: 0.0153 - val_coefficient_of_determination: 0.3800\n",
      "Epoch 9/12\n",
      "146/146 [==============================] - 11s 76ms/step - loss: 0.0092 - mean_absolute_error: 0.0092 - mean_squared_error: 1.8263e-04 - root_mean_squared_error: 0.0135 - coefficient_of_determination: 0.9964 - val_loss: 0.0131 - val_mean_absolute_error: 0.0131 - val_mean_squared_error: 2.1060e-04 - val_root_mean_squared_error: 0.0145 - val_coefficient_of_determination: 0.3934\n",
      "Epoch 10/12\n",
      "146/146 [==============================] - 11s 73ms/step - loss: 0.0058 - mean_absolute_error: 0.0058 - mean_squared_error: 6.6091e-05 - root_mean_squared_error: 0.0081 - coefficient_of_determination: 0.9986 - val_loss: 0.0095 - val_mean_absolute_error: 0.0095 - val_mean_squared_error: 1.1907e-04 - val_root_mean_squared_error: 0.0109 - val_coefficient_of_determination: 0.6650\n",
      "Epoch 11/12\n",
      "146/146 [==============================] - 10s 71ms/step - loss: 0.0066 - mean_absolute_error: 0.0066 - mean_squared_error: 8.5058e-05 - root_mean_squared_error: 0.0092 - coefficient_of_determination: 0.9983 - val_loss: 0.0663 - val_mean_absolute_error: 0.0663 - val_mean_squared_error: 0.0045 - val_root_mean_squared_error: 0.0668 - val_coefficient_of_determination: -12.5088\n",
      "Epoch 12/12\n",
      "146/146 [==============================] - 11s 72ms/step - loss: 0.0082 - mean_absolute_error: 0.0082 - mean_squared_error: 1.2996e-04 - root_mean_squared_error: 0.0114 - coefficient_of_determination: 0.9974 - val_loss: 0.0072 - val_mean_absolute_error: 0.0072 - val_mean_squared_error: 8.8272e-05 - val_root_mean_squared_error: 0.0094 - val_coefficient_of_determination: 0.7828\n",
      "Epoch 1/12\n",
      "146/146 [==============================] - 11s 73ms/step - loss: 0.0018 - mean_absolute_error: 0.0018 - mean_squared_error: 7.7854e-06 - root_mean_squared_error: 0.0028 - coefficient_of_determination: 0.9998 - val_loss: 0.0065 - val_mean_absolute_error: 0.0065 - val_mean_squared_error: 5.7865e-05 - val_root_mean_squared_error: 0.0076 - val_coefficient_of_determination: 0.8481\n",
      "Epoch 2/12\n",
      "146/146 [==============================] - 11s 72ms/step - loss: 0.0017 - mean_absolute_error: 0.0017 - mean_squared_error: 6.9980e-06 - root_mean_squared_error: 0.0026 - coefficient_of_determination: 0.9999 - val_loss: 0.0064 - val_mean_absolute_error: 0.0064 - val_mean_squared_error: 5.6796e-05 - val_root_mean_squared_error: 0.0075 - val_coefficient_of_determination: 0.8527\n",
      "Epoch 3/12\n",
      "146/146 [==============================] - 10s 72ms/step - loss: 0.0015 - mean_absolute_error: 0.0015 - mean_squared_error: 5.6349e-06 - root_mean_squared_error: 0.0024 - coefficient_of_determination: 0.9999 - val_loss: 0.0048 - val_mean_absolute_error: 0.0048 - val_mean_squared_error: 3.6763e-05 - val_root_mean_squared_error: 0.0061 - val_coefficient_of_determination: 0.9071\n",
      "Epoch 4/12\n",
      "146/146 [==============================] - 11s 75ms/step - loss: 0.0015 - mean_absolute_error: 0.0015 - mean_squared_error: 5.9569e-06 - root_mean_squared_error: 0.0024 - coefficient_of_determination: 0.9999 - val_loss: 0.0044 - val_mean_absolute_error: 0.0044 - val_mean_squared_error: 3.3963e-05 - val_root_mean_squared_error: 0.0058 - val_coefficient_of_determination: 0.9113\n",
      "Epoch 5/12\n",
      "146/146 [==============================] - 11s 78ms/step - loss: 0.0015 - mean_absolute_error: 0.0015 - mean_squared_error: 5.8204e-06 - root_mean_squared_error: 0.0024 - coefficient_of_determination: 0.9999 - val_loss: 0.0044 - val_mean_absolute_error: 0.0044 - val_mean_squared_error: 3.5901e-05 - val_root_mean_squared_error: 0.0060 - val_coefficient_of_determination: 0.9017\n",
      "Epoch 6/12\n",
      "146/146 [==============================] - 13s 86ms/step - loss: 0.0015 - mean_absolute_error: 0.0015 - mean_squared_error: 5.8310e-06 - root_mean_squared_error: 0.0024 - coefficient_of_determination: 0.9999 - val_loss: 0.0052 - val_mean_absolute_error: 0.0052 - val_mean_squared_error: 3.9808e-05 - val_root_mean_squared_error: 0.0063 - val_coefficient_of_determination: 0.9003\n",
      "Epoch 7/12\n",
      "146/146 [==============================] - 14s 96ms/step - loss: 0.0014 - mean_absolute_error: 0.0014 - mean_squared_error: 5.0857e-06 - root_mean_squared_error: 0.0023 - coefficient_of_determination: 0.9999 - val_loss: 0.0059 - val_mean_absolute_error: 0.0059 - val_mean_squared_error: 4.8625e-05 - val_root_mean_squared_error: 0.0070 - val_coefficient_of_determination: 0.8770\n",
      "Epoch 8/12\n",
      "146/146 [==============================] - 13s 87ms/step - loss: 0.0015 - mean_absolute_error: 0.0015 - mean_squared_error: 5.6562e-06 - root_mean_squared_error: 0.0024 - coefficient_of_determination: 0.9999 - val_loss: 0.0043 - val_mean_absolute_error: 0.0043 - val_mean_squared_error: 3.2300e-05 - val_root_mean_squared_error: 0.0057 - val_coefficient_of_determination: 0.9165\n",
      "Epoch 9/12\n",
      "146/146 [==============================] - 11s 78ms/step - loss: 0.0015 - mean_absolute_error: 0.0015 - mean_squared_error: 5.7849e-06 - root_mean_squared_error: 0.0024 - coefficient_of_determination: 0.9999 - val_loss: 0.0043 - val_mean_absolute_error: 0.0043 - val_mean_squared_error: 3.1527e-05 - val_root_mean_squared_error: 0.0056 - val_coefficient_of_determination: 0.9190\n",
      "Epoch 10/12\n",
      "146/146 [==============================] - 11s 74ms/step - loss: 0.0014 - mean_absolute_error: 0.0014 - mean_squared_error: 5.4830e-06 - root_mean_squared_error: 0.0023 - coefficient_of_determination: 0.9999 - val_loss: 0.0047 - val_mean_absolute_error: 0.0047 - val_mean_squared_error: 4.0746e-05 - val_root_mean_squared_error: 0.0064 - val_coefficient_of_determination: 0.8827\n",
      "Epoch 11/12\n",
      "146/146 [==============================] - 11s 77ms/step - loss: 0.0015 - mean_absolute_error: 0.0015 - mean_squared_error: 5.7900e-06 - root_mean_squared_error: 0.0024 - coefficient_of_determination: 0.9999 - val_loss: 0.0042 - val_mean_absolute_error: 0.0042 - val_mean_squared_error: 3.0990e-05 - val_root_mean_squared_error: 0.0056 - val_coefficient_of_determination: 0.9192\n",
      "Epoch 12/12\n",
      "146/146 [==============================] - 12s 81ms/step - loss: 0.0013 - mean_absolute_error: 0.0013 - mean_squared_error: 4.7438e-06 - root_mean_squared_error: 0.0022 - coefficient_of_determination: 0.9999 - val_loss: 0.0042 - val_mean_absolute_error: 0.0042 - val_mean_squared_error: 3.0399e-05 - val_root_mean_squared_error: 0.0055 - val_coefficient_of_determination: 0.9210\n",
      "Epoch 1/8\n",
      "146/146 [==============================] - 12s 80ms/step - loss: 0.0011 - mean_absolute_error: 0.0011 - mean_squared_error: 3.8439e-06 - root_mean_squared_error: 0.0020 - coefficient_of_determination: 0.9999 - val_loss: 0.0043 - val_mean_absolute_error: 0.0043 - val_mean_squared_error: 3.0580e-05 - val_root_mean_squared_error: 0.0055 - val_coefficient_of_determination: 0.9228\n",
      "Epoch 2/8\n",
      "146/146 [==============================] - 12s 80ms/step - loss: 0.0011 - mean_absolute_error: 0.0011 - mean_squared_error: 3.7654e-06 - root_mean_squared_error: 0.0019 - coefficient_of_determination: 0.9999 - val_loss: 0.0043 - val_mean_absolute_error: 0.0043 - val_mean_squared_error: 3.0609e-05 - val_root_mean_squared_error: 0.0055 - val_coefficient_of_determination: 0.9229\n",
      "Epoch 3/8\n",
      "146/146 [==============================] - 12s 83ms/step - loss: 0.0011 - mean_absolute_error: 0.0011 - mean_squared_error: 3.7614e-06 - root_mean_squared_error: 0.0019 - coefficient_of_determination: 0.9999 - val_loss: 0.0042 - val_mean_absolute_error: 0.0042 - val_mean_squared_error: 3.0327e-05 - val_root_mean_squared_error: 0.0055 - val_coefficient_of_determination: 0.9226\n",
      "Epoch 4/8\n",
      "146/146 [==============================] - 13s 92ms/step - loss: 0.0011 - mean_absolute_error: 0.0011 - mean_squared_error: 3.7395e-06 - root_mean_squared_error: 0.0019 - coefficient_of_determination: 0.9999 - val_loss: 0.0043 - val_mean_absolute_error: 0.0043 - val_mean_squared_error: 3.0407e-05 - val_root_mean_squared_error: 0.0055 - val_coefficient_of_determination: 0.9231\n",
      "Epoch 5/8\n",
      "146/146 [==============================] - 14s 94ms/step - loss: 0.0011 - mean_absolute_error: 0.0011 - mean_squared_error: 3.6821e-06 - root_mean_squared_error: 0.0019 - coefficient_of_determination: 0.9999 - val_loss: 0.0042 - val_mean_absolute_error: 0.0042 - val_mean_squared_error: 3.0278e-05 - val_root_mean_squared_error: 0.0055 - val_coefficient_of_determination: 0.9227\n",
      "Epoch 6/8\n",
      "146/146 [==============================] - 14s 96ms/step - loss: 0.0011 - mean_absolute_error: 0.0011 - mean_squared_error: 3.7387e-06 - root_mean_squared_error: 0.0019 - coefficient_of_determination: 0.9999 - val_loss: 0.0043 - val_mean_absolute_error: 0.0043 - val_mean_squared_error: 3.0288e-05 - val_root_mean_squared_error: 0.0055 - val_coefficient_of_determination: 0.9231\n",
      "Epoch 7/8\n",
      "146/146 [==============================] - 13s 92ms/step - loss: 0.0011 - mean_absolute_error: 0.0011 - mean_squared_error: 3.7603e-06 - root_mean_squared_error: 0.0019 - coefficient_of_determination: 0.9999 - val_loss: 0.0042 - val_mean_absolute_error: 0.0042 - val_mean_squared_error: 3.0195e-05 - val_root_mean_squared_error: 0.0055 - val_coefficient_of_determination: 0.9217\n",
      "Epoch 8/8\n",
      "146/146 [==============================] - 15s 101ms/step - loss: 0.0011 - mean_absolute_error: 0.0011 - mean_squared_error: 3.6974e-06 - root_mean_squared_error: 0.0019 - coefficient_of_determination: 0.9999 - val_loss: 0.0046 - val_mean_absolute_error: 0.0046 - val_mean_squared_error: 3.2831e-05 - val_root_mean_squared_error: 0.0057 - val_coefficient_of_determination: 0.9190\n"
     ]
    }
   ],
   "source": [
    "numEpochsOne = 12\n",
    "numEpochsTwo = 12\n",
    "numEpochsThree = 8\n",
    "\n",
    "historyOne = priceModel.fit(X_train, y_train, epochs=numEpochsOne, batch_size=32, validation_data=(X_test, y_test), verbose=1)\n",
    "K.set_value(priceModel.optimizer.learning_rate, 0.001)\n",
    "historyTwo = priceModel.fit(X_train, y_train, epochs=numEpochsTwo, batch_size=32, validation_data=(X_test, y_test), verbose=1)\n",
    "K.set_value(priceModel.optimizer.learning_rate, 0.0001)\n",
    "historyThree = priceModel.fit(X_train, y_train, epochs=numEpochsThree, batch_size=32, validation_data=(X_test, y_test), verbose=1)"
   ]
  },
  {
   "cell_type": "markdown",
   "metadata": {},
   "source": [
    "### Predict Prices"
   ]
  },
  {
   "cell_type": "code",
   "execution_count": 23,
   "metadata": {},
   "outputs": [
    {
     "name": "stdout",
     "output_type": "stream",
     "text": [
      "1/4 [======>.......................] - ETA: 1s"
     ]
    },
    {
     "name": "stderr",
     "output_type": "stream",
     "text": [
      "2022-08-15 21:24:10.571711: W tensorflow/core/grappler/costs/op_level_cost_estimator.cc:690] Error in PredictCost() for the op: op: \"Softmax\" attr { key: \"T\" value { type: DT_FLOAT } } inputs { dtype: DT_FLOAT shape { unknown_rank: true } } device { type: \"CPU\" vendor: \"GenuineIntel\" model: \"110\" frequency: 2400 num_cores: 16 environment { key: \"cpu_instruction_set\" value: \"SSE, SSE2, SSE3, SSSE3, SSE4.1, SSE4.2\" } environment { key: \"eigen\" value: \"3.4.90\" } l1_cache_size: 32768 l2_cache_size: 262144 l3_cache_size: 16777216 memory_size: 268435456 } outputs { dtype: DT_FLOAT shape { unknown_rank: true } }\n"
     ]
    },
    {
     "name": "stdout",
     "output_type": "stream",
     "text": [
      "4/4 [==============================] - 1s 26ms/step\n"
     ]
    }
   ],
   "source": [
    "y_hat = priceModel.predict(X_test)"
   ]
  },
  {
   "cell_type": "markdown",
   "metadata": {},
   "source": [
    "### Unscale Price Data"
   ]
  },
  {
   "cell_type": "code",
   "execution_count": 24,
   "metadata": {},
   "outputs": [],
   "source": [
    "# Undo normalisation\n",
    "y_test = (y_test * anotherScaler.data_range_[0]) + anotherScaler.data_min_[0]\n",
    "y_hat = (y_hat * anotherScaler.data_range_[0]) + anotherScaler.data_min_[0]\n",
    "\n",
    "# Undo standardisation\n",
    "y_test = (y_test * scaler.scale_[0]) + scaler.mean_[0]\n",
    "y_hat = (y_hat * scaler.scale_[0]) + scaler.mean_[0]"
   ]
  },
  {
   "cell_type": "markdown",
   "metadata": {},
   "source": [
    "### Plot Price Predictions"
   ]
  },
  {
   "cell_type": "code",
   "execution_count": 25,
   "metadata": {},
   "outputs": [
    {
     "data": {
      "image/png": "[encoded data removed]",
      "text/plain": [
       "<Figure size 1008x360 with 1 Axes>"
      ]
     },
     "metadata": {
      "needs_background": "light"
     },
     "output_type": "display_data"
    }
   ],
   "source": [
    "numTicks = 10\n",
    "tickDifference = dates.shape[0] // numTicks\n",
    "xTickLocations = np.arange(0, dates.shape[0], tickDifference)\n",
    "xTicks = []\n",
    "for i in xTickLocations:\n",
    "    xTicks.append(dates.iloc[i])\n",
    "\n",
    "plt.figure(figsize=(14, 5))\n",
    "plt.plot(y_hat, color='red', label=\"Predicted S&P 500 Open Price ($)\")\n",
    "plt.plot(y_test, color='blue', label=\"Actual S&P 500 Open Price ($)\")\n",
    "plt.title('S&P 500 Open Price Prediction')\n",
    "plt.xticks(xTickLocations, xTicks)\n",
    "plt.xlabel('Date')\n",
    "plt.ylabel('S&P 500 Open Price ($)')\n",
    "plt.legend()\n",
    "plt.show()"
   ]
  },
  {
   "cell_type": "markdown",
   "metadata": {},
   "source": [
    "### Price Prediction Performance"
   ]
  },
  {
   "cell_type": "code",
   "execution_count": 26,
   "metadata": {},
   "outputs": [
    {
     "data": {
      "image/png": "[encoded data removed]",
      "text/plain": [
       "<Figure size 1008x360 with 2 Axes>"
      ]
     },
     "metadata": {
      "needs_background": "light"
     },
     "output_type": "display_data"
    }
   ],
   "source": [
    "totalLoss = np.concatenate([historyOne.history['loss'], historyTwo.history['loss'], historyThree.history['loss']])\n",
    "totaValLoss = np.concatenate([historyOne.history['val_loss'], historyTwo.history['val_loss'], historyThree.history['val_loss']])\n",
    "\n",
    "plt.figure(figsize=(14, 5))\n",
    "\n",
    "plt.subplot(1, 2, 1)\n",
    "plt.plot(totalLoss, color='red')\n",
    "plt.axvspan(0, numEpochsOne, facecolor='black', alpha=0.6, label=\"LR = 0.01\")\n",
    "plt.axvspan(numEpochsOne, numEpochsOne+numEpochsTwo, facecolor='black', alpha=0.4, label=\"LR = 0.001\")\n",
    "plt.axvspan(numEpochsOne+numEpochsTwo, numEpochsOne+numEpochsTwo+numEpochsThree, facecolor='black', alpha=0.2, label=\"LR = 0.0001\")\n",
    "plt.xlim(0, numEpochsOne+numEpochsTwo+numEpochsThree-1)\n",
    "plt.xticks([2*i for i in range((numEpochsOne+numEpochsTwo+numEpochsThree)//2)], [(2*j)+1 for j in range((numEpochsOne+numEpochsTwo+numEpochsThree)//2)])\n",
    "plt.xlabel(\"Epoch\")\n",
    "plt.ylabel(\"Mean Absolute Error\")\n",
    "plt.title(\"Loss\")\n",
    "plt.legend()\n",
    "\n",
    "plt.subplot(1, 2, 2)\n",
    "plt.plot(totaValLoss, color='red')\n",
    "plt.axvspan(0, numEpochsOne, facecolor='black', alpha=0.6, label=\"LR = 0.01\")\n",
    "plt.axvspan(numEpochsOne, numEpochsOne+numEpochsTwo, facecolor='black', alpha=0.4, label=\"LR = 0.001\")\n",
    "plt.axvspan(numEpochsOne+numEpochsTwo, numEpochsOne+numEpochsTwo+numEpochsThree, facecolor='black', alpha=0.2, label=\"LR = 0.0001\")\n",
    "plt.xlim(0, numEpochsOne+numEpochsTwo+numEpochsThree-1)\n",
    "plt.xticks([2*i for i in range((numEpochsOne+numEpochsTwo+numEpochsThree)//2)], [(2*j)+1 for j in range((numEpochsOne+numEpochsTwo+numEpochsThree)//2)])\n",
    "plt.xlabel(\"Epoch\")\n",
    "plt.ylabel(\"Mean Absolute Error\")\n",
    "plt.title(\"Validation Loss\")\n",
    "plt.legend()\n",
    "\n",
    "plt.show()"
   ]
  },
  {
   "cell_type": "code",
   "execution_count": 27,
   "metadata": {},
   "outputs": [
    {
     "name": "stdout",
     "output_type": "stream",
     "text": [
      "Mean Absolute Error (MAE): 0.0011105176527053118\n",
      "Mean Squared Error (MSE): 3.697361535159871e-06\n",
      "Root Mean Squared Error (RMSE): 0.0019228524761274457\n",
      "Coefficient of Determination (R2): 0.9999285340309143\n"
     ]
    }
   ],
   "source": [
    "mae = historyThree.history['mean_absolute_error']\n",
    "mse = historyThree.history['mean_squared_error']\n",
    "rmse = historyThree.history['root_mean_squared_error']\n",
    "r2 = historyThree.history['coefficient_of_determination']\n",
    "\n",
    "print('Mean Absolute Error (MAE): ' + str(mae[-1]))\n",
    "print('Mean Squared Error (MSE): ' + str(mse[-1]))\n",
    "print('Root Mean Squared Error (RMSE): ' + str(rmse[-1]))\n",
    "print('Coefficient of Determination (R2): ' + str(r2[-1]))"
   ]
  },
  {
   "cell_type": "code",
   "execution_count": 28,
   "metadata": {},
   "outputs": [
    {
     "name": "stdout",
     "output_type": "stream",
     "text": [
      "Validation Mean Absolute Error (MAE): 0.004569471348077059\n",
      "Validation Mean Squared Error (MSE): 3.283120531705208e-05\n",
      "Validation Root Mean Squared Error (RMSE): 0.005729852244257927\n",
      "Validation Coefficient of Determination (R2): 0.9190164804458618\n"
     ]
    }
   ],
   "source": [
    "valmae = historyThree.history['val_mean_absolute_error']\n",
    "valmse = historyThree.history['val_mean_squared_error']\n",
    "valrmse = historyThree.history['val_root_mean_squared_error']\n",
    "valr2 = historyThree.history['val_coefficient_of_determination']\n",
    "\n",
    "print('Validation Mean Absolute Error (MAE): ' + str(valmae[-1]))\n",
    "print('Validation Mean Squared Error (MSE): ' + str(valmse[-1]))\n",
    "print('Validation Root Mean Squared Error (RMSE): ' + str(valrmse[-1]))\n",
    "print('Validation Coefficient of Determination (R2): ' + str(valr2[-1]))"
   ]
  },
  {
   "cell_type": "markdown",
   "metadata": {},
   "source": [
    "### Sentiment Analysis Performance"
   ]
  },
  {
   "cell_type": "code",
   "execution_count": 29,
   "metadata": {},
   "outputs": [
    {
     "name": "stdout",
     "output_type": "stream",
     "text": [
      "Training Accuracy: 0.8384644389152527\n",
      "Validation Accuracy: 0.7076923251152039\n"
     ]
    }
   ],
   "source": [
    "trainingAccuracy = sentimentHistory.history['acc']\n",
    "validationAccuracy = sentimentHistory.history['val_acc']\n",
    "\n",
    "print(\"Training Accuracy: \" + str(trainingAccuracy[-1]))\n",
    "print(\"Validation Accuracy: \" + str(validationAccuracy[-1]))"
   ]
  },
  {
   "cell_type": "markdown",
   "metadata": {},
   "source": [
    "### Trading Strategy Applied to Testing Data"
   ]
  },
  {
   "cell_type": "code",
   "execution_count": 30,
   "metadata": {},
   "outputs": [
    {
     "name": "stdout",
     "output_type": "stream",
     "text": [
      "----------------------------------------------------------------\n",
      "Trading over 125 days\n",
      "Initial Balance: $1000000\n",
      "----------------------------------------------------------------\n",
      "Random Trading Strategy\n",
      "Profit: $68852.99743165215\n",
      "Balance Percentage Change: 6.885299743165215%\n",
      "----------------------------------------------------------------\n",
      "Buying on day one and holding\n",
      "Profit: $19961967.84708542\n",
      "Balance Percentage Change: 19.96196784708542%\n",
      "----------------------------------------------------------------\n",
      "Trading strategy based on price predictions\n",
      "Profit: $230303.30983596854\n",
      "Balance Percentage Change: 23.03033098359685%\n",
      "----------------------------------------------------------------\n",
      "Trading based on price predictions and sentiment predictions\n",
      "Profit: $247801.44382919045\n",
      "Balance Percentage Change: 24.780144382919044%\n",
      "----------------------------------------------------------------\n",
      "Trading strategy based on price predictions and sentiment label\n",
      "Profit: $288265.1180848689\n",
      "Balance Percentage Change: 28.826511808486888%\n",
      "----------------------------------------------------------------\n"
     ]
    }
   ],
   "source": [
    "initialBalance = 1000000\n",
    "actionThreshold = 0.01\n",
    "sentimentInfluence = 0.005\n",
    "betProportion = 1\n",
    "\n",
    "# Random strategy\n",
    "controlBalance = initialBalance\n",
    "controlOwnedShares = 0\n",
    "controlBet = controlBalance / betProportion\n",
    "controlBuyOrders = 0\n",
    "controlSellOrders = 0\n",
    "\n",
    "# Trading the price predictions\n",
    "balance = initialBalance\n",
    "ownedShares = 0\n",
    "bet = balance / betProportion\n",
    "buyOrders = 0\n",
    "sellOrders = 0\n",
    "\n",
    "# Trading the price predictions with sentiment analysis\n",
    "sentimentBalance = initialBalance\n",
    "sentimentOwnedShares = 0\n",
    "sentimentBet = sentimentBalance / betProportion\n",
    "sentimentBuyOrders = 0\n",
    "sentimentSellOrders = 0\n",
    "\n",
    "# Trading the price predictions with true sentiment labels\n",
    "stagedSentimentBalance = initialBalance\n",
    "stagedSentimentOwnedShares = 0\n",
    "stagedSentimentBet = sentimentBalance / betProportion\n",
    "stagedSentimentBuyOrders = 0\n",
    "stagedSentimentSellOrders = 0\n",
    "\n",
    "stagedSentiment = sentiment_y_test[-5:]\n",
    "stagedSentimentPrediction = sentiment_y_hat[-5:]\n",
    "\n",
    "def Buy(price, bet, balance, ownedShares):\n",
    "    if (balance > 0):\n",
    "            numShares = 0\n",
    "            if (balance >= bet):\n",
    "                numShares = bet / price\n",
    "                balance -= bet\n",
    "                ownedShares += numShares\n",
    "            else:\n",
    "                numShares = balance / price\n",
    "                balance = 0\n",
    "                ownedShares += numShares\n",
    "            # print(\"BUY - \" + str(numShares) + \" shares at $\" + str(price))\n",
    "            bet = (balance + (ownedShares * price)) / betProportion\n",
    "    return bet, balance, ownedShares\n",
    "\n",
    "def Sell(price, bet, balance, ownedShares):\n",
    "    if (ownedShares > 0):\n",
    "        numShares = bet / price\n",
    "        if (ownedShares >= numShares):\n",
    "            balance += bet\n",
    "            ownedShares -= numShares\n",
    "            # print(\"SELL - \" + str(numShares) + \" shares at $\" + str(price))\n",
    "        else:\n",
    "            value = ownedShares * price\n",
    "            balance += value\n",
    "            ownedShares = 0\n",
    "            # print(\"SELL - \" + str(ownedShares) + \" shares at $\" + str(price))\n",
    "        bet = (balance + (ownedShares * price)) / betProportion\n",
    "    return bet, balance, ownedShares\n",
    "\n",
    "def GetSentimentScore(daysSentiment):\n",
    "    positiveScore = 0\n",
    "    neutralScore = 0\n",
    "    negativeScore = 0\n",
    "    for sentiment in daysSentiment:\n",
    "        positiveScore += sentiment[0]\n",
    "        neutralScore += sentiment[1]\n",
    "        negativeScore += sentiment[2]\n",
    "    score = (positiveScore - negativeScore) / (positiveScore + neutralScore + negativeScore)\n",
    "    return score\n",
    "\n",
    "# Random trading strategy\n",
    "for i in range(len(y_hat)-1):\n",
    "    if (randint(0, 1) == 0): # ! Buy\n",
    "        controlBet, controlBalance, controlOwnedShares = Buy(y_test[i], controlBet, controlBalance, controlOwnedShares)\n",
    "    else: # ! Sell\n",
    "        controlBet, controlBalance, controlOwnedShares = Sell(y_test[i], controlBet, controlBalance, controlOwnedShares)\n",
    "\n",
    "# Trading strategy based on price prediction and sentiment analysis\n",
    "for i in range(len(y_hat)-1):\n",
    "    # Get sentiment score\n",
    "    sentimentScore = 0\n",
    "    if (i <= 25):\n",
    "        sentimentScore = GetSentimentScore([stagedSentimentPrediction[0]])\n",
    "        stagedSentimentScore = GetSentimentScore([stagedSentiment[0]])\n",
    "    elif (i <= 50):\n",
    "        sentimentScore = GetSentimentScore([stagedSentimentPrediction[1]])\n",
    "        stagedSentimentScore = GetSentimentScore([stagedSentiment[1]])\n",
    "    elif (i <= 75):\n",
    "        sentimentScore = GetSentimentScore([stagedSentimentPrediction[2]])\n",
    "        stagedSentimentScore = GetSentimentScore([stagedSentiment[2]])\n",
    "    elif (i <= 100):\n",
    "        sentimentScore = GetSentimentScore([stagedSentimentPrediction[3]])\n",
    "        stagedSentimentScore = GetSentimentScore([stagedSentiment[3]])\n",
    "    elif (i <= 125):\n",
    "        sentimentScore = GetSentimentScore([stagedSentimentPrediction[4]])\n",
    "        stagedSentimentScore = GetSentimentScore([stagedSentiment[4]])\n",
    "    \n",
    "    currentPrice = y_test[i]\n",
    "    predictedPrice = y_hat[i+1]\n",
    "    difference = predictedPrice - currentPrice\n",
    "    percentageChange = difference / currentPrice\n",
    "\n",
    "    # No sentiment\n",
    "    if (abs(percentageChange) < actionThreshold): # ! Hold\n",
    "        pass\n",
    "    elif (currentPrice < predictedPrice): # ! Buy\n",
    "        bet, balance, ownedShares = Buy(y_test[i], bet, balance, ownedShares)\n",
    "    elif (currentPrice > predictedPrice): # ! Sell\n",
    "        bet, balance, ownedShares = Sell(y_test[i], bet, balance, ownedShares)\n",
    "\n",
    "    # With sentiment predictions\n",
    "    if (abs(percentageChange + (sentimentScore * sentimentInfluence)) < actionThreshold): # ! Hold\n",
    "        pass\n",
    "    elif (currentPrice < predictedPrice): # ! Buy\n",
    "        sentimentBet, sentimentBalance, sentimentOwnedShares = Buy(y_test[i], sentimentBet, sentimentBalance, sentimentOwnedShares)\n",
    "    elif (currentPrice > predictedPrice): # ! Sell\n",
    "        sentimentBet, sentimentBalance, sentimentOwnedShares = Sell(y_test[i], sentimentBet, sentimentBalance, sentimentOwnedShares)\n",
    "\n",
    "    # With sentiment labels\n",
    "    if (abs(percentageChange + (stagedSentimentScore * sentimentInfluence)) < actionThreshold): # ! Hold\n",
    "        pass\n",
    "    elif (currentPrice < predictedPrice): # ! Buy\n",
    "        stagedSentimentBet, stagedSentimentBalance, stagedSentimentOwnedShares = Buy(y_test[i], stagedSentimentBet, stagedSentimentBalance, stagedSentimentOwnedShares)\n",
    "    elif (currentPrice > predictedPrice): # ! Sell\n",
    "        stagedSentimentBet, stagedSentimentBalance, stagedSentimentOwnedShares = Sell(y_test[i], stagedSentimentBet, stagedSentimentBalance, stagedSentimentOwnedShares)\n",
    "\n",
    "controlTotalShareValue = controlOwnedShares * y_test[-1]\n",
    "controlFinalBalance = controlBalance + controlTotalShareValue\n",
    "controlProfit = controlFinalBalance-initialBalance\n",
    "controlBalancePercentageChange = ((controlFinalBalance-initialBalance)/initialBalance) * 100\n",
    "\n",
    "totalShareValue = ownedShares * y_test[-1]\n",
    "finalBalance = balance + totalShareValue\n",
    "profit = finalBalance-initialBalance\n",
    "balancePercentageChange = ((finalBalance-initialBalance)/initialBalance) * 100\n",
    "\n",
    "sentimentTotalShareValue = sentimentOwnedShares * y_test[-1]\n",
    "sentimentFinalBalance = sentimentBalance + sentimentTotalShareValue\n",
    "sentimentProfit = sentimentFinalBalance-initialBalance\n",
    "sentimentBalancePercentageChange = ((sentimentFinalBalance-initialBalance)/initialBalance) * 100\n",
    "\n",
    "stagedSentimentTotalShareValue = stagedSentimentOwnedShares * y_test[-1]\n",
    "stagedSentimentFinalBalance = stagedSentimentBalance + stagedSentimentTotalShareValue\n",
    "stagedSentimentProfit = stagedSentimentFinalBalance-initialBalance\n",
    "stagedSentimentBalancePercentageChange = ((stagedSentimentFinalBalance-initialBalance)/initialBalance) * 100\n",
    "\n",
    "pricePercentageChange = ((y_test[-1]-y_test[0])/y_test[0]) * 100\n",
    "\n",
    "print(\"----------------------------------------------------------------\")\n",
    "\n",
    "print(\"Trading over \" + str(y_hat.shape[0]) + \" days\")\n",
    "print(\"Initial Balance: $\" + str(initialBalance))\n",
    "\n",
    "print(\"----------------------------------------------------------------\")\n",
    "\n",
    "print(\"Random Trading Strategy\")\n",
    "# print(\"Final Balance: $\" + str(controlFinalBalance))\n",
    "print(\"Profit: $\" + str(controlProfit))\n",
    "print(\"Balance Percentage Change: \" + str(controlBalancePercentageChange) + \"%\")\n",
    "\n",
    "print(\"----------------------------------------------------------------\")\n",
    "\n",
    "print(\"Buying on day one and holding\")\n",
    "print(\"Profit: $\" + str(initialBalance * pricePercentageChange))\n",
    "print(\"Balance Percentage Change: \" + str(pricePercentageChange) + \"%\")\n",
    "\n",
    "print(\"----------------------------------------------------------------\")\n",
    "\n",
    "print(\"Trading strategy based on price predictions\")\n",
    "# print(\"Final Balance: $\" + str(finalBalance))\n",
    "print(\"Profit: $\" + str(profit))\n",
    "print(\"Balance Percentage Change: \" + str(balancePercentageChange) + \"%\")\n",
    "\n",
    "print(\"----------------------------------------------------------------\")\n",
    "\n",
    "print(\"Trading based on price predictions and sentiment predictions\")\n",
    "# print(\"Final Balance: $\" + str(sentimentFinalBalance))\n",
    "print(\"Profit: $\" + str(sentimentProfit))\n",
    "print(\"Balance Percentage Change: \" + str(sentimentBalancePercentageChange) + \"%\")\n",
    "\n",
    "print(\"----------------------------------------------------------------\")\n",
    "\n",
    "print(\"Trading strategy based on price predictions and sentiment label\")\n",
    "# print(\"Final Balance: $\" + str(stagedSentimentFinalBalance))\n",
    "print(\"Profit: $\" + str(stagedSentimentProfit))\n",
    "print(\"Balance Percentage Change: \" + str(stagedSentimentBalancePercentageChange) + \"%\")\n",
    "\n",
    "print(\"----------------------------------------------------------------\")"
   ]
  }
 ],
 "metadata": {
  "kernelspec": {
   "display_name": "Python 3.10.6 64-bit",
   "language": "python",
   "name": "python3"
  },
  "language_info": {
   "codemirror_mode": {
    "name": "ipython",
    "version": 3
   },
   "file_extension": ".py",
   "mimetype": "text/x-python",
   "name": "python",
   "nbconvert_exporter": "python",
   "pygments_lexer": "ipython3",
   "version": "3.10.6"
  },
  "orig_nbformat": 4,
  "vscode": {
   "interpreter": {
    "hash": "aee8b7b246df8f9039afb4144a1f6fd8d2ca17a180786b69acc140d282b71a49"
   }
  }
 },
 "nbformat": 4,
 "nbformat_minor": 2
}
