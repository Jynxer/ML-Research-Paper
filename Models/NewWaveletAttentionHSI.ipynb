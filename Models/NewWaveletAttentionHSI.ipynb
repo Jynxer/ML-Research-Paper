{
 "cells": [
  {
   "cell_type": "markdown",
   "metadata": {},
   "source": [
    "# HSI Price Prediction LSTM with New Input using Wavelet Transforms and an Attention Mechanism"
   ]
  },
  {
   "cell_type": "markdown",
   "metadata": {},
   "source": [
    "### Imports"
   ]
  },
  {
   "cell_type": "code",
   "execution_count": 1,
   "metadata": {},
   "outputs": [],
   "source": [
    "import pandas as pd\n",
    "import numpy as np\n",
    "from sklearn.preprocessing import StandardScaler, MinMaxScaler\n",
    "import pywt\n",
    "from keras.models import Sequential\n",
    "from keras.layers import LSTM, Dense\n",
    "from attention import Attention\n",
    "from keras.optimizers import Adam\n",
    "from keras import metrics\n",
    "import keras.utils.vis_utils\n",
    "from importlib import reload\n",
    "reload(keras.utils.vis_utils)\n",
    "from keras.utils.vis_utils import plot_model\n",
    "from keras import backend as K\n",
    "import matplotlib.pyplot as plt\n",
    "from random import randint"
   ]
  },
  {
   "cell_type": "markdown",
   "metadata": {},
   "source": [
    "### Load Dataset"
   ]
  },
  {
   "cell_type": "code",
   "execution_count": 2,
   "metadata": {},
   "outputs": [],
   "source": [
    "df = pd.read_csv(\"./Datasets/HSI.csv\")"
   ]
  },
  {
   "cell_type": "markdown",
   "metadata": {},
   "source": [
    "### Check Dataset is Clean"
   ]
  },
  {
   "cell_type": "code",
   "execution_count": 3,
   "metadata": {},
   "outputs": [
    {
     "name": "stdout",
     "output_type": "stream",
     "text": [
      "Dataset is clean!\n"
     ]
    }
   ],
   "source": [
    "nulls = df.isnull().sum().sum() + df.isna().sum().sum()\n",
    "boolSeries = df.duplicated().to_numpy()\n",
    "if ((boolSeries.sum() == 0) and (nulls == 0)):\n",
    "    print('Dataset is clean!')\n",
    "else:\n",
    "    print('Dataset is unclean!')"
   ]
  },
  {
   "cell_type": "markdown",
   "metadata": {},
   "source": [
    "### Split Dataset"
   ]
  },
  {
   "cell_type": "code",
   "execution_count": 4,
   "metadata": {},
   "outputs": [],
   "source": [
    "splitDate = '2019-05-16'\n",
    "trainingDataUnscaled = df[df['Date'] <= splitDate].copy()\n",
    "trainingDataUnscaled.drop(['Date', 'Adj Close'], axis=1, inplace=True)"
   ]
  },
  {
   "cell_type": "markdown",
   "metadata": {},
   "source": [
    "### Data Scaling"
   ]
  },
  {
   "cell_type": "code",
   "execution_count": 5,
   "metadata": {},
   "outputs": [],
   "source": [
    "scaler = StandardScaler()\n",
    "anotherScaler = MinMaxScaler()\n",
    "trainingDataStandardised = scaler.fit_transform(trainingDataUnscaled)\n",
    "trainingDataNormalised = anotherScaler.fit_transform(trainingDataStandardised)"
   ]
  },
  {
   "cell_type": "markdown",
   "metadata": {},
   "source": [
    "### Wavelet Transform"
   ]
  },
  {
   "cell_type": "code",
   "execution_count": 6,
   "metadata": {},
   "outputs": [],
   "source": [
    "# Three decomposition layers of Coiflet 3 wavelet transform\n",
    "def WaveletTransform(data, levels, threshold=0.63, wavelet='coif3'):\n",
    "    reconstructedData = pd.DataFrame()\n",
    "    for i in range(data.shape[1]):\n",
    "        threshold = threshold * np.nanmax(data[:,i])\n",
    "        coefficients = pywt.wavedec(data[:,i], wavelet, mode='per', level=levels)\n",
    "        coefficients[1:] = (pywt.threshold(i, value=threshold, mode='soft') for i in coefficients[1:])\n",
    "        reconstructedColumn = pywt.waverec(coefficients, wavelet, mode='per')\n",
    "        reconstructedData = pd.concat([reconstructedData, pd.DataFrame(reconstructedColumn)], axis=1)\n",
    "    return reconstructedData\n",
    "\n",
    "trainingData = np.array(WaveletTransform(trainingDataNormalised, 3))"
   ]
  },
  {
   "cell_type": "markdown",
   "metadata": {},
   "source": [
    "### Build Training Input and Output Series"
   ]
  },
  {
   "cell_type": "code",
   "execution_count": 7,
   "metadata": {},
   "outputs": [
    {
     "name": "stdout",
     "output_type": "stream",
     "text": [
      "(3820, 365, 10)\n",
      "(3820,)\n"
     ]
    }
   ],
   "source": [
    "exposureSize = 365\n",
    "\n",
    "X_train = []\n",
    "y_train = []\n",
    "\n",
    "for i in range(exposureSize, trainingDataNormalised.shape[0]):\n",
    "    X_train.append(np.concatenate([trainingDataNormalised[i-exposureSize:i], trainingData[i-exposureSize:i]], axis=1))\n",
    "    y_train.append(trainingDataNormalised[i, 0])\n",
    "\n",
    "X_train, y_train = np.array(X_train), np.array(y_train)\n",
    "\n",
    "print(X_train.shape)\n",
    "print(y_train.shape)"
   ]
  },
  {
   "cell_type": "markdown",
   "metadata": {},
   "source": [
    "### Build Test Input and Output Series"
   ]
  },
  {
   "cell_type": "code",
   "execution_count": 8,
   "metadata": {},
   "outputs": [
    {
     "name": "stdout",
     "output_type": "stream",
     "text": [
      "(119, 365, 10)\n",
      "(119,)\n"
     ]
    }
   ],
   "source": [
    "testData = df[df['Date'] > splitDate].copy()\n",
    "previousDays = trainingDataUnscaled.tail(exposureSize)\n",
    "testInputs = pd.concat([previousDays, testData], ignore_index=True)\n",
    "dates = testData['Date'].copy()\n",
    "testInputs.drop(['Date', 'Adj Close'], axis=1, inplace=True)\n",
    "\n",
    "testInputsStandardised = scaler.transform(testInputs)\n",
    "testInputsNormalised = anotherScaler.transform(testInputsStandardised)\n",
    "testInputsTransformed = np.array(WaveletTransform(testInputsNormalised, 3))\n",
    "\n",
    "X_test = []\n",
    "y_test = []\n",
    "\n",
    "for i in range(exposureSize, testInputs.shape[0]):\n",
    "    X_test.append(np.concatenate([testInputsNormalised[i-exposureSize:i], testInputsTransformed[i-exposureSize:i]], axis=1))\n",
    "    y_test.append(testInputsNormalised[i, 0])\n",
    "\n",
    "X_test, y_test = np.array(X_test), np.array(y_test)\n",
    "\n",
    "print(X_test.shape)\n",
    "print(y_test.shape)"
   ]
  },
  {
   "cell_type": "markdown",
   "metadata": {},
   "source": [
    "### Coefficient of Determination Function"
   ]
  },
  {
   "cell_type": "code",
   "execution_count": 9,
   "metadata": {},
   "outputs": [],
   "source": [
    "# REF: https://jmlb.github.io/ml/2017/03/20/CoeffDetermination_CustomMetric4Keras/\n",
    "def coefficient_of_determination(y_true, y_pred):\n",
    "    SS_res =  K.sum(K.square( y_true-y_pred )) \n",
    "    SS_tot = K.sum(K.square( y_true - K.mean(y_true) ) ) \n",
    "    return ( 1 - SS_res/(SS_tot + K.epsilon()) )"
   ]
  },
  {
   "cell_type": "markdown",
   "metadata": {},
   "source": [
    "### Define Model"
   ]
  },
  {
   "cell_type": "code",
   "execution_count": 10,
   "metadata": {},
   "outputs": [
    {
     "name": "stderr",
     "output_type": "stream",
     "text": [
      "2022-08-17 22:12:19.329473: I tensorflow/core/platform/cpu_feature_guard.cc:193] This TensorFlow binary is optimized with oneAPI Deep Neural Network Library (oneDNN) to use the following CPU instructions in performance-critical operations:  AVX2 FMA\n",
      "To enable them in other operations, rebuild TensorFlow with the appropriate compiler flags.\n"
     ]
    },
    {
     "name": "stdout",
     "output_type": "stream",
     "text": [
      "Model: \"sequential\"\n",
      "_________________________________________________________________\n",
      " Layer (type)                Output Shape              Param #   \n",
      "=================================================================\n",
      " lstm (LSTM)                 (None, 365, 50)           12200     \n",
      "                                                                 \n",
      " attention (Attention)       (None, 16)                4100      \n",
      "                                                                 \n",
      " dense (Dense)               (None, 1)                 17        \n",
      "                                                                 \n",
      "=================================================================\n",
      "Total params: 16,317\n",
      "Trainable params: 16,317\n",
      "Non-trainable params: 0\n",
      "_________________________________________________________________\n",
      "None\n"
     ]
    },
    {
     "data": {
      "image/png": "[encoded data removed]",
      "text/plain": [
       "<IPython.core.display.Image object>"
      ]
     },
     "execution_count": 10,
     "metadata": {},
     "output_type": "execute_result"
    }
   ],
   "source": [
    "model = Sequential()\n",
    "model.add(LSTM(50, input_shape=(X_train.shape[1], X_train.shape[2]), return_sequences=True))\n",
    "model.add(Attention(units=16))\n",
    "model.add(Dense(1))\n",
    "optimiser = Adam(learning_rate=0.01)\n",
    "model.compile(loss='mae', optimizer=optimiser, metrics=[metrics.MeanAbsoluteError(), metrics.MeanSquaredError(), metrics.RootMeanSquaredError(), coefficient_of_determination])\n",
    "print(model.summary())\n",
    "plot_model(model, to_file='./StackedHSIModel.png', show_shapes=True)"
   ]
  },
  {
   "cell_type": "markdown",
   "metadata": {},
   "source": [
    "### Train Model"
   ]
  },
  {
   "cell_type": "code",
   "execution_count": 11,
   "metadata": {},
   "outputs": [
    {
     "name": "stdout",
     "output_type": "stream",
     "text": [
      "Epoch 1/16\n"
     ]
    },
    {
     "name": "stderr",
     "output_type": "stream",
     "text": [
      "2022-08-17 22:12:22.279897: W tensorflow/core/grappler/costs/op_level_cost_estimator.cc:690] Error in PredictCost() for the op: op: \"Softmax\" attr { key: \"T\" value { type: DT_FLOAT } } inputs { dtype: DT_FLOAT shape { unknown_rank: true } } device { type: \"CPU\" vendor: \"GenuineIntel\" model: \"110\" frequency: 2400 num_cores: 16 environment { key: \"cpu_instruction_set\" value: \"SSE, SSE2, SSE3, SSSE3, SSE4.1, SSE4.2\" } environment { key: \"eigen\" value: \"3.4.90\" } l1_cache_size: 32768 l2_cache_size: 262144 l3_cache_size: 16777216 memory_size: 268435456 } outputs { dtype: DT_FLOAT shape { unknown_rank: true } }\n"
     ]
    },
    {
     "name": "stdout",
     "output_type": "stream",
     "text": [
      "120/120 [==============================] - ETA: 0s - loss: 0.0553 - mean_absolute_error: 0.0553 - mean_squared_error: 0.0206 - root_mean_squared_error: 0.1436 - coefficient_of_determination: 0.3073"
     ]
    },
    {
     "name": "stderr",
     "output_type": "stream",
     "text": [
      "2022-08-17 22:12:46.869086: W tensorflow/core/grappler/costs/op_level_cost_estimator.cc:690] Error in PredictCost() for the op: op: \"Softmax\" attr { key: \"T\" value { type: DT_FLOAT } } inputs { dtype: DT_FLOAT shape { unknown_rank: true } } device { type: \"CPU\" vendor: \"GenuineIntel\" model: \"110\" frequency: 2400 num_cores: 16 environment { key: \"cpu_instruction_set\" value: \"SSE, SSE2, SSE3, SSSE3, SSE4.1, SSE4.2\" } environment { key: \"eigen\" value: \"3.4.90\" } l1_cache_size: 32768 l2_cache_size: 262144 l3_cache_size: 16777216 memory_size: 268435456 } outputs { dtype: DT_FLOAT shape { unknown_rank: true } }\n"
     ]
    },
    {
     "name": "stdout",
     "output_type": "stream",
     "text": [
      "120/120 [==============================] - 27s 204ms/step - loss: 0.0553 - mean_absolute_error: 0.0553 - mean_squared_error: 0.0206 - root_mean_squared_error: 0.1436 - coefficient_of_determination: 0.3073 - val_loss: 0.0101 - val_mean_absolute_error: 0.0101 - val_mean_squared_error: 1.5741e-04 - val_root_mean_squared_error: 0.0125 - val_coefficient_of_determination: 0.7568\n",
      "Epoch 2/16\n",
      "120/120 [==============================] - 14s 114ms/step - loss: 0.0158 - mean_absolute_error: 0.0158 - mean_squared_error: 4.1166e-04 - root_mean_squared_error: 0.0203 - coefficient_of_determination: 0.9884 - val_loss: 0.0227 - val_mean_absolute_error: 0.0227 - val_mean_squared_error: 6.2657e-04 - val_root_mean_squared_error: 0.0250 - val_coefficient_of_determination: -0.0420\n",
      "Epoch 3/16\n",
      "120/120 [==============================] - 11s 93ms/step - loss: 0.0110 - mean_absolute_error: 0.0110 - mean_squared_error: 2.0781e-04 - root_mean_squared_error: 0.0144 - coefficient_of_determination: 0.9940 - val_loss: 0.0126 - val_mean_absolute_error: 0.0126 - val_mean_squared_error: 2.2155e-04 - val_root_mean_squared_error: 0.0149 - val_coefficient_of_determination: 0.6201\n",
      "Epoch 4/16\n",
      "120/120 [==============================] - 11s 92ms/step - loss: 0.0095 - mean_absolute_error: 0.0095 - mean_squared_error: 1.6443e-04 - root_mean_squared_error: 0.0128 - coefficient_of_determination: 0.9954 - val_loss: 0.0113 - val_mean_absolute_error: 0.0113 - val_mean_squared_error: 1.8065e-04 - val_root_mean_squared_error: 0.0134 - val_coefficient_of_determination: 0.6899\n",
      "Epoch 5/16\n",
      "120/120 [==============================] - 11s 91ms/step - loss: 0.0146 - mean_absolute_error: 0.0146 - mean_squared_error: 3.4383e-04 - root_mean_squared_error: 0.0185 - coefficient_of_determination: 0.9900 - val_loss: 0.0090 - val_mean_absolute_error: 0.0090 - val_mean_squared_error: 1.2449e-04 - val_root_mean_squared_error: 0.0112 - val_coefficient_of_determination: 0.7932\n",
      "Epoch 6/16\n",
      "120/120 [==============================] - 11s 92ms/step - loss: 0.0099 - mean_absolute_error: 0.0099 - mean_squared_error: 1.6802e-04 - root_mean_squared_error: 0.0130 - coefficient_of_determination: 0.9950 - val_loss: 0.0176 - val_mean_absolute_error: 0.0176 - val_mean_squared_error: 3.6918e-04 - val_root_mean_squared_error: 0.0192 - val_coefficient_of_determination: 0.4000\n",
      "Epoch 7/16\n",
      "120/120 [==============================] - 11s 92ms/step - loss: 0.0092 - mean_absolute_error: 0.0092 - mean_squared_error: 1.5335e-04 - root_mean_squared_error: 0.0124 - coefficient_of_determination: 0.9957 - val_loss: 0.0077 - val_mean_absolute_error: 0.0077 - val_mean_squared_error: 9.7079e-05 - val_root_mean_squared_error: 0.0099 - val_coefficient_of_determination: 0.8517\n",
      "Epoch 8/16\n",
      "120/120 [==============================] - 11s 94ms/step - loss: 0.0094 - mean_absolute_error: 0.0094 - mean_squared_error: 1.5811e-04 - root_mean_squared_error: 0.0126 - coefficient_of_determination: 0.9955 - val_loss: 0.0321 - val_mean_absolute_error: 0.0321 - val_mean_squared_error: 0.0011 - val_root_mean_squared_error: 0.0330 - val_coefficient_of_determination: -0.7045\n",
      "Epoch 9/16\n",
      "120/120 [==============================] - 12s 96ms/step - loss: 0.0089 - mean_absolute_error: 0.0089 - mean_squared_error: 1.4109e-04 - root_mean_squared_error: 0.0119 - coefficient_of_determination: 0.9959 - val_loss: 0.0197 - val_mean_absolute_error: 0.0197 - val_mean_squared_error: 4.4801e-04 - val_root_mean_squared_error: 0.0212 - val_coefficient_of_determination: 0.2809\n",
      "Epoch 10/16\n",
      "120/120 [==============================] - 12s 100ms/step - loss: 0.0119 - mean_absolute_error: 0.0119 - mean_squared_error: 2.4757e-04 - root_mean_squared_error: 0.0157 - coefficient_of_determination: 0.9929 - val_loss: 0.0082 - val_mean_absolute_error: 0.0082 - val_mean_squared_error: 1.0567e-04 - val_root_mean_squared_error: 0.0103 - val_coefficient_of_determination: 0.8489\n",
      "Epoch 11/16\n",
      "120/120 [==============================] - 12s 100ms/step - loss: 0.0081 - mean_absolute_error: 0.0081 - mean_squared_error: 1.1993e-04 - root_mean_squared_error: 0.0110 - coefficient_of_determination: 0.9965 - val_loss: 0.0087 - val_mean_absolute_error: 0.0087 - val_mean_squared_error: 1.1291e-04 - val_root_mean_squared_error: 0.0106 - val_coefficient_of_determination: 0.8093\n",
      "Epoch 12/16\n",
      "120/120 [==============================] - 12s 97ms/step - loss: 0.0099 - mean_absolute_error: 0.0099 - mean_squared_error: 1.7428e-04 - root_mean_squared_error: 0.0132 - coefficient_of_determination: 0.9948 - val_loss: 0.0110 - val_mean_absolute_error: 0.0110 - val_mean_squared_error: 1.6484e-04 - val_root_mean_squared_error: 0.0128 - val_coefficient_of_determination: 0.7361\n",
      "Epoch 13/16\n",
      "120/120 [==============================] - 12s 97ms/step - loss: 0.0106 - mean_absolute_error: 0.0106 - mean_squared_error: 2.0390e-04 - root_mean_squared_error: 0.0143 - coefficient_of_determination: 0.9943 - val_loss: 0.0075 - val_mean_absolute_error: 0.0075 - val_mean_squared_error: 9.1388e-05 - val_root_mean_squared_error: 0.0096 - val_coefficient_of_determination: 0.8634\n",
      "Epoch 14/16\n",
      "120/120 [==============================] - 12s 103ms/step - loss: 0.0092 - mean_absolute_error: 0.0092 - mean_squared_error: 1.4971e-04 - root_mean_squared_error: 0.0122 - coefficient_of_determination: 0.9957 - val_loss: 0.0406 - val_mean_absolute_error: 0.0406 - val_mean_squared_error: 0.0017 - val_root_mean_squared_error: 0.0414 - val_coefficient_of_determination: -1.6731\n",
      "Epoch 15/16\n",
      "120/120 [==============================] - 12s 103ms/step - loss: 0.0077 - mean_absolute_error: 0.0077 - mean_squared_error: 1.1235e-04 - root_mean_squared_error: 0.0106 - coefficient_of_determination: 0.9968 - val_loss: 0.0104 - val_mean_absolute_error: 0.0104 - val_mean_squared_error: 1.5045e-04 - val_root_mean_squared_error: 0.0123 - val_coefficient_of_determination: 0.7534\n",
      "Epoch 16/16\n",
      "120/120 [==============================] - 12s 104ms/step - loss: 0.0084 - mean_absolute_error: 0.0084 - mean_squared_error: 1.2900e-04 - root_mean_squared_error: 0.0114 - coefficient_of_determination: 0.9964 - val_loss: 0.0085 - val_mean_absolute_error: 0.0085 - val_mean_squared_error: 1.1097e-04 - val_root_mean_squared_error: 0.0105 - val_coefficient_of_determination: 0.8367\n",
      "Epoch 1/12\n",
      "120/120 [==============================] - 12s 101ms/step - loss: 0.0056 - mean_absolute_error: 0.0056 - mean_squared_error: 6.6329e-05 - root_mean_squared_error: 0.0081 - coefficient_of_determination: 0.9981 - val_loss: 0.0065 - val_mean_absolute_error: 0.0065 - val_mean_squared_error: 6.7458e-05 - val_root_mean_squared_error: 0.0082 - val_coefficient_of_determination: 0.8905\n",
      "Epoch 2/12\n",
      "120/120 [==============================] - 12s 103ms/step - loss: 0.0054 - mean_absolute_error: 0.0054 - mean_squared_error: 6.3886e-05 - root_mean_squared_error: 0.0080 - coefficient_of_determination: 0.9982 - val_loss: 0.0100 - val_mean_absolute_error: 0.0100 - val_mean_squared_error: 1.4061e-04 - val_root_mean_squared_error: 0.0119 - val_coefficient_of_determination: 0.7708\n",
      "Epoch 3/12\n",
      "120/120 [==============================] - 12s 104ms/step - loss: 0.0055 - mean_absolute_error: 0.0055 - mean_squared_error: 6.4770e-05 - root_mean_squared_error: 0.0080 - coefficient_of_determination: 0.9982 - val_loss: 0.0061 - val_mean_absolute_error: 0.0061 - val_mean_squared_error: 6.3179e-05 - val_root_mean_squared_error: 0.0079 - val_coefficient_of_determination: 0.9044\n",
      "Epoch 4/12\n",
      "120/120 [==============================] - 13s 107ms/step - loss: 0.0054 - mean_absolute_error: 0.0054 - mean_squared_error: 6.4334e-05 - root_mean_squared_error: 0.0080 - coefficient_of_determination: 0.9982 - val_loss: 0.0058 - val_mean_absolute_error: 0.0058 - val_mean_squared_error: 5.8121e-05 - val_root_mean_squared_error: 0.0076 - val_coefficient_of_determination: 0.9104\n",
      "Epoch 5/12\n",
      "120/120 [==============================] - 13s 108ms/step - loss: 0.0055 - mean_absolute_error: 0.0055 - mean_squared_error: 6.5179e-05 - root_mean_squared_error: 0.0081 - coefficient_of_determination: 0.9981 - val_loss: 0.0063 - val_mean_absolute_error: 0.0063 - val_mean_squared_error: 6.7584e-05 - val_root_mean_squared_error: 0.0082 - val_coefficient_of_determination: 0.8995\n",
      "Epoch 6/12\n",
      "120/120 [==============================] - 13s 110ms/step - loss: 0.0055 - mean_absolute_error: 0.0055 - mean_squared_error: 6.4961e-05 - root_mean_squared_error: 0.0081 - coefficient_of_determination: 0.9981 - val_loss: 0.0060 - val_mean_absolute_error: 0.0060 - val_mean_squared_error: 6.0294e-05 - val_root_mean_squared_error: 0.0078 - val_coefficient_of_determination: 0.9089\n",
      "Epoch 7/12\n",
      "120/120 [==============================] - 13s 109ms/step - loss: 0.0054 - mean_absolute_error: 0.0054 - mean_squared_error: 6.3670e-05 - root_mean_squared_error: 0.0080 - coefficient_of_determination: 0.9981 - val_loss: 0.0072 - val_mean_absolute_error: 0.0072 - val_mean_squared_error: 8.1171e-05 - val_root_mean_squared_error: 0.0090 - val_coefficient_of_determination: 0.8676\n",
      "Epoch 8/12\n",
      "120/120 [==============================] - 13s 108ms/step - loss: 0.0054 - mean_absolute_error: 0.0054 - mean_squared_error: 6.4598e-05 - root_mean_squared_error: 0.0080 - coefficient_of_determination: 0.9982 - val_loss: 0.0073 - val_mean_absolute_error: 0.0073 - val_mean_squared_error: 8.3194e-05 - val_root_mean_squared_error: 0.0091 - val_coefficient_of_determination: 0.8636\n",
      "Epoch 9/12\n",
      "120/120 [==============================] - 13s 104ms/step - loss: 0.0054 - mean_absolute_error: 0.0054 - mean_squared_error: 6.3451e-05 - root_mean_squared_error: 0.0080 - coefficient_of_determination: 0.9981 - val_loss: 0.0057 - val_mean_absolute_error: 0.0057 - val_mean_squared_error: 5.5548e-05 - val_root_mean_squared_error: 0.0075 - val_coefficient_of_determination: 0.9127\n",
      "Epoch 10/12\n",
      "120/120 [==============================] - 13s 111ms/step - loss: 0.0055 - mean_absolute_error: 0.0055 - mean_squared_error: 6.6059e-05 - root_mean_squared_error: 0.0081 - coefficient_of_determination: 0.9981 - val_loss: 0.0068 - val_mean_absolute_error: 0.0068 - val_mean_squared_error: 7.3701e-05 - val_root_mean_squared_error: 0.0086 - val_coefficient_of_determination: 0.8803\n",
      "Epoch 11/12\n",
      "120/120 [==============================] - 13s 109ms/step - loss: 0.0057 - mean_absolute_error: 0.0057 - mean_squared_error: 6.6857e-05 - root_mean_squared_error: 0.0082 - coefficient_of_determination: 0.9981 - val_loss: 0.0057 - val_mean_absolute_error: 0.0057 - val_mean_squared_error: 5.5083e-05 - val_root_mean_squared_error: 0.0074 - val_coefficient_of_determination: 0.9116\n",
      "Epoch 12/12\n",
      "120/120 [==============================] - 14s 116ms/step - loss: 0.0053 - mean_absolute_error: 0.0053 - mean_squared_error: 6.3241e-05 - root_mean_squared_error: 0.0080 - coefficient_of_determination: 0.9982 - val_loss: 0.0065 - val_mean_absolute_error: 0.0065 - val_mean_squared_error: 7.1438e-05 - val_root_mean_squared_error: 0.0085 - val_coefficient_of_determination: 0.8947\n",
      "Epoch 1/8\n",
      "120/120 [==============================] - 14s 114ms/step - loss: 0.0052 - mean_absolute_error: 0.0052 - mean_squared_error: 6.0015e-05 - root_mean_squared_error: 0.0077 - coefficient_of_determination: 0.9983 - val_loss: 0.0057 - val_mean_absolute_error: 0.0057 - val_mean_squared_error: 5.5418e-05 - val_root_mean_squared_error: 0.0074 - val_coefficient_of_determination: 0.9134\n",
      "Epoch 2/8\n",
      "120/120 [==============================] - 14s 115ms/step - loss: 0.0051 - mean_absolute_error: 0.0051 - mean_squared_error: 5.8539e-05 - root_mean_squared_error: 0.0077 - coefficient_of_determination: 0.9983 - val_loss: 0.0057 - val_mean_absolute_error: 0.0057 - val_mean_squared_error: 5.5182e-05 - val_root_mean_squared_error: 0.0074 - val_coefficient_of_determination: 0.9129\n",
      "Epoch 3/8\n",
      "120/120 [==============================] - 14s 115ms/step - loss: 0.0051 - mean_absolute_error: 0.0051 - mean_squared_error: 5.8369e-05 - root_mean_squared_error: 0.0076 - coefficient_of_determination: 0.9983 - val_loss: 0.0057 - val_mean_absolute_error: 0.0057 - val_mean_squared_error: 5.5170e-05 - val_root_mean_squared_error: 0.0074 - val_coefficient_of_determination: 0.9133\n",
      "Epoch 4/8\n",
      "120/120 [==============================] - 13s 107ms/step - loss: 0.0051 - mean_absolute_error: 0.0051 - mean_squared_error: 5.8375e-05 - root_mean_squared_error: 0.0076 - coefficient_of_determination: 0.9984 - val_loss: 0.0058 - val_mean_absolute_error: 0.0058 - val_mean_squared_error: 5.5492e-05 - val_root_mean_squared_error: 0.0074 - val_coefficient_of_determination: 0.9134\n",
      "Epoch 5/8\n",
      "120/120 [==============================] - 14s 117ms/step - loss: 0.0051 - mean_absolute_error: 0.0051 - mean_squared_error: 5.8380e-05 - root_mean_squared_error: 0.0076 - coefficient_of_determination: 0.9984 - val_loss: 0.0058 - val_mean_absolute_error: 0.0058 - val_mean_squared_error: 5.5890e-05 - val_root_mean_squared_error: 0.0075 - val_coefficient_of_determination: 0.9130\n",
      "Epoch 6/8\n",
      "120/120 [==============================] - 13s 112ms/step - loss: 0.0051 - mean_absolute_error: 0.0051 - mean_squared_error: 5.8214e-05 - root_mean_squared_error: 0.0076 - coefficient_of_determination: 0.9983 - val_loss: 0.0057 - val_mean_absolute_error: 0.0057 - val_mean_squared_error: 5.4888e-05 - val_root_mean_squared_error: 0.0074 - val_coefficient_of_determination: 0.9132\n",
      "Epoch 7/8\n",
      "120/120 [==============================] - 13s 106ms/step - loss: 0.0051 - mean_absolute_error: 0.0051 - mean_squared_error: 5.7889e-05 - root_mean_squared_error: 0.0076 - coefficient_of_determination: 0.9983 - val_loss: 0.0058 - val_mean_absolute_error: 0.0058 - val_mean_squared_error: 5.5857e-05 - val_root_mean_squared_error: 0.0075 - val_coefficient_of_determination: 0.9131\n",
      "Epoch 8/8\n",
      "120/120 [==============================] - 13s 109ms/step - loss: 0.0051 - mean_absolute_error: 0.0051 - mean_squared_error: 5.8241e-05 - root_mean_squared_error: 0.0076 - coefficient_of_determination: 0.9983 - val_loss: 0.0059 - val_mean_absolute_error: 0.0059 - val_mean_squared_error: 5.7268e-05 - val_root_mean_squared_error: 0.0076 - val_coefficient_of_determination: 0.9080\n"
     ]
    }
   ],
   "source": [
    "numEpochsOne = 16\n",
    "numEpochsTwo = 12\n",
    "numEpochsThree = 8\n",
    "\n",
    "historyOne = model.fit(X_train, y_train, epochs=numEpochsOne, batch_size=32, validation_data=(X_test, y_test), verbose=1)\n",
    "K.set_value(model.optimizer.learning_rate, 0.001)\n",
    "historyTwo = model.fit(X_train, y_train, epochs=numEpochsTwo, batch_size=32, validation_data=(X_test, y_test), verbose=1)\n",
    "K.set_value(model.optimizer.learning_rate, 0.0001)\n",
    "historyThree = model.fit(X_train, y_train, epochs=numEpochsThree, batch_size=32, validation_data=(X_test, y_test), verbose=1)"
   ]
  },
  {
   "cell_type": "markdown",
   "metadata": {},
   "source": [
    "### Predict on Test Data"
   ]
  },
  {
   "cell_type": "code",
   "execution_count": 12,
   "metadata": {},
   "outputs": [
    {
     "name": "stdout",
     "output_type": "stream",
     "text": [
      "1/4 [======>.......................] - ETA: 1s"
     ]
    },
    {
     "name": "stderr",
     "output_type": "stream",
     "text": [
      "2022-08-17 22:20:06.335693: W tensorflow/core/grappler/costs/op_level_cost_estimator.cc:690] Error in PredictCost() for the op: op: \"Softmax\" attr { key: \"T\" value { type: DT_FLOAT } } inputs { dtype: DT_FLOAT shape { unknown_rank: true } } device { type: \"CPU\" vendor: \"GenuineIntel\" model: \"110\" frequency: 2400 num_cores: 16 environment { key: \"cpu_instruction_set\" value: \"SSE, SSE2, SSE3, SSSE3, SSE4.1, SSE4.2\" } environment { key: \"eigen\" value: \"3.4.90\" } l1_cache_size: 32768 l2_cache_size: 262144 l3_cache_size: 16777216 memory_size: 268435456 } outputs { dtype: DT_FLOAT shape { unknown_rank: true } }\n"
     ]
    },
    {
     "name": "stdout",
     "output_type": "stream",
     "text": [
      "4/4 [==============================] - 1s 37ms/step\n"
     ]
    }
   ],
   "source": [
    "y_hat = model.predict(X_test)"
   ]
  },
  {
   "cell_type": "markdown",
   "metadata": {},
   "source": [
    "### Unscale Data"
   ]
  },
  {
   "cell_type": "code",
   "execution_count": 13,
   "metadata": {},
   "outputs": [],
   "source": [
    "# Undo normalisation\n",
    "y_test = (y_test * anotherScaler.data_range_[0]) + anotherScaler.data_min_[0]\n",
    "y_hat = (y_hat * anotherScaler.data_range_[0]) + anotherScaler.data_min_[0]\n",
    "# Undo standardisation\n",
    "y_test = (y_test * scaler.scale_[0]) + scaler.mean_[0]\n",
    "y_hat = (y_hat * scaler.scale_[0]) + scaler.mean_[0]"
   ]
  },
  {
   "cell_type": "markdown",
   "metadata": {},
   "source": [
    "### Plot Prediction"
   ]
  },
  {
   "cell_type": "code",
   "execution_count": 14,
   "metadata": {},
   "outputs": [
    {
     "data": {
      "image/png": "[encoded data removed]",
      "text/plain": [
       "<Figure size 1008x360 with 1 Axes>"
      ]
     },
     "metadata": {
      "needs_background": "light"
     },
     "output_type": "display_data"
    }
   ],
   "source": [
    "plt.figure(figsize=(14, 5))\n",
    "plt.plot(y_hat, color='red', label=\"Predicted HSI Open Price ($)\")\n",
    "plt.plot(y_test, color='blue', label=\"Actual HSI Open Price ($)\")\n",
    "plt.title('HSI Open Price Prediction')\n",
    "# plt.xticks(np.arange(dates.shape[0]), dates)\n",
    "xLabel = \"Days since \" + splitDate\n",
    "plt.xlabel(xLabel)\n",
    "plt.ylabel('HSI Open Price ($)')\n",
    "plt.legend()\n",
    "plt.show()"
   ]
  },
  {
   "cell_type": "markdown",
   "metadata": {},
   "source": [
    "### Performance Metrics"
   ]
  },
  {
   "cell_type": "code",
   "execution_count": 15,
   "metadata": {},
   "outputs": [
    {
     "data": {
      "image/png": "[encoded data removed]",
      "text/plain": [
       "<Figure size 1008x360 with 2 Axes>"
      ]
     },
     "metadata": {
      "needs_background": "light"
     },
     "output_type": "display_data"
    }
   ],
   "source": [
    "totalLoss = np.concatenate([historyOne.history['loss'], historyTwo.history['loss'], historyThree.history['loss']])\n",
    "totaValLoss = np.concatenate([historyOne.history['val_loss'], historyTwo.history['val_loss'], historyThree.history['val_loss']])\n",
    "\n",
    "plt.figure(figsize=(14, 5))\n",
    "\n",
    "plt.subplot(1, 2, 1)\n",
    "plt.plot(totalLoss, color='red')\n",
    "plt.axvspan(0, numEpochsOne, facecolor='black', alpha=0.6, label=\"LR = 0.01\")\n",
    "plt.axvspan(numEpochsOne, numEpochsOne+numEpochsTwo, facecolor='black', alpha=0.4, label=\"LR = 0.001\")\n",
    "plt.axvspan(numEpochsOne+numEpochsTwo, numEpochsOne+numEpochsTwo+numEpochsThree, facecolor='black', alpha=0.2, label=\"LR = 0.0001\")\n",
    "plt.xlim(0, numEpochsOne+numEpochsTwo+numEpochsThree-1)\n",
    "plt.xticks([2*i for i in range((numEpochsOne+numEpochsTwo+numEpochsThree)//2)], [(2*j)+1 for j in range((numEpochsOne+numEpochsTwo+numEpochsThree)//2)])\n",
    "plt.xlabel(\"Epoch\")\n",
    "plt.ylabel(\"Mean Absolute Error\")\n",
    "plt.title(\"Loss\")\n",
    "plt.legend()\n",
    "\n",
    "plt.subplot(1, 2, 2)\n",
    "plt.plot(totaValLoss, color='red')\n",
    "plt.axvspan(0, numEpochsOne, facecolor='black', alpha=0.6, label=\"LR = 0.01\")\n",
    "plt.axvspan(numEpochsOne, numEpochsOne+numEpochsTwo, facecolor='black', alpha=0.4, label=\"LR = 0.001\")\n",
    "plt.axvspan(numEpochsOne+numEpochsTwo, numEpochsOne+numEpochsTwo+numEpochsThree, facecolor='black', alpha=0.2, label=\"LR = 0.0001\")\n",
    "plt.xlim(0, numEpochsOne+numEpochsTwo+numEpochsThree-1)\n",
    "plt.xticks([2*i for i in range((numEpochsOne+numEpochsTwo+numEpochsThree)//2)], [(2*j)+1 for j in range((numEpochsOne+numEpochsTwo+numEpochsThree)//2)])\n",
    "plt.xlabel(\"Epoch\")\n",
    "plt.ylabel(\"Mean Absolute Error\")\n",
    "plt.title(\"Validation Loss\")\n",
    "plt.legend()\n",
    "\n",
    "plt.show()"
   ]
  },
  {
   "cell_type": "code",
   "execution_count": 16,
   "metadata": {},
   "outputs": [
    {
     "name": "stdout",
     "output_type": "stream",
     "text": [
      "Mean Absolute Error (MAE): 0.0050855097360908985\n",
      "Mean Squared Error (MSE): 5.82413595111575e-05\n",
      "Root Mean Squared Error (RMSE): 0.007631602697074413\n",
      "Coefficient of Determination (R2): 0.99833083152771\n"
     ]
    }
   ],
   "source": [
    "mae = historyThree.history['mean_absolute_error']\n",
    "mse = historyThree.history['mean_squared_error']\n",
    "rmse = historyThree.history['root_mean_squared_error']\n",
    "r2 = historyThree.history['coefficient_of_determination']\n",
    "\n",
    "print('Mean Absolute Error (MAE): ' + str(mae[-1]))\n",
    "print('Mean Squared Error (MSE): ' + str(mse[-1]))\n",
    "print('Root Mean Squared Error (RMSE): ' + str(rmse[-1]))\n",
    "print('Coefficient of Determination (R2): ' + str(r2[-1]))"
   ]
  },
  {
   "cell_type": "code",
   "execution_count": 17,
   "metadata": {},
   "outputs": [
    {
     "name": "stdout",
     "output_type": "stream",
     "text": [
      "Validation Mean Absolute Error (MAE): 0.005895163863897324\n",
      "Validation Mean Squared Error (MSE): 5.726802919525653e-05\n",
      "Validation Root Mean Squared Error (RMSE): 0.007567564491182566\n",
      "Validation Coefficient of Determination (R2): 0.9079865217208862\n"
     ]
    }
   ],
   "source": [
    "valmae = historyThree.history['val_mean_absolute_error']\n",
    "valmse = historyThree.history['val_mean_squared_error']\n",
    "valrmse = historyThree.history['val_root_mean_squared_error']\n",
    "valr2 = historyThree.history['val_coefficient_of_determination']\n",
    "\n",
    "print('Validation Mean Absolute Error (MAE): ' + str(valmae[-1]))\n",
    "print('Validation Mean Squared Error (MSE): ' + str(valmse[-1]))\n",
    "print('Validation Root Mean Squared Error (RMSE): ' + str(valrmse[-1]))\n",
    "print('Validation Coefficient of Determination (R2): ' + str(valr2[-1]))"
   ]
  },
  {
   "cell_type": "markdown",
   "metadata": {},
   "source": [
    "### Trading Strategy"
   ]
  },
  {
   "cell_type": "code",
   "execution_count": 19,
   "metadata": {},
   "outputs": [
    {
     "name": "stdout",
     "output_type": "stream",
     "text": [
      "----------------------------------------------------------------\n",
      "Trading over 119 days\n",
      "Initial Balance: $1000000\n",
      "----------------------------------------------------------------\n",
      "Random Trading Strategy\n",
      "Profit: $56383.271446082974\n",
      "Balance Percentage Change: 5.638327144608297%\n",
      "----------------------------------------------------------------\n",
      "Buying on day one and holding\n",
      "Profit: $97911.12813486453\n",
      "Balance Percentage Change: 9.791112813486452%\n",
      "----------------------------------------------------------------\n",
      "Trading strategy based on price predictions\n",
      "Profit: $245724.5566251818\n",
      "Balance Percentage Change: 24.57245566251818%\n",
      "----------------------------------------------------------------\n"
     ]
    }
   ],
   "source": [
    "initialBalance = 1000000\n",
    "actionThreshold = 0.01\n",
    "sentimentInfluence = 0.005\n",
    "betProportion = 1\n",
    "\n",
    "# Random strategy\n",
    "controlBalance = initialBalance\n",
    "controlOwnedShares = 0\n",
    "controlBet = controlBalance / betProportion\n",
    "controlBuyOrders = 0\n",
    "controlSellOrders = 0\n",
    "\n",
    "# Trading the price predictions\n",
    "balance = initialBalance\n",
    "ownedShares = 0\n",
    "bet = balance / betProportion\n",
    "buyOrders = 0\n",
    "sellOrders = 0\n",
    "\n",
    "def Buy(price, bet, balance, ownedShares):\n",
    "    if (balance > 0):\n",
    "            numShares = 0\n",
    "            if (balance >= bet):\n",
    "                numShares = bet / price\n",
    "                balance -= bet\n",
    "                ownedShares += numShares\n",
    "            else:\n",
    "                numShares = balance / price\n",
    "                balance = 0\n",
    "                ownedShares += numShares\n",
    "            # print(\"BUY - \" + str(numShares) + \" shares at $\" + str(price))\n",
    "            bet = (balance + (ownedShares * price)) / betProportion\n",
    "    return bet, balance, ownedShares\n",
    "\n",
    "def Sell(price, bet, balance, ownedShares):\n",
    "    if (ownedShares > 0):\n",
    "        numShares = bet / price\n",
    "        if (ownedShares >= numShares):\n",
    "            balance += bet\n",
    "            ownedShares -= numShares\n",
    "            # print(\"SELL - \" + str(numShares) + \" shares at $\" + str(price))\n",
    "        else:\n",
    "            value = ownedShares * price\n",
    "            balance += value\n",
    "            ownedShares = 0\n",
    "            # print(\"SELL - \" + str(ownedShares) + \" shares at $\" + str(price))\n",
    "        bet = (balance + (ownedShares * price)) / betProportion\n",
    "    return bet, balance, ownedShares\n",
    "\n",
    "# Random trading strategy\n",
    "for i in range(len(y_hat)-1):\n",
    "    if (randint(0, 1) == 0): # ! Buy\n",
    "        controlBet, controlBalance, controlOwnedShares = Buy(y_test[i], controlBet, controlBalance, controlOwnedShares)\n",
    "    else: # ! Sell\n",
    "        controlBet, controlBalance, controlOwnedShares = Sell(y_test[i], controlBet, controlBalance, controlOwnedShares)\n",
    "\n",
    "# Trading strategy based on price prediction\n",
    "for i in range(len(y_hat)-1):\n",
    "    \n",
    "    currentPrice = y_test[i]\n",
    "    predictedPrice = y_hat[i+1]\n",
    "    difference = predictedPrice - currentPrice\n",
    "    percentageChange = difference / currentPrice\n",
    "\n",
    "    # No sentiment\n",
    "    if (abs(percentageChange) < actionThreshold): # ! Hold\n",
    "        pass\n",
    "    elif (currentPrice < predictedPrice): # ! Buy\n",
    "        bet, balance, ownedShares = Buy(y_test[i], bet, balance, ownedShares)\n",
    "    elif (currentPrice > predictedPrice): # ! Sell\n",
    "        bet, balance, ownedShares = Sell(y_test[i], bet, balance, ownedShares)\n",
    "\n",
    "controlTotalShareValue = controlOwnedShares * y_test[-1]\n",
    "controlFinalBalance = controlBalance + controlTotalShareValue\n",
    "controlProfit = controlFinalBalance-initialBalance\n",
    "controlBalancePercentageChange = ((controlFinalBalance-initialBalance)/initialBalance) * 100\n",
    "\n",
    "totalShareValue = ownedShares * y_test[-1]\n",
    "finalBalance = balance + totalShareValue\n",
    "profit = finalBalance-initialBalance\n",
    "balancePercentageChange = ((finalBalance-initialBalance)/initialBalance) * 100\n",
    "\n",
    "pricePercentageChange = ((y_test[-1]-y_test[0])/y_test[0]) * 100\n",
    "\n",
    "print(\"----------------------------------------------------------------\")\n",
    "\n",
    "print(\"Trading over \" + str(y_hat.shape[0]) + \" days\")\n",
    "print(\"Initial Balance: $\" + str(initialBalance))\n",
    "\n",
    "print(\"----------------------------------------------------------------\")\n",
    "\n",
    "print(\"Random Trading Strategy\")\n",
    "# print(\"Final Balance: $\" + str(controlFinalBalance))\n",
    "print(\"Profit: $\" + str(controlProfit))\n",
    "print(\"Balance Percentage Change: \" + str(controlBalancePercentageChange) + \"%\")\n",
    "\n",
    "print(\"----------------------------------------------------------------\")\n",
    "\n",
    "print(\"Buying on day one and holding\")\n",
    "print(\"Profit: $\" + str(initialBalance * (pricePercentageChange/100)))\n",
    "print(\"Balance Percentage Change: \" + str(pricePercentageChange) + \"%\")\n",
    "\n",
    "print(\"----------------------------------------------------------------\")\n",
    "\n",
    "print(\"Trading strategy based on price predictions\")\n",
    "# print(\"Final Balance: $\" + str(finalBalance))\n",
    "print(\"Profit: $\" + str(profit))\n",
    "print(\"Balance Percentage Change: \" + str(balancePercentageChange) + \"%\")\n",
    "\n",
    "print(\"----------------------------------------------------------------\")"
   ]
  }
 ],
 "metadata": {
  "kernelspec": {
   "display_name": "Python 3.9.13 64-bit",
   "language": "python",
   "name": "python3"
  },
  "language_info": {
   "codemirror_mode": {
    "name": "ipython",
    "version": 3
   },
   "file_extension": ".py",
   "mimetype": "text/x-python",
   "name": "python",
   "nbconvert_exporter": "python",
   "pygments_lexer": "ipython3",
   "version": "3.10.6"
  },
  "orig_nbformat": 4,
  "vscode": {
   "interpreter": {
    "hash": "aee8b7b246df8f9039afb4144a1f6fd8d2ca17a180786b69acc140d282b71a49"
   }
  }
 },
 "nbformat": 4,
 "nbformat_minor": 2
}
