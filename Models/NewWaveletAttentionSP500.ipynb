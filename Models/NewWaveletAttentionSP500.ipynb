{
 "cells": [
  {
   "cell_type": "markdown",
   "metadata": {},
   "source": [
    "# S&P 500 Price Prediction LSTM with New Input using Wavelet Transforms and an Attention Mechanism"
   ]
  },
  {
   "cell_type": "markdown",
   "metadata": {},
   "source": [
    "### Imports"
   ]
  },
  {
   "cell_type": "code",
   "execution_count": 1,
   "metadata": {},
   "outputs": [],
   "source": [
    "import pandas as pd\n",
    "import numpy as np\n",
    "from sklearn.preprocessing import StandardScaler, MinMaxScaler\n",
    "import pywt\n",
    "from keras.models import Sequential\n",
    "from keras.layers import LSTM, Dense\n",
    "from keras.optimizers import Adam\n",
    "from keras import metrics\n",
    "import keras.utils.vis_utils\n",
    "from attention import Attention\n",
    "from importlib import reload\n",
    "reload(keras.utils.vis_utils)\n",
    "from keras.utils.vis_utils import plot_model\n",
    "from keras import backend as K\n",
    "import matplotlib.pyplot as plt\n",
    "from random import randint"
   ]
  },
  {
   "cell_type": "markdown",
   "metadata": {},
   "source": [
    "### Load Dataset"
   ]
  },
  {
   "cell_type": "code",
   "execution_count": 2,
   "metadata": {},
   "outputs": [],
   "source": [
    "df = pd.read_csv(\"./Datasets/S&P500.csv\")"
   ]
  },
  {
   "cell_type": "markdown",
   "metadata": {},
   "source": [
    "### Check Dataset is Clean"
   ]
  },
  {
   "cell_type": "code",
   "execution_count": 3,
   "metadata": {},
   "outputs": [
    {
     "name": "stdout",
     "output_type": "stream",
     "text": [
      "Dataset is clean!\n"
     ]
    }
   ],
   "source": [
    "nulls = df.isnull().sum().sum() + df.isna().sum().sum()\n",
    "boolSeries = df.duplicated().to_numpy()\n",
    "if ((boolSeries.sum() == 0) and (nulls == 0)):\n",
    "    print('Dataset is clean!')\n",
    "else:\n",
    "    print('Dataset is unclean!')"
   ]
  },
  {
   "cell_type": "markdown",
   "metadata": {},
   "source": [
    "### Split Dataset"
   ]
  },
  {
   "cell_type": "code",
   "execution_count": 4,
   "metadata": {},
   "outputs": [],
   "source": [
    "splitDate = '2019-05-16'\n",
    "trainingDataUnscaled = df[df['Date'] <= splitDate].copy()\n",
    "trainingDataUnscaled.drop(['Date', 'Adj Close'], axis=1, inplace=True)"
   ]
  },
  {
   "cell_type": "markdown",
   "metadata": {},
   "source": [
    "### Data Scaling"
   ]
  },
  {
   "cell_type": "code",
   "execution_count": 5,
   "metadata": {},
   "outputs": [],
   "source": [
    "scaler = StandardScaler()\n",
    "anotherScaler = MinMaxScaler()\n",
    "trainingDataStandardised = scaler.fit_transform(trainingDataUnscaled)\n",
    "trainingDataNormalised = anotherScaler.fit_transform(trainingDataStandardised)"
   ]
  },
  {
   "cell_type": "markdown",
   "metadata": {},
   "source": [
    "### Wavelet Transform"
   ]
  },
  {
   "cell_type": "code",
   "execution_count": 6,
   "metadata": {},
   "outputs": [],
   "source": [
    "# Three decomposition layers of Coiflet 3 wavelet transform\n",
    "def WaveletTransform(data, levels, threshold=0.63, wavelet='coif3'):\n",
    "    reconstructedData = pd.DataFrame()\n",
    "    for i in range(data.shape[1]):\n",
    "        threshold = threshold * np.nanmax(data[:,i])\n",
    "        coefficients = pywt.wavedec(data[:,i], wavelet, mode='per', level=levels)\n",
    "        coefficients[1:] = (pywt.threshold(i, value=threshold, mode='soft') for i in coefficients[1:])\n",
    "        reconstructedColumn = pywt.waverec(coefficients, wavelet, mode='per')\n",
    "        reconstructedData = pd.concat([reconstructedData, pd.DataFrame(reconstructedColumn)], axis=1)\n",
    "    return reconstructedData\n",
    "\n",
    "trainingData = np.array(WaveletTransform(trainingDataNormalised, 3))"
   ]
  },
  {
   "cell_type": "markdown",
   "metadata": {},
   "source": [
    "### Build Training Input and Output Series"
   ]
  },
  {
   "cell_type": "code",
   "execution_count": 7,
   "metadata": {},
   "outputs": [
    {
     "name": "stdout",
     "output_type": "stream",
     "text": [
      "(4414, 365, 10)\n",
      "(4414,)\n"
     ]
    }
   ],
   "source": [
    "exposureSize = 365\n",
    "\n",
    "X_train = []\n",
    "y_train = []\n",
    "\n",
    "for i in range(exposureSize, trainingDataNormalised.shape[0]):\n",
    "    X_train.append(np.concatenate([trainingDataNormalised[i-exposureSize:i], trainingData[i-exposureSize:i]], axis=1))\n",
    "    y_train.append(trainingDataNormalised[i, 0])\n",
    "\n",
    "X_train, y_train = np.array(X_train), np.array(y_train)\n",
    "\n",
    "print(X_train.shape)\n",
    "print(y_train.shape)"
   ]
  },
  {
   "cell_type": "markdown",
   "metadata": {},
   "source": [
    "### Build Test Input and Output Series"
   ]
  },
  {
   "cell_type": "code",
   "execution_count": 8,
   "metadata": {},
   "outputs": [
    {
     "name": "stdout",
     "output_type": "stream",
     "text": [
      "(125, 365, 10)\n",
      "(125,)\n"
     ]
    }
   ],
   "source": [
    "testData = df[df['Date'] > splitDate].copy()\n",
    "previousDays = trainingDataUnscaled.tail(exposureSize)\n",
    "testInputs = pd.concat([previousDays, testData], ignore_index=True)\n",
    "dates = testData['Date'].copy()\n",
    "testInputs.drop(['Date', 'Adj Close'], axis=1, inplace=True)\n",
    "\n",
    "testInputsStandardised = scaler.transform(testInputs)\n",
    "testInputsNormalised = anotherScaler.transform(testInputsStandardised)\n",
    "testInputsTransformed = np.array(WaveletTransform(testInputsNormalised, 3))\n",
    "\n",
    "X_test = []\n",
    "y_test = []\n",
    "\n",
    "for i in range(exposureSize, testInputs.shape[0]):\n",
    "    X_test.append(np.concatenate([testInputsNormalised[i-exposureSize:i], testInputsTransformed[i-exposureSize:i]], axis=1))\n",
    "    y_test.append(testInputsNormalised[i, 0])\n",
    "\n",
    "X_test, y_test = np.array(X_test), np.array(y_test)\n",
    "\n",
    "print(X_test.shape)\n",
    "print(y_test.shape)"
   ]
  },
  {
   "cell_type": "markdown",
   "metadata": {},
   "source": [
    "### Coefficient of Determination Function"
   ]
  },
  {
   "cell_type": "code",
   "execution_count": 9,
   "metadata": {},
   "outputs": [],
   "source": [
    "# REF: https://jmlb.github.io/ml/2017/03/20/CoeffDetermination_CustomMetric4Keras/\n",
    "def coefficient_of_determination(y_true, y_pred):\n",
    "    SS_res =  K.sum(K.square( y_true-y_pred )) \n",
    "    SS_tot = K.sum(K.square( y_true - K.mean(y_true) ) ) \n",
    "    return ( 1 - SS_res/(SS_tot + K.epsilon()) )"
   ]
  },
  {
   "cell_type": "markdown",
   "metadata": {},
   "source": [
    "### Define Model"
   ]
  },
  {
   "cell_type": "code",
   "execution_count": 10,
   "metadata": {},
   "outputs": [
    {
     "name": "stderr",
     "output_type": "stream",
     "text": [
      "2022-08-18 14:03:35.599463: I tensorflow/core/platform/cpu_feature_guard.cc:193] This TensorFlow binary is optimized with oneAPI Deep Neural Network Library (oneDNN) to use the following CPU instructions in performance-critical operations:  AVX2 FMA\n",
      "To enable them in other operations, rebuild TensorFlow with the appropriate compiler flags.\n"
     ]
    },
    {
     "name": "stdout",
     "output_type": "stream",
     "text": [
      "Model: \"sequential\"\n",
      "_________________________________________________________________\n",
      " Layer (type)                Output Shape              Param #   \n",
      "=================================================================\n",
      " lstm (LSTM)                 (None, 365, 50)           12200     \n",
      "                                                                 \n",
      " attention (Attention)       (None, 16)                4100      \n",
      "                                                                 \n",
      " dense (Dense)               (None, 1)                 17        \n",
      "                                                                 \n",
      "=================================================================\n",
      "Total params: 16,317\n",
      "Trainable params: 16,317\n",
      "Non-trainable params: 0\n",
      "_________________________________________________________________\n",
      "None\n"
     ]
    },
    {
     "data": {
      "image/png": "[encoded data removed]",
      "text/plain": [
       "<IPython.core.display.Image object>"
      ]
     },
     "execution_count": 10,
     "metadata": {},
     "output_type": "execute_result"
    }
   ],
   "source": [
    "model = Sequential()\n",
    "model.add(LSTM(50, input_shape=(X_train.shape[1], X_train.shape[2]), return_sequences=True))\n",
    "model.add(Attention(units=16))\n",
    "model.add(Dense(1))\n",
    "optimiser = Adam(learning_rate=0.01)\n",
    "model.compile(loss='mae', optimizer=optimiser, metrics=[metrics.MeanAbsoluteError(), metrics.MeanSquaredError(), metrics.RootMeanSquaredError(), coefficient_of_determination])\n",
    "print(model.summary())\n",
    "plot_model(model, to_file='./WaveletSP500Model.png', show_shapes=True)"
   ]
  },
  {
   "cell_type": "markdown",
   "metadata": {},
   "source": [
    "### Train Model"
   ]
  },
  {
   "cell_type": "code",
   "execution_count": 11,
   "metadata": {},
   "outputs": [
    {
     "name": "stdout",
     "output_type": "stream",
     "text": [
      "Epoch 1/16\n"
     ]
    },
    {
     "name": "stderr",
     "output_type": "stream",
     "text": [
      "2022-08-18 14:03:38.466096: W tensorflow/core/grappler/costs/op_level_cost_estimator.cc:690] Error in PredictCost() for the op: op: \"Softmax\" attr { key: \"T\" value { type: DT_FLOAT } } inputs { dtype: DT_FLOAT shape { unknown_rank: true } } device { type: \"CPU\" vendor: \"GenuineIntel\" model: \"110\" frequency: 2400 num_cores: 16 environment { key: \"cpu_instruction_set\" value: \"SSE, SSE2, SSE3, SSSE3, SSE4.1, SSE4.2\" } environment { key: \"eigen\" value: \"3.4.90\" } l1_cache_size: 32768 l2_cache_size: 262144 l3_cache_size: 16777216 memory_size: 268435456 } outputs { dtype: DT_FLOAT shape { unknown_rank: true } }\n"
     ]
    },
    {
     "name": "stdout",
     "output_type": "stream",
     "text": [
      "138/138 [==============================] - ETA: 0s - loss: 0.0437 - mean_absolute_error: 0.0437 - mean_squared_error: 0.0126 - root_mean_squared_error: 0.1120 - coefficient_of_determination: 0.7125"
     ]
    },
    {
     "name": "stderr",
     "output_type": "stream",
     "text": [
      "2022-08-18 14:03:53.748615: W tensorflow/core/grappler/costs/op_level_cost_estimator.cc:690] Error in PredictCost() for the op: op: \"Softmax\" attr { key: \"T\" value { type: DT_FLOAT } } inputs { dtype: DT_FLOAT shape { unknown_rank: true } } device { type: \"CPU\" vendor: \"GenuineIntel\" model: \"110\" frequency: 2400 num_cores: 16 environment { key: \"cpu_instruction_set\" value: \"SSE, SSE2, SSE3, SSSE3, SSE4.1, SSE4.2\" } environment { key: \"eigen\" value: \"3.4.90\" } l1_cache_size: 32768 l2_cache_size: 262144 l3_cache_size: 16777216 memory_size: 268435456 } outputs { dtype: DT_FLOAT shape { unknown_rank: true } }\n"
     ]
    },
    {
     "name": "stdout",
     "output_type": "stream",
     "text": [
      "138/138 [==============================] - 17s 109ms/step - loss: 0.0437 - mean_absolute_error: 0.0437 - mean_squared_error: 0.0126 - root_mean_squared_error: 0.1120 - coefficient_of_determination: 0.7125 - val_loss: 0.0462 - val_mean_absolute_error: 0.0462 - val_mean_squared_error: 0.0023 - val_root_mean_squared_error: 0.0475 - val_coefficient_of_determination: -5.8735\n",
      "Epoch 2/16\n",
      "138/138 [==============================] - 11s 81ms/step - loss: 0.0110 - mean_absolute_error: 0.0110 - mean_squared_error: 2.4274e-04 - root_mean_squared_error: 0.0156 - coefficient_of_determination: 0.9952 - val_loss: 0.0401 - val_mean_absolute_error: 0.0401 - val_mean_squared_error: 0.0017 - val_root_mean_squared_error: 0.0412 - val_coefficient_of_determination: -3.8894\n",
      "Epoch 3/16\n",
      "138/138 [==============================] - 12s 84ms/step - loss: 0.0110 - mean_absolute_error: 0.0110 - mean_squared_error: 2.4961e-04 - root_mean_squared_error: 0.0158 - coefficient_of_determination: 0.9953 - val_loss: 0.0162 - val_mean_absolute_error: 0.0162 - val_mean_squared_error: 3.4573e-04 - val_root_mean_squared_error: 0.0186 - val_coefficient_of_determination: -0.0122\n",
      "Epoch 4/16\n",
      "138/138 [==============================] - 12s 88ms/step - loss: 0.0093 - mean_absolute_error: 0.0093 - mean_squared_error: 1.6363e-04 - root_mean_squared_error: 0.0128 - coefficient_of_determination: 0.9968 - val_loss: 0.0494 - val_mean_absolute_error: 0.0494 - val_mean_squared_error: 0.0025 - val_root_mean_squared_error: 0.0502 - val_coefficient_of_determination: -6.4061\n",
      "Epoch 5/16\n",
      "138/138 [==============================] - 12s 88ms/step - loss: 0.0109 - mean_absolute_error: 0.0109 - mean_squared_error: 2.1890e-04 - root_mean_squared_error: 0.0148 - coefficient_of_determination: 0.9960 - val_loss: 0.0273 - val_mean_absolute_error: 0.0273 - val_mean_squared_error: 8.1425e-04 - val_root_mean_squared_error: 0.0285 - val_coefficient_of_determination: -1.3926\n",
      "Epoch 6/16\n",
      "138/138 [==============================] - 12s 89ms/step - loss: 0.0091 - mean_absolute_error: 0.0091 - mean_squared_error: 1.5691e-04 - root_mean_squared_error: 0.0125 - coefficient_of_determination: 0.9969 - val_loss: 0.0065 - val_mean_absolute_error: 0.0065 - val_mean_squared_error: 7.4660e-05 - val_root_mean_squared_error: 0.0086 - val_coefficient_of_determination: 0.8261\n",
      "Epoch 7/16\n",
      "138/138 [==============================] - 13s 92ms/step - loss: 0.0078 - mean_absolute_error: 0.0078 - mean_squared_error: 1.2628e-04 - root_mean_squared_error: 0.0112 - coefficient_of_determination: 0.9975 - val_loss: 0.0121 - val_mean_absolute_error: 0.0121 - val_mean_squared_error: 1.8760e-04 - val_root_mean_squared_error: 0.0137 - val_coefficient_of_determination: 0.4732\n",
      "Epoch 8/16\n",
      "138/138 [==============================] - 13s 93ms/step - loss: 0.0076 - mean_absolute_error: 0.0076 - mean_squared_error: 1.1409e-04 - root_mean_squared_error: 0.0107 - coefficient_of_determination: 0.9979 - val_loss: 0.0054 - val_mean_absolute_error: 0.0054 - val_mean_squared_error: 5.7636e-05 - val_root_mean_squared_error: 0.0076 - val_coefficient_of_determination: 0.8565\n",
      "Epoch 9/16\n",
      "138/138 [==============================] - 13s 97ms/step - loss: 0.0069 - mean_absolute_error: 0.0069 - mean_squared_error: 9.6775e-05 - root_mean_squared_error: 0.0098 - coefficient_of_determination: 0.9981 - val_loss: 0.0117 - val_mean_absolute_error: 0.0117 - val_mean_squared_error: 1.8304e-04 - val_root_mean_squared_error: 0.0135 - val_coefficient_of_determination: 0.4970\n",
      "Epoch 10/16\n",
      "138/138 [==============================] - 14s 99ms/step - loss: 0.0063 - mean_absolute_error: 0.0063 - mean_squared_error: 7.7979e-05 - root_mean_squared_error: 0.0088 - coefficient_of_determination: 0.9985 - val_loss: 0.0331 - val_mean_absolute_error: 0.0331 - val_mean_squared_error: 0.0011 - val_root_mean_squared_error: 0.0336 - val_coefficient_of_determination: -2.3834\n",
      "Epoch 11/16\n",
      "138/138 [==============================] - 15s 106ms/step - loss: 0.0093 - mean_absolute_error: 0.0093 - mean_squared_error: 1.5814e-04 - root_mean_squared_error: 0.0126 - coefficient_of_determination: 0.9969 - val_loss: 0.0048 - val_mean_absolute_error: 0.0048 - val_mean_squared_error: 4.8933e-05 - val_root_mean_squared_error: 0.0070 - val_coefficient_of_determination: 0.8748\n",
      "Epoch 12/16\n",
      "138/138 [==============================] - 15s 105ms/step - loss: 0.0065 - mean_absolute_error: 0.0065 - mean_squared_error: 8.2085e-05 - root_mean_squared_error: 0.0091 - coefficient_of_determination: 0.9984 - val_loss: 0.0086 - val_mean_absolute_error: 0.0086 - val_mean_squared_error: 1.0930e-04 - val_root_mean_squared_error: 0.0105 - val_coefficient_of_determination: 0.7009\n",
      "Epoch 13/16\n",
      "138/138 [==============================] - 15s 110ms/step - loss: 0.0059 - mean_absolute_error: 0.0059 - mean_squared_error: 7.7809e-05 - root_mean_squared_error: 0.0088 - coefficient_of_determination: 0.9985 - val_loss: 0.0087 - val_mean_absolute_error: 0.0087 - val_mean_squared_error: 1.0370e-04 - val_root_mean_squared_error: 0.0102 - val_coefficient_of_determination: 0.6959\n",
      "Epoch 14/16\n",
      "138/138 [==============================] - 15s 106ms/step - loss: 0.0067 - mean_absolute_error: 0.0067 - mean_squared_error: 8.5358e-05 - root_mean_squared_error: 0.0092 - coefficient_of_determination: 0.9984 - val_loss: 0.0151 - val_mean_absolute_error: 0.0151 - val_mean_squared_error: 2.7537e-04 - val_root_mean_squared_error: 0.0166 - val_coefficient_of_determination: 0.1939\n",
      "Epoch 15/16\n",
      "138/138 [==============================] - 15s 106ms/step - loss: 0.0075 - mean_absolute_error: 0.0075 - mean_squared_error: 1.1579e-04 - root_mean_squared_error: 0.0108 - coefficient_of_determination: 0.9977 - val_loss: 0.0103 - val_mean_absolute_error: 0.0103 - val_mean_squared_error: 1.4077e-04 - val_root_mean_squared_error: 0.0119 - val_coefficient_of_determination: 0.6073\n",
      "Epoch 16/16\n",
      "138/138 [==============================] - 15s 111ms/step - loss: 0.0055 - mean_absolute_error: 0.0055 - mean_squared_error: 5.5952e-05 - root_mean_squared_error: 0.0075 - coefficient_of_determination: 0.9989 - val_loss: 0.0048 - val_mean_absolute_error: 0.0048 - val_mean_squared_error: 4.1899e-05 - val_root_mean_squared_error: 0.0065 - val_coefficient_of_determination: 0.9011\n",
      "Epoch 1/12\n",
      "138/138 [==============================] - 16s 113ms/step - loss: 0.0017 - mean_absolute_error: 0.0017 - mean_squared_error: 7.5974e-06 - root_mean_squared_error: 0.0028 - coefficient_of_determination: 0.9999 - val_loss: 0.0101 - val_mean_absolute_error: 0.0101 - val_mean_squared_error: 1.3110e-04 - val_root_mean_squared_error: 0.0114 - val_coefficient_of_determination: 0.6380\n",
      "Epoch 2/12\n",
      "138/138 [==============================] - 15s 112ms/step - loss: 0.0016 - mean_absolute_error: 0.0016 - mean_squared_error: 6.0045e-06 - root_mean_squared_error: 0.0025 - coefficient_of_determination: 0.9999 - val_loss: 0.0053 - val_mean_absolute_error: 0.0053 - val_mean_squared_error: 4.7383e-05 - val_root_mean_squared_error: 0.0069 - val_coefficient_of_determination: 0.8824\n",
      "Epoch 3/12\n",
      "138/138 [==============================] - 16s 114ms/step - loss: 0.0014 - mean_absolute_error: 0.0014 - mean_squared_error: 5.1797e-06 - root_mean_squared_error: 0.0023 - coefficient_of_determination: 0.9999 - val_loss: 0.0053 - val_mean_absolute_error: 0.0053 - val_mean_squared_error: 4.6792e-05 - val_root_mean_squared_error: 0.0068 - val_coefficient_of_determination: 0.8840\n",
      "Epoch 4/12\n",
      "138/138 [==============================] - 16s 119ms/step - loss: 0.0015 - mean_absolute_error: 0.0015 - mean_squared_error: 5.6356e-06 - root_mean_squared_error: 0.0024 - coefficient_of_determination: 0.9999 - val_loss: 0.0067 - val_mean_absolute_error: 0.0067 - val_mean_squared_error: 6.6374e-05 - val_root_mean_squared_error: 0.0081 - val_coefficient_of_determination: 0.8283\n",
      "Epoch 5/12\n",
      "138/138 [==============================] - 16s 114ms/step - loss: 0.0016 - mean_absolute_error: 0.0016 - mean_squared_error: 6.0845e-06 - root_mean_squared_error: 0.0025 - coefficient_of_determination: 0.9999 - val_loss: 0.0071 - val_mean_absolute_error: 0.0071 - val_mean_squared_error: 7.1920e-05 - val_root_mean_squared_error: 0.0085 - val_coefficient_of_determination: 0.8112\n",
      "Epoch 6/12\n",
      "138/138 [==============================] - 16s 117ms/step - loss: 0.0014 - mean_absolute_error: 0.0014 - mean_squared_error: 5.1766e-06 - root_mean_squared_error: 0.0023 - coefficient_of_determination: 0.9999 - val_loss: 0.0084 - val_mean_absolute_error: 0.0084 - val_mean_squared_error: 9.2071e-05 - val_root_mean_squared_error: 0.0096 - val_coefficient_of_determination: 0.7509\n",
      "Epoch 7/12\n",
      "138/138 [==============================] - 17s 124ms/step - loss: 0.0014 - mean_absolute_error: 0.0014 - mean_squared_error: 4.8383e-06 - root_mean_squared_error: 0.0022 - coefficient_of_determination: 0.9999 - val_loss: 0.0048 - val_mean_absolute_error: 0.0048 - val_mean_squared_error: 3.9173e-05 - val_root_mean_squared_error: 0.0063 - val_coefficient_of_determination: 0.9029\n",
      "Epoch 8/12\n",
      "138/138 [==============================] - 16s 115ms/step - loss: 0.0015 - mean_absolute_error: 0.0015 - mean_squared_error: 5.1385e-06 - root_mean_squared_error: 0.0023 - coefficient_of_determination: 0.9999 - val_loss: 0.0048 - val_mean_absolute_error: 0.0048 - val_mean_squared_error: 4.1522e-05 - val_root_mean_squared_error: 0.0064 - val_coefficient_of_determination: 0.8886\n",
      "Epoch 9/12\n",
      "138/138 [==============================] - 16s 117ms/step - loss: 0.0016 - mean_absolute_error: 0.0016 - mean_squared_error: 6.2118e-06 - root_mean_squared_error: 0.0025 - coefficient_of_determination: 0.9999 - val_loss: 0.0041 - val_mean_absolute_error: 0.0041 - val_mean_squared_error: 3.2506e-05 - val_root_mean_squared_error: 0.0057 - val_coefficient_of_determination: 0.9195\n",
      "Epoch 10/12\n",
      "138/138 [==============================] - 15s 112ms/step - loss: 0.0014 - mean_absolute_error: 0.0014 - mean_squared_error: 4.7111e-06 - root_mean_squared_error: 0.0022 - coefficient_of_determination: 0.9999 - val_loss: 0.0054 - val_mean_absolute_error: 0.0054 - val_mean_squared_error: 4.4767e-05 - val_root_mean_squared_error: 0.0067 - val_coefficient_of_determination: 0.8860\n",
      "Epoch 11/12\n",
      "138/138 [==============================] - 16s 117ms/step - loss: 0.0014 - mean_absolute_error: 0.0014 - mean_squared_error: 4.9727e-06 - root_mean_squared_error: 0.0022 - coefficient_of_determination: 0.9999 - val_loss: 0.0070 - val_mean_absolute_error: 0.0070 - val_mean_squared_error: 6.8018e-05 - val_root_mean_squared_error: 0.0082 - val_coefficient_of_determination: 0.8196\n",
      "Epoch 12/12\n",
      "138/138 [==============================] - 16s 118ms/step - loss: 0.0015 - mean_absolute_error: 0.0015 - mean_squared_error: 5.6265e-06 - root_mean_squared_error: 0.0024 - coefficient_of_determination: 0.9999 - val_loss: 0.0043 - val_mean_absolute_error: 0.0043 - val_mean_squared_error: 3.2931e-05 - val_root_mean_squared_error: 0.0057 - val_coefficient_of_determination: 0.9182\n",
      "Epoch 1/8\n",
      "138/138 [==============================] - 17s 123ms/step - loss: 0.0011 - mean_absolute_error: 0.0011 - mean_squared_error: 3.6684e-06 - root_mean_squared_error: 0.0019 - coefficient_of_determination: 0.9999 - val_loss: 0.0055 - val_mean_absolute_error: 0.0055 - val_mean_squared_error: 4.5750e-05 - val_root_mean_squared_error: 0.0068 - val_coefficient_of_determination: 0.8838\n",
      "Epoch 2/8\n",
      "138/138 [==============================] - 17s 121ms/step - loss: 0.0011 - mean_absolute_error: 0.0011 - mean_squared_error: 3.6823e-06 - root_mean_squared_error: 0.0019 - coefficient_of_determination: 0.9999 - val_loss: 0.0051 - val_mean_absolute_error: 0.0051 - val_mean_squared_error: 4.0025e-05 - val_root_mean_squared_error: 0.0063 - val_coefficient_of_determination: 0.8995\n",
      "Epoch 3/8\n",
      "138/138 [==============================] - 17s 125ms/step - loss: 0.0011 - mean_absolute_error: 0.0011 - mean_squared_error: 3.5712e-06 - root_mean_squared_error: 0.0019 - coefficient_of_determination: 0.9999 - val_loss: 0.0052 - val_mean_absolute_error: 0.0052 - val_mean_squared_error: 4.1935e-05 - val_root_mean_squared_error: 0.0065 - val_coefficient_of_determination: 0.8944\n",
      "Epoch 4/8\n",
      "138/138 [==============================] - 17s 124ms/step - loss: 0.0011 - mean_absolute_error: 0.0011 - mean_squared_error: 3.5926e-06 - root_mean_squared_error: 0.0019 - coefficient_of_determination: 0.9999 - val_loss: 0.0053 - val_mean_absolute_error: 0.0053 - val_mean_squared_error: 4.2354e-05 - val_root_mean_squared_error: 0.0065 - val_coefficient_of_determination: 0.8935\n",
      "Epoch 5/8\n",
      "138/138 [==============================] - 17s 126ms/step - loss: 0.0011 - mean_absolute_error: 0.0011 - mean_squared_error: 3.5658e-06 - root_mean_squared_error: 0.0019 - coefficient_of_determination: 0.9999 - val_loss: 0.0053 - val_mean_absolute_error: 0.0053 - val_mean_squared_error: 4.2313e-05 - val_root_mean_squared_error: 0.0065 - val_coefficient_of_determination: 0.8936\n",
      "Epoch 6/8\n",
      "138/138 [==============================] - 17s 124ms/step - loss: 0.0011 - mean_absolute_error: 0.0011 - mean_squared_error: 3.5774e-06 - root_mean_squared_error: 0.0019 - coefficient_of_determination: 0.9999 - val_loss: 0.0059 - val_mean_absolute_error: 0.0059 - val_mean_squared_error: 5.0521e-05 - val_root_mean_squared_error: 0.0071 - val_coefficient_of_determination: 0.8702\n",
      "Epoch 7/8\n",
      "138/138 [==============================] - 18s 130ms/step - loss: 0.0011 - mean_absolute_error: 0.0011 - mean_squared_error: 3.5257e-06 - root_mean_squared_error: 0.0019 - coefficient_of_determination: 0.9999 - val_loss: 0.0047 - val_mean_absolute_error: 0.0047 - val_mean_squared_error: 3.6400e-05 - val_root_mean_squared_error: 0.0060 - val_coefficient_of_determination: 0.9094\n",
      "Epoch 8/8\n",
      "138/138 [==============================] - 18s 130ms/step - loss: 0.0011 - mean_absolute_error: 0.0011 - mean_squared_error: 3.4696e-06 - root_mean_squared_error: 0.0019 - coefficient_of_determination: 0.9999 - val_loss: 0.0051 - val_mean_absolute_error: 0.0051 - val_mean_squared_error: 3.9712e-05 - val_root_mean_squared_error: 0.0063 - val_coefficient_of_determination: 0.9005\n"
     ]
    }
   ],
   "source": [
    "historyOne = model.fit(X_train, y_train, epochs=16, batch_size=32, validation_data=(X_test, y_test), verbose=1)\n",
    "K.set_value(model.optimizer.learning_rate, 0.001)\n",
    "historyTwo = model.fit(X_train, y_train, epochs=12, batch_size=32, validation_data=(X_test, y_test), verbose=1)\n",
    "K.set_value(model.optimizer.learning_rate, 0.0001)\n",
    "historyThree = model.fit(X_train, y_train, epochs=8, batch_size=32, validation_data=(X_test, y_test), verbose=1)"
   ]
  },
  {
   "cell_type": "markdown",
   "metadata": {},
   "source": [
    "### Predict on Test Data"
   ]
  },
  {
   "cell_type": "code",
   "execution_count": 12,
   "metadata": {},
   "outputs": [
    {
     "name": "stdout",
     "output_type": "stream",
     "text": [
      "2/4 [==============>...............] - ETA: 0s"
     ]
    },
    {
     "name": "stderr",
     "output_type": "stream",
     "text": [
      "2022-08-18 14:12:46.399356: W tensorflow/core/grappler/costs/op_level_cost_estimator.cc:690] Error in PredictCost() for the op: op: \"Softmax\" attr { key: \"T\" value { type: DT_FLOAT } } inputs { dtype: DT_FLOAT shape { unknown_rank: true } } device { type: \"CPU\" vendor: \"GenuineIntel\" model: \"110\" frequency: 2400 num_cores: 16 environment { key: \"cpu_instruction_set\" value: \"SSE, SSE2, SSE3, SSSE3, SSE4.1, SSE4.2\" } environment { key: \"eigen\" value: \"3.4.90\" } l1_cache_size: 32768 l2_cache_size: 262144 l3_cache_size: 16777216 memory_size: 268435456 } outputs { dtype: DT_FLOAT shape { unknown_rank: true } }\n"
     ]
    },
    {
     "name": "stdout",
     "output_type": "stream",
     "text": [
      "4/4 [==============================] - 1s 48ms/step\n"
     ]
    }
   ],
   "source": [
    "y_hat = model.predict(X_test)"
   ]
  },
  {
   "cell_type": "markdown",
   "metadata": {},
   "source": [
    "### Unscale Data"
   ]
  },
  {
   "cell_type": "code",
   "execution_count": 13,
   "metadata": {},
   "outputs": [],
   "source": [
    "# Undo normalisation\n",
    "y_test = (y_test * anotherScaler.data_range_[0]) + anotherScaler.data_min_[0]\n",
    "y_hat = (y_hat * anotherScaler.data_range_[0]) + anotherScaler.data_min_[0]\n",
    "# Undo standardisation\n",
    "y_test = (y_test * scaler.scale_[0]) + scaler.mean_[0]\n",
    "y_hat = (y_hat * scaler.scale_[0]) + scaler.mean_[0]"
   ]
  },
  {
   "cell_type": "markdown",
   "metadata": {},
   "source": [
    "### Plot Prediction"
   ]
  },
  {
   "cell_type": "code",
   "execution_count": 14,
   "metadata": {},
   "outputs": [
    {
     "data": {
      "image/png": "[encoded data removed]",
      "text/plain": [
       "<Figure size 1008x360 with 1 Axes>"
      ]
     },
     "metadata": {
      "needs_background": "light"
     },
     "output_type": "display_data"
    }
   ],
   "source": [
    "plt.figure(figsize=(14, 5))\n",
    "plt.plot(y_hat, color='red', label=\"Predicted S&P 500 Open Price ($)\")\n",
    "plt.plot(y_test, color='blue', label=\"Actual S&P 500 Open Price ($)\")\n",
    "plt.title('S&P 500 Open Price Prediction')\n",
    "# plt.xticks(np.arange(dates.shape[0]), dates)\n",
    "xLabel = \"Days since \" + splitDate\n",
    "plt.xlabel(xLabel)\n",
    "plt.ylabel('S&P 500 Open Price ($)')\n",
    "plt.legend()\n",
    "plt.show()"
   ]
  },
  {
   "cell_type": "markdown",
   "metadata": {},
   "source": [
    "### Performance Metrics"
   ]
  },
  {
   "cell_type": "code",
   "execution_count": 15,
   "metadata": {},
   "outputs": [
    {
     "data": {
      "image/png": "[encoded data removed]",
      "text/plain": [
       "<Figure size 1008x360 with 2 Axes>"
      ]
     },
     "metadata": {
      "needs_background": "light"
     },
     "output_type": "display_data"
    }
   ],
   "source": [
    "totalLoss = np.concatenate([historyOne.history['loss'], historyTwo.history['loss'], historyThree.history['loss']])\n",
    "totaValLoss = np.concatenate([historyOne.history['val_loss'], historyTwo.history['val_loss'], historyThree.history['val_loss']])\n",
    "\n",
    "plt.figure(figsize=(14, 5))\n",
    "\n",
    "plt.subplot(1, 2, 1)\n",
    "plt.plot(totalLoss, color='red')\n",
    "plt.axvspan(0, 16, facecolor='black', alpha=0.6, label=\"LR = 0.01\")\n",
    "plt.axvspan(16, 16+12, facecolor='black', alpha=0.4, label=\"LR = 0.001\")\n",
    "plt.axvspan(16+12, 16+12+8, facecolor='black', alpha=0.2, label=\"LR = 0.0001\")\n",
    "plt.xlim(0, 16+12+8)\n",
    "plt.xticks([2*i for i in range(int((16+12+8)/2))], [(2*j)+1 for j in range(int((16+12+8)/2))])\n",
    "plt.xlabel(\"Epoch\")\n",
    "plt.ylabel(\"Mean Absolute Error\")\n",
    "plt.title(\"Loss\")\n",
    "plt.legend()\n",
    "\n",
    "plt.subplot(1, 2, 2)\n",
    "plt.plot(totaValLoss, color='red')\n",
    "plt.axvspan(0, 16, facecolor='black', alpha=0.6, label=\"LR = 0.01\")\n",
    "plt.axvspan(16, 16+12, facecolor='black', alpha=0.4, label=\"LR = 0.001\")\n",
    "plt.axvspan(16+12, 16+12+8, facecolor='black', alpha=0.2, label=\"LR = 0.0001\")\n",
    "plt.xlim(0, 16+12+8)\n",
    "plt.xticks([2*i for i in range(int((16+12+8)/2))], [(2*j)+1 for j in range(int((16+12+8)/2))])\n",
    "plt.xlabel(\"Epoch\")\n",
    "plt.ylabel(\"Mean Absolute Error\")\n",
    "plt.title(\"Validation Loss\")\n",
    "plt.legend()\n",
    "\n",
    "plt.show()"
   ]
  },
  {
   "cell_type": "code",
   "execution_count": 16,
   "metadata": {},
   "outputs": [
    {
     "name": "stdout",
     "output_type": "stream",
     "text": [
      "Mean Absolute Error (MAE): 0.001078142086043954\n",
      "Mean Squared Error (MSE): 3.4695547128649196e-06\n",
      "Root Mean Squared Error (RMSE): 0.0018626740202307701\n",
      "Coefficient of Determination (R2): 0.99993497133255\n"
     ]
    }
   ],
   "source": [
    "mae = historyThree.history['mean_absolute_error']\n",
    "mse = historyThree.history['mean_squared_error']\n",
    "rmse = historyThree.history['root_mean_squared_error']\n",
    "r2 = historyThree.history['coefficient_of_determination']\n",
    "\n",
    "print('Mean Absolute Error (MAE): ' + str(mae[-1]))\n",
    "print('Mean Squared Error (MSE): ' + str(mse[-1]))\n",
    "print('Root Mean Squared Error (RMSE): ' + str(rmse[-1]))\n",
    "print('Coefficient of Determination (R2): ' + str(r2[-1]))"
   ]
  },
  {
   "cell_type": "code",
   "execution_count": 17,
   "metadata": {},
   "outputs": [
    {
     "name": "stdout",
     "output_type": "stream",
     "text": [
      "Validation Mean Absolute Error (MAE): 0.005055399611592293\n",
      "Validation Mean Squared Error (MSE): 3.971182377426885e-05\n",
      "Validation Root Mean Squared Error (RMSE): 0.006301731802523136\n",
      "Validation Coefficient of Determination (R2): 0.9004636406898499\n"
     ]
    }
   ],
   "source": [
    "valmae = historyThree.history['val_mean_absolute_error']\n",
    "valmse = historyThree.history['val_mean_squared_error']\n",
    "valrmse = historyThree.history['val_root_mean_squared_error']\n",
    "valr2 = historyThree.history['val_coefficient_of_determination']\n",
    "\n",
    "print('Validation Mean Absolute Error (MAE): ' + str(valmae[-1]))\n",
    "print('Validation Mean Squared Error (MSE): ' + str(valmse[-1]))\n",
    "print('Validation Root Mean Squared Error (RMSE): ' + str(valrmse[-1]))\n",
    "print('Validation Coefficient of Determination (R2): ' + str(valr2[-1]))"
   ]
  },
  {
   "cell_type": "markdown",
   "metadata": {},
   "source": [
    "### Trading Strategy"
   ]
  },
  {
   "cell_type": "code",
   "execution_count": 18,
   "metadata": {},
   "outputs": [
    {
     "name": "stdout",
     "output_type": "stream",
     "text": [
      "----------------------------------------------------------------\n",
      "Trading over 125 days\n",
      "Initial Balance: $1000000\n",
      "----------------------------------------------------------------\n",
      "Random Trading Strategy\n",
      "Profit: $39399.594184458605\n",
      "Balance Percentage Change: 3.9399594184458606%\n",
      "----------------------------------------------------------------\n",
      "Buying on day one and holding\n",
      "Profit: $199619.67847085418\n",
      "Balance Percentage Change: 19.96196784708542%\n",
      "----------------------------------------------------------------\n",
      "Trading strategy based on price predictions\n",
      "Profit: $268340.5632773058\n",
      "Balance Percentage Change: 26.834056327730583%\n",
      "----------------------------------------------------------------\n"
     ]
    }
   ],
   "source": [
    "initialBalance = 1000000\n",
    "actionThreshold = 0.01\n",
    "sentimentInfluence = 0.005\n",
    "betProportion = 1\n",
    "\n",
    "# Random strategy\n",
    "controlBalance = initialBalance\n",
    "controlOwnedShares = 0\n",
    "controlBet = controlBalance / betProportion\n",
    "controlBuyOrders = 0\n",
    "controlSellOrders = 0\n",
    "\n",
    "# Trading the price predictions\n",
    "balance = initialBalance\n",
    "ownedShares = 0\n",
    "bet = balance / betProportion\n",
    "buyOrders = 0\n",
    "sellOrders = 0\n",
    "\n",
    "def Buy(price, bet, balance, ownedShares):\n",
    "    if (balance > 0):\n",
    "            numShares = 0\n",
    "            if (balance >= bet):\n",
    "                numShares = bet / price\n",
    "                balance -= bet\n",
    "                ownedShares += numShares\n",
    "            else:\n",
    "                numShares = balance / price\n",
    "                balance = 0\n",
    "                ownedShares += numShares\n",
    "            # print(\"BUY - \" + str(numShares) + \" shares at $\" + str(price))\n",
    "            bet = (balance + (ownedShares * price)) / betProportion\n",
    "    return bet, balance, ownedShares\n",
    "\n",
    "def Sell(price, bet, balance, ownedShares):\n",
    "    if (ownedShares > 0):\n",
    "        numShares = bet / price\n",
    "        if (ownedShares >= numShares):\n",
    "            balance += bet\n",
    "            ownedShares -= numShares\n",
    "            # print(\"SELL - \" + str(numShares) + \" shares at $\" + str(price))\n",
    "        else:\n",
    "            value = ownedShares * price\n",
    "            balance += value\n",
    "            ownedShares = 0\n",
    "            # print(\"SELL - \" + str(ownedShares) + \" shares at $\" + str(price))\n",
    "        bet = (balance + (ownedShares * price)) / betProportion\n",
    "    return bet, balance, ownedShares\n",
    "\n",
    "# Random trading strategy\n",
    "for i in range(len(y_hat)-1):\n",
    "    if (randint(0, 1) == 0): # ! Buy\n",
    "        controlBet, controlBalance, controlOwnedShares = Buy(y_test[i], controlBet, controlBalance, controlOwnedShares)\n",
    "    else: # ! Sell\n",
    "        controlBet, controlBalance, controlOwnedShares = Sell(y_test[i], controlBet, controlBalance, controlOwnedShares)\n",
    "\n",
    "# Trading strategy based on price prediction\n",
    "for i in range(len(y_hat)-1):\n",
    "    \n",
    "    currentPrice = y_test[i]\n",
    "    predictedPrice = y_hat[i+1]\n",
    "    difference = predictedPrice - currentPrice\n",
    "    percentageChange = difference / currentPrice\n",
    "\n",
    "    # No sentiment\n",
    "    if (abs(percentageChange) < actionThreshold): # ! Hold\n",
    "        pass\n",
    "    elif (currentPrice < predictedPrice): # ! Buy\n",
    "        bet, balance, ownedShares = Buy(y_test[i], bet, balance, ownedShares)\n",
    "    elif (currentPrice > predictedPrice): # ! Sell\n",
    "        bet, balance, ownedShares = Sell(y_test[i], bet, balance, ownedShares)\n",
    "\n",
    "controlTotalShareValue = controlOwnedShares * y_test[-1]\n",
    "controlFinalBalance = controlBalance + controlTotalShareValue\n",
    "controlProfit = controlFinalBalance-initialBalance\n",
    "controlBalancePercentageChange = ((controlFinalBalance-initialBalance)/initialBalance) * 100\n",
    "\n",
    "totalShareValue = ownedShares * y_test[-1]\n",
    "finalBalance = balance + totalShareValue\n",
    "profit = finalBalance-initialBalance\n",
    "balancePercentageChange = ((finalBalance-initialBalance)/initialBalance) * 100\n",
    "\n",
    "pricePercentageChange = ((y_test[-1]-y_test[0])/y_test[0]) * 100\n",
    "\n",
    "print(\"----------------------------------------------------------------\")\n",
    "\n",
    "print(\"Trading over \" + str(y_hat.shape[0]) + \" days\")\n",
    "print(\"Initial Balance: $\" + str(initialBalance))\n",
    "\n",
    "print(\"----------------------------------------------------------------\")\n",
    "\n",
    "print(\"Random Trading Strategy\")\n",
    "# print(\"Final Balance: $\" + str(controlFinalBalance))\n",
    "print(\"Profit: $\" + str(controlProfit))\n",
    "print(\"Balance Percentage Change: \" + str(controlBalancePercentageChange) + \"%\")\n",
    "\n",
    "print(\"----------------------------------------------------------------\")\n",
    "\n",
    "print(\"Buying on day one and holding\")\n",
    "print(\"Profit: $\" + str(initialBalance * (pricePercentageChange/100)))\n",
    "print(\"Balance Percentage Change: \" + str(pricePercentageChange) + \"%\")\n",
    "\n",
    "print(\"----------------------------------------------------------------\")\n",
    "\n",
    "print(\"Trading strategy based on price predictions\")\n",
    "# print(\"Final Balance: $\" + str(finalBalance))\n",
    "print(\"Profit: $\" + str(profit))\n",
    "print(\"Balance Percentage Change: \" + str(balancePercentageChange) + \"%\")\n",
    "\n",
    "print(\"----------------------------------------------------------------\")"
   ]
  }
 ],
 "metadata": {
  "kernelspec": {
   "display_name": "Python 3.9.13 64-bit",
   "language": "python",
   "name": "python3"
  },
  "language_info": {
   "codemirror_mode": {
    "name": "ipython",
    "version": 3
   },
   "file_extension": ".py",
   "mimetype": "text/x-python",
   "name": "python",
   "nbconvert_exporter": "python",
   "pygments_lexer": "ipython3",
   "version": "3.10.6"
  },
  "orig_nbformat": 4,
  "vscode": {
   "interpreter": {
    "hash": "aee8b7b246df8f9039afb4144a1f6fd8d2ca17a180786b69acc140d282b71a49"
   }
  }
 },
 "nbformat": 4,
 "nbformat_minor": 2
}
