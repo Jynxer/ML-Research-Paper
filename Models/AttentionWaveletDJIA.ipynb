{
 "cells": [
  {
   "cell_type": "markdown",
   "metadata": {},
   "source": [
    "# DJIA Price Prediction LSTM with Wavelet Transforms and an Attention Mechanism"
   ]
  },
  {
   "cell_type": "markdown",
   "metadata": {},
   "source": [
    "### Imports"
   ]
  },
  {
   "cell_type": "code",
   "execution_count": 1,
   "metadata": {},
   "outputs": [],
   "source": [
    "import pandas as pd\n",
    "import numpy as np\n",
    "from sklearn.preprocessing import StandardScaler, MinMaxScaler\n",
    "import pywt\n",
    "from keras.models import Sequential\n",
    "from keras.layers import LSTM, Dense\n",
    "from attention import Attention\n",
    "from keras.optimizers import Adam\n",
    "from keras import metrics\n",
    "import keras.utils.vis_utils\n",
    "from importlib import reload\n",
    "reload(keras.utils.vis_utils)\n",
    "from keras.utils.vis_utils import plot_model\n",
    "from keras import backend as K\n",
    "import matplotlib.pyplot as plt\n",
    "from random import randint"
   ]
  },
  {
   "cell_type": "markdown",
   "metadata": {},
   "source": [
    "### Load Dataset"
   ]
  },
  {
   "cell_type": "code",
   "execution_count": 2,
   "metadata": {},
   "outputs": [],
   "source": [
    "df = pd.read_csv(\"./Datasets/DJIA.csv\")"
   ]
  },
  {
   "cell_type": "markdown",
   "metadata": {},
   "source": [
    "### Check Dataset is Clean"
   ]
  },
  {
   "cell_type": "code",
   "execution_count": 3,
   "metadata": {},
   "outputs": [
    {
     "name": "stdout",
     "output_type": "stream",
     "text": [
      "Dataset is clean!\n"
     ]
    }
   ],
   "source": [
    "nulls = df.isnull().sum().sum() + df.isna().sum().sum()\n",
    "boolSeries = df.duplicated().to_numpy()\n",
    "if ((boolSeries.sum() == 0) and (nulls == 0)):\n",
    "    print('Dataset is clean!')\n",
    "else:\n",
    "    print('Dataset is unclean!')"
   ]
  },
  {
   "cell_type": "markdown",
   "metadata": {},
   "source": [
    "### Split Dataset"
   ]
  },
  {
   "cell_type": "code",
   "execution_count": 4,
   "metadata": {},
   "outputs": [],
   "source": [
    "splitDate = '2019-05-16'\n",
    "trainingDataUnscaled = df[df['Date'] <= splitDate].copy()\n",
    "trainingDataUnscaled.drop(['Date', 'Adj Close'], axis=1, inplace=True)"
   ]
  },
  {
   "cell_type": "markdown",
   "metadata": {},
   "source": [
    "### Data Scaling"
   ]
  },
  {
   "cell_type": "code",
   "execution_count": 5,
   "metadata": {},
   "outputs": [],
   "source": [
    "scaler = StandardScaler()\n",
    "anotherScaler = MinMaxScaler()\n",
    "trainingDataStandardised = scaler.fit_transform(trainingDataUnscaled)\n",
    "trainingDataNormalised = anotherScaler.fit_transform(trainingDataStandardised)"
   ]
  },
  {
   "cell_type": "markdown",
   "metadata": {},
   "source": [
    "### Wavelet Transform"
   ]
  },
  {
   "cell_type": "code",
   "execution_count": 6,
   "metadata": {},
   "outputs": [],
   "source": [
    "# Three decomposition layers of Coiflet 3 wavelet transform\n",
    "def WaveletTransform(data, levels, threshold=0.63, wavelet='coif3'):\n",
    "    reconstructedData = pd.DataFrame()\n",
    "    for i in range(data.shape[1]):\n",
    "        threshold = threshold * np.nanmax(data[:,i])\n",
    "        coefficients = pywt.wavedec(data[:,i], wavelet, mode='per', level=levels)\n",
    "        coefficients[1:] = (pywt.threshold(i, value=threshold, mode='soft') for i in coefficients[1:])\n",
    "        reconstructedColumn = pywt.waverec(coefficients, wavelet, mode='per')\n",
    "        reconstructedData = pd.concat([reconstructedData, pd.DataFrame(reconstructedColumn)], axis=1)\n",
    "    return reconstructedData\n",
    "\n",
    "trainingData = np.array(WaveletTransform(trainingDataNormalised, 3))"
   ]
  },
  {
   "cell_type": "markdown",
   "metadata": {},
   "source": [
    "### Build Training Input and Output Series"
   ]
  },
  {
   "cell_type": "code",
   "execution_count": 7,
   "metadata": {},
   "outputs": [
    {
     "name": "stdout",
     "output_type": "stream",
     "text": [
      "(4415, 365, 5)\n",
      "(4415,)\n"
     ]
    }
   ],
   "source": [
    "exposureSize = 365\n",
    "\n",
    "X_train = []\n",
    "y_train = []\n",
    "\n",
    "for i in range(exposureSize, trainingData.shape[0]):\n",
    "    X_train.append(trainingData[i-exposureSize:i])\n",
    "    y_train.append(trainingData[i, 0])\n",
    "\n",
    "X_train, y_train = np.array(X_train), np.array(y_train)\n",
    "\n",
    "print(X_train.shape)\n",
    "print(y_train.shape)"
   ]
  },
  {
   "cell_type": "markdown",
   "metadata": {},
   "source": [
    "### Build Test Input and Output Series"
   ]
  },
  {
   "cell_type": "code",
   "execution_count": 8,
   "metadata": {},
   "outputs": [
    {
     "name": "stdout",
     "output_type": "stream",
     "text": [
      "(125, 365, 5)\n",
      "(125,)\n"
     ]
    }
   ],
   "source": [
    "testData = df[df['Date'] > splitDate].copy()\n",
    "previousDays = trainingDataUnscaled.tail(exposureSize)\n",
    "testInputs = pd.concat([previousDays, testData], ignore_index=True)\n",
    "dates = testData['Date'].copy()\n",
    "testInputs.drop(['Date', 'Adj Close'], axis=1, inplace=True)\n",
    "\n",
    "testInputsStandardised = scaler.transform(testInputs)\n",
    "testInputsNormalised = anotherScaler.transform(testInputsStandardised)\n",
    "\n",
    "X_test = []\n",
    "y_test = []\n",
    "\n",
    "for i in range(exposureSize, testInputs.shape[0]):\n",
    "    X_test.append(testInputsNormalised[i-exposureSize:i])\n",
    "    y_test.append(testInputsNormalised[i, 0])\n",
    "\n",
    "X_test, y_test = np.array(X_test), np.array(y_test)\n",
    "\n",
    "print(X_test.shape)\n",
    "print(y_test.shape)"
   ]
  },
  {
   "cell_type": "markdown",
   "metadata": {},
   "source": [
    "### Coefficient of Determination Function"
   ]
  },
  {
   "cell_type": "code",
   "execution_count": 9,
   "metadata": {},
   "outputs": [],
   "source": [
    "# REF: https://jmlb.github.io/ml/2017/03/20/CoeffDetermination_CustomMetric4Keras/\n",
    "def coefficient_of_determination(y_true, y_pred):\n",
    "    SS_res =  K.sum(K.square( y_true-y_pred )) \n",
    "    SS_tot = K.sum(K.square( y_true - K.mean(y_true) ) ) \n",
    "    return ( 1 - SS_res/(SS_tot + K.epsilon()) )"
   ]
  },
  {
   "cell_type": "markdown",
   "metadata": {},
   "source": [
    "### Define Model"
   ]
  },
  {
   "cell_type": "code",
   "execution_count": 10,
   "metadata": {},
   "outputs": [
    {
     "name": "stderr",
     "output_type": "stream",
     "text": [
      "2022-08-17 16:34:07.486720: I tensorflow/core/platform/cpu_feature_guard.cc:193] This TensorFlow binary is optimized with oneAPI Deep Neural Network Library (oneDNN) to use the following CPU instructions in performance-critical operations:  AVX2 FMA\n",
      "To enable them in other operations, rebuild TensorFlow with the appropriate compiler flags.\n"
     ]
    },
    {
     "name": "stdout",
     "output_type": "stream",
     "text": [
      "Model: \"sequential\"\n",
      "_________________________________________________________________\n",
      " Layer (type)                Output Shape              Param #   \n",
      "=================================================================\n",
      " lstm (LSTM)                 (None, 365, 50)           11200     \n",
      "                                                                 \n",
      " attention (Attention)       (None, 16)                4100      \n",
      "                                                                 \n",
      " dense (Dense)               (None, 1)                 17        \n",
      "                                                                 \n",
      "=================================================================\n",
      "Total params: 15,317\n",
      "Trainable params: 15,317\n",
      "Non-trainable params: 0\n",
      "_________________________________________________________________\n",
      "None\n"
     ]
    },
    {
     "data": {
      "image/png": "[encoded data removed]",
      "text/plain": [
       "<IPython.core.display.Image object>"
      ]
     },
     "execution_count": 10,
     "metadata": {},
     "output_type": "execute_result"
    }
   ],
   "source": [
    "model = Sequential()\n",
    "model.add(LSTM(50, input_shape=(X_train.shape[1], X_train.shape[2]), return_sequences=True))\n",
    "model.add(Attention(units=16))\n",
    "model.add(Dense(1))\n",
    "optimiser = Adam(learning_rate=0.01)\n",
    "model.compile(loss='mae', optimizer=optimiser, metrics=[metrics.MeanAbsoluteError(), metrics.MeanSquaredError(), metrics.RootMeanSquaredError(), coefficient_of_determination])\n",
    "print(model.summary())\n",
    "plot_model(model, to_file='./AttentionWaveletDJIAModel.png', show_shapes=True)"
   ]
  },
  {
   "cell_type": "markdown",
   "metadata": {},
   "source": [
    "### Train Model"
   ]
  },
  {
   "cell_type": "code",
   "execution_count": 11,
   "metadata": {},
   "outputs": [
    {
     "name": "stdout",
     "output_type": "stream",
     "text": [
      "Epoch 1/16\n"
     ]
    },
    {
     "name": "stderr",
     "output_type": "stream",
     "text": [
      "2022-08-17 16:34:10.590711: W tensorflow/core/grappler/costs/op_level_cost_estimator.cc:690] Error in PredictCost() for the op: op: \"Softmax\" attr { key: \"T\" value { type: DT_FLOAT } } inputs { dtype: DT_FLOAT shape { unknown_rank: true } } device { type: \"CPU\" vendor: \"GenuineIntel\" model: \"110\" frequency: 2400 num_cores: 16 environment { key: \"cpu_instruction_set\" value: \"SSE, SSE2, SSE3, SSSE3, SSE4.1, SSE4.2\" } environment { key: \"eigen\" value: \"3.4.90\" } l1_cache_size: 32768 l2_cache_size: 262144 l3_cache_size: 16777216 memory_size: 268435456 } outputs { dtype: DT_FLOAT shape { unknown_rank: true } }\n"
     ]
    },
    {
     "name": "stdout",
     "output_type": "stream",
     "text": [
      "138/138 [==============================] - ETA: 0s - loss: 0.0336 - mean_absolute_error: 0.0336 - mean_squared_error: 0.0104 - root_mean_squared_error: 0.1021 - coefficient_of_determination: 0.8220"
     ]
    },
    {
     "name": "stderr",
     "output_type": "stream",
     "text": [
      "2022-08-17 16:34:25.181371: W tensorflow/core/grappler/costs/op_level_cost_estimator.cc:690] Error in PredictCost() for the op: op: \"Softmax\" attr { key: \"T\" value { type: DT_FLOAT } } inputs { dtype: DT_FLOAT shape { unknown_rank: true } } device { type: \"CPU\" vendor: \"GenuineIntel\" model: \"110\" frequency: 2400 num_cores: 16 environment { key: \"cpu_instruction_set\" value: \"SSE, SSE2, SSE3, SSSE3, SSE4.1, SSE4.2\" } environment { key: \"eigen\" value: \"3.4.90\" } l1_cache_size: 32768 l2_cache_size: 262144 l3_cache_size: 16777216 memory_size: 268435456 } outputs { dtype: DT_FLOAT shape { unknown_rank: true } }\n"
     ]
    },
    {
     "name": "stdout",
     "output_type": "stream",
     "text": [
      "138/138 [==============================] - 17s 103ms/step - loss: 0.0336 - mean_absolute_error: 0.0336 - mean_squared_error: 0.0104 - root_mean_squared_error: 0.1021 - coefficient_of_determination: 0.8220 - val_loss: 0.0165 - val_mean_absolute_error: 0.0165 - val_mean_squared_error: 3.6076e-04 - val_root_mean_squared_error: 0.0190 - val_coefficient_of_determination: -0.2205\n",
      "Epoch 2/16\n",
      "138/138 [==============================] - 13s 94ms/step - loss: 0.0118 - mean_absolute_error: 0.0118 - mean_squared_error: 2.9660e-04 - root_mean_squared_error: 0.0172 - coefficient_of_determination: 0.9938 - val_loss: 0.0251 - val_mean_absolute_error: 0.0251 - val_mean_squared_error: 7.0210e-04 - val_root_mean_squared_error: 0.0265 - val_coefficient_of_determination: -1.1470\n",
      "Epoch 3/16\n",
      "138/138 [==============================] - 13s 96ms/step - loss: 0.0137 - mean_absolute_error: 0.0137 - mean_squared_error: 4.0278e-04 - root_mean_squared_error: 0.0201 - coefficient_of_determination: 0.9912 - val_loss: 0.0367 - val_mean_absolute_error: 0.0367 - val_mean_squared_error: 0.0014 - val_root_mean_squared_error: 0.0376 - val_coefficient_of_determination: -3.7841\n",
      "Epoch 4/16\n",
      "138/138 [==============================] - 13s 96ms/step - loss: 0.0109 - mean_absolute_error: 0.0109 - mean_squared_error: 2.4759e-04 - root_mean_squared_error: 0.0157 - coefficient_of_determination: 0.9948 - val_loss: 0.0150 - val_mean_absolute_error: 0.0150 - val_mean_squared_error: 2.7422e-04 - val_root_mean_squared_error: 0.0166 - val_coefficient_of_determination: 0.1102\n",
      "Epoch 5/16\n",
      "138/138 [==============================] - 14s 99ms/step - loss: 0.0104 - mean_absolute_error: 0.0104 - mean_squared_error: 2.2918e-04 - root_mean_squared_error: 0.0151 - coefficient_of_determination: 0.9951 - val_loss: 0.0246 - val_mean_absolute_error: 0.0246 - val_mean_squared_error: 6.4930e-04 - val_root_mean_squared_error: 0.0255 - val_coefficient_of_determination: -1.0427\n",
      "Epoch 6/16\n",
      "138/138 [==============================] - 14s 99ms/step - loss: 0.0086 - mean_absolute_error: 0.0086 - mean_squared_error: 1.5826e-04 - root_mean_squared_error: 0.0126 - coefficient_of_determination: 0.9965 - val_loss: 0.0237 - val_mean_absolute_error: 0.0237 - val_mean_squared_error: 5.9813e-04 - val_root_mean_squared_error: 0.0245 - val_coefficient_of_determination: -0.9238\n",
      "Epoch 7/16\n",
      "138/138 [==============================] - 14s 104ms/step - loss: 0.0059 - mean_absolute_error: 0.0059 - mean_squared_error: 7.2331e-05 - root_mean_squared_error: 0.0085 - coefficient_of_determination: 0.9985 - val_loss: 0.0300 - val_mean_absolute_error: 0.0300 - val_mean_squared_error: 9.3894e-04 - val_root_mean_squared_error: 0.0306 - val_coefficient_of_determination: -2.0307\n",
      "Epoch 8/16\n",
      "138/138 [==============================] - 15s 110ms/step - loss: 0.0064 - mean_absolute_error: 0.0064 - mean_squared_error: 9.1382e-05 - root_mean_squared_error: 0.0096 - coefficient_of_determination: 0.9981 - val_loss: 0.0079 - val_mean_absolute_error: 0.0079 - val_mean_squared_error: 8.4555e-05 - val_root_mean_squared_error: 0.0092 - val_coefficient_of_determination: 0.7265\n",
      "Epoch 9/16\n",
      "138/138 [==============================] - 15s 111ms/step - loss: 0.0051 - mean_absolute_error: 0.0051 - mean_squared_error: 5.4697e-05 - root_mean_squared_error: 0.0074 - coefficient_of_determination: 0.9988 - val_loss: 0.0251 - val_mean_absolute_error: 0.0251 - val_mean_squared_error: 6.6564e-04 - val_root_mean_squared_error: 0.0258 - val_coefficient_of_determination: -1.1773\n",
      "Epoch 10/16\n",
      "138/138 [==============================] - 15s 109ms/step - loss: 0.0063 - mean_absolute_error: 0.0063 - mean_squared_error: 8.2552e-05 - root_mean_squared_error: 0.0091 - coefficient_of_determination: 0.9983 - val_loss: 0.0140 - val_mean_absolute_error: 0.0140 - val_mean_squared_error: 2.2834e-04 - val_root_mean_squared_error: 0.0151 - val_coefficient_of_determination: 0.2736\n",
      "Epoch 11/16\n",
      "138/138 [==============================] - 15s 111ms/step - loss: 0.0051 - mean_absolute_error: 0.0051 - mean_squared_error: 5.2552e-05 - root_mean_squared_error: 0.0072 - coefficient_of_determination: 0.9989 - val_loss: 0.0050 - val_mean_absolute_error: 0.0050 - val_mean_squared_error: 3.6467e-05 - val_root_mean_squared_error: 0.0060 - val_coefficient_of_determination: 0.8957\n",
      "Epoch 12/16\n",
      "138/138 [==============================] - 16s 117ms/step - loss: 0.0043 - mean_absolute_error: 0.0043 - mean_squared_error: 3.9886e-05 - root_mean_squared_error: 0.0063 - coefficient_of_determination: 0.9992 - val_loss: 0.0131 - val_mean_absolute_error: 0.0131 - val_mean_squared_error: 2.0473e-04 - val_root_mean_squared_error: 0.0143 - val_coefficient_of_determination: 0.3884\n",
      "Epoch 13/16\n",
      "138/138 [==============================] - 16s 117ms/step - loss: 0.0052 - mean_absolute_error: 0.0052 - mean_squared_error: 5.8616e-05 - root_mean_squared_error: 0.0077 - coefficient_of_determination: 0.9988 - val_loss: 0.0227 - val_mean_absolute_error: 0.0227 - val_mean_squared_error: 5.5538e-04 - val_root_mean_squared_error: 0.0236 - val_coefficient_of_determination: -0.7971\n",
      "Epoch 14/16\n",
      "138/138 [==============================] - 16s 118ms/step - loss: 0.0071 - mean_absolute_error: 0.0071 - mean_squared_error: 1.0939e-04 - root_mean_squared_error: 0.0105 - coefficient_of_determination: 0.9976 - val_loss: 0.0259 - val_mean_absolute_error: 0.0259 - val_mean_squared_error: 7.0817e-04 - val_root_mean_squared_error: 0.0266 - val_coefficient_of_determination: -1.2866\n",
      "Epoch 15/16\n",
      "138/138 [==============================] - 16s 117ms/step - loss: 0.0074 - mean_absolute_error: 0.0074 - mean_squared_error: 1.0922e-04 - root_mean_squared_error: 0.0105 - coefficient_of_determination: 0.9978 - val_loss: 0.0496 - val_mean_absolute_error: 0.0496 - val_mean_squared_error: 0.0025 - val_root_mean_squared_error: 0.0500 - val_coefficient_of_determination: -7.1488\n",
      "Epoch 16/16\n",
      "138/138 [==============================] - 17s 121ms/step - loss: 0.0059 - mean_absolute_error: 0.0059 - mean_squared_error: 7.4843e-05 - root_mean_squared_error: 0.0087 - coefficient_of_determination: 0.9985 - val_loss: 0.0197 - val_mean_absolute_error: 0.0197 - val_mean_squared_error: 4.4223e-04 - val_root_mean_squared_error: 0.0210 - val_coefficient_of_determination: -0.4753\n",
      "Epoch 1/12\n",
      "138/138 [==============================] - 16s 118ms/step - loss: 0.0014 - mean_absolute_error: 0.0014 - mean_squared_error: 7.1733e-06 - root_mean_squared_error: 0.0027 - coefficient_of_determination: 0.9999 - val_loss: 0.0061 - val_mean_absolute_error: 0.0061 - val_mean_squared_error: 5.5709e-05 - val_root_mean_squared_error: 0.0075 - val_coefficient_of_determination: 0.8257\n",
      "Epoch 2/12\n",
      "138/138 [==============================] - 16s 116ms/step - loss: 0.0011 - mean_absolute_error: 0.0011 - mean_squared_error: 5.7773e-06 - root_mean_squared_error: 0.0024 - coefficient_of_determination: 0.9999 - val_loss: 0.0065 - val_mean_absolute_error: 0.0065 - val_mean_squared_error: 6.1696e-05 - val_root_mean_squared_error: 0.0079 - val_coefficient_of_determination: 0.8058\n",
      "Epoch 3/12\n",
      "138/138 [==============================] - 16s 118ms/step - loss: 0.0010 - mean_absolute_error: 0.0010 - mean_squared_error: 5.1836e-06 - root_mean_squared_error: 0.0023 - coefficient_of_determination: 0.9999 - val_loss: 0.0053 - val_mean_absolute_error: 0.0053 - val_mean_squared_error: 4.3060e-05 - val_root_mean_squared_error: 0.0066 - val_coefficient_of_determination: 0.8726\n",
      "Epoch 4/12\n",
      "138/138 [==============================] - 16s 119ms/step - loss: 0.0010 - mean_absolute_error: 0.0010 - mean_squared_error: 5.1159e-06 - root_mean_squared_error: 0.0023 - coefficient_of_determination: 0.9999 - val_loss: 0.0060 - val_mean_absolute_error: 0.0060 - val_mean_squared_error: 5.3671e-05 - val_root_mean_squared_error: 0.0073 - val_coefficient_of_determination: 0.8354\n",
      "Epoch 5/12\n",
      "138/138 [==============================] - 16s 116ms/step - loss: 0.0011 - mean_absolute_error: 0.0011 - mean_squared_error: 5.0285e-06 - root_mean_squared_error: 0.0022 - coefficient_of_determination: 0.9999 - val_loss: 0.0064 - val_mean_absolute_error: 0.0064 - val_mean_squared_error: 6.0639e-05 - val_root_mean_squared_error: 0.0078 - val_coefficient_of_determination: 0.8119\n",
      "Epoch 6/12\n",
      "138/138 [==============================] - 16s 118ms/step - loss: 0.0010 - mean_absolute_error: 0.0010 - mean_squared_error: 4.7958e-06 - root_mean_squared_error: 0.0022 - coefficient_of_determination: 0.9999 - val_loss: 0.0053 - val_mean_absolute_error: 0.0053 - val_mean_squared_error: 4.2986e-05 - val_root_mean_squared_error: 0.0066 - val_coefficient_of_determination: 0.8741\n",
      "Epoch 7/12\n",
      "138/138 [==============================] - 18s 129ms/step - loss: 0.0010 - mean_absolute_error: 0.0010 - mean_squared_error: 4.4158e-06 - root_mean_squared_error: 0.0021 - coefficient_of_determination: 0.9999 - val_loss: 0.0059 - val_mean_absolute_error: 0.0059 - val_mean_squared_error: 5.2051e-05 - val_root_mean_squared_error: 0.0072 - val_coefficient_of_determination: 0.8443\n",
      "Epoch 8/12\n",
      "138/138 [==============================] - 19s 140ms/step - loss: 0.0011 - mean_absolute_error: 0.0011 - mean_squared_error: 4.7380e-06 - root_mean_squared_error: 0.0022 - coefficient_of_determination: 0.9999 - val_loss: 0.0075 - val_mean_absolute_error: 0.0075 - val_mean_squared_error: 7.8064e-05 - val_root_mean_squared_error: 0.0088 - val_coefficient_of_determination: 0.7580\n",
      "Epoch 9/12\n",
      "138/138 [==============================] - 18s 130ms/step - loss: 0.0011 - mean_absolute_error: 0.0011 - mean_squared_error: 4.4829e-06 - root_mean_squared_error: 0.0021 - coefficient_of_determination: 0.9999 - val_loss: 0.0064 - val_mean_absolute_error: 0.0064 - val_mean_squared_error: 5.9352e-05 - val_root_mean_squared_error: 0.0077 - val_coefficient_of_determination: 0.8211\n",
      "Epoch 10/12\n",
      "138/138 [==============================] - 17s 123ms/step - loss: 9.5284e-04 - mean_absolute_error: 9.5284e-04 - mean_squared_error: 4.0574e-06 - root_mean_squared_error: 0.0020 - coefficient_of_determination: 0.9999 - val_loss: 0.0062 - val_mean_absolute_error: 0.0062 - val_mean_squared_error: 5.6783e-05 - val_root_mean_squared_error: 0.0075 - val_coefficient_of_determination: 0.8311\n",
      "Epoch 11/12\n",
      "138/138 [==============================] - 18s 129ms/step - loss: 9.3038e-04 - mean_absolute_error: 9.3038e-04 - mean_squared_error: 3.8037e-06 - root_mean_squared_error: 0.0020 - coefficient_of_determination: 0.9999 - val_loss: 0.0054 - val_mean_absolute_error: 0.0054 - val_mean_squared_error: 4.4035e-05 - val_root_mean_squared_error: 0.0066 - val_coefficient_of_determination: 0.8755\n",
      "Epoch 12/12\n",
      "138/138 [==============================] - 17s 120ms/step - loss: 8.7594e-04 - mean_absolute_error: 8.7594e-04 - mean_squared_error: 3.4392e-06 - root_mean_squared_error: 0.0019 - coefficient_of_determination: 0.9999 - val_loss: 0.0055 - val_mean_absolute_error: 0.0055 - val_mean_squared_error: 4.5518e-05 - val_root_mean_squared_error: 0.0067 - val_coefficient_of_determination: 0.8720\n",
      "Epoch 1/8\n",
      "138/138 [==============================] - 17s 126ms/step - loss: 7.5342e-04 - mean_absolute_error: 7.5342e-04 - mean_squared_error: 3.0028e-06 - root_mean_squared_error: 0.0017 - coefficient_of_determination: 0.9999 - val_loss: 0.0055 - val_mean_absolute_error: 0.0055 - val_mean_squared_error: 4.5626e-05 - val_root_mean_squared_error: 0.0068 - val_coefficient_of_determination: 0.8717\n",
      "Epoch 2/8\n",
      "138/138 [==============================] - 18s 132ms/step - loss: 7.3235e-04 - mean_absolute_error: 7.3235e-04 - mean_squared_error: 2.9801e-06 - root_mean_squared_error: 0.0017 - coefficient_of_determination: 0.9999 - val_loss: 0.0058 - val_mean_absolute_error: 0.0058 - val_mean_squared_error: 5.0544e-05 - val_root_mean_squared_error: 0.0071 - val_coefficient_of_determination: 0.8559\n",
      "Epoch 3/8\n",
      "138/138 [==============================] - 19s 135ms/step - loss: 7.3983e-04 - mean_absolute_error: 7.3983e-04 - mean_squared_error: 2.9763e-06 - root_mean_squared_error: 0.0017 - coefficient_of_determination: 0.9999 - val_loss: 0.0059 - val_mean_absolute_error: 0.0059 - val_mean_squared_error: 5.1778e-05 - val_root_mean_squared_error: 0.0072 - val_coefficient_of_determination: 0.8524\n",
      "Epoch 4/8\n",
      "138/138 [==============================] - 18s 129ms/step - loss: 7.3645e-04 - mean_absolute_error: 7.3645e-04 - mean_squared_error: 2.9610e-06 - root_mean_squared_error: 0.0017 - coefficient_of_determination: 0.9999 - val_loss: 0.0059 - val_mean_absolute_error: 0.0059 - val_mean_squared_error: 5.1485e-05 - val_root_mean_squared_error: 0.0072 - val_coefficient_of_determination: 0.8535\n",
      "Epoch 5/8\n",
      "138/138 [==============================] - 17s 122ms/step - loss: 7.2989e-04 - mean_absolute_error: 7.2989e-04 - mean_squared_error: 2.9409e-06 - root_mean_squared_error: 0.0017 - coefficient_of_determination: 0.9999 - val_loss: 0.0057 - val_mean_absolute_error: 0.0057 - val_mean_squared_error: 4.9197e-05 - val_root_mean_squared_error: 0.0070 - val_coefficient_of_determination: 0.8614\n",
      "Epoch 6/8\n",
      "138/138 [==============================] - 18s 128ms/step - loss: 7.2692e-04 - mean_absolute_error: 7.2692e-04 - mean_squared_error: 2.8969e-06 - root_mean_squared_error: 0.0017 - coefficient_of_determination: 0.9999 - val_loss: 0.0061 - val_mean_absolute_error: 0.0061 - val_mean_squared_error: 5.4905e-05 - val_root_mean_squared_error: 0.0074 - val_coefficient_of_determination: 0.8433\n",
      "Epoch 7/8\n",
      "138/138 [==============================] - 17s 125ms/step - loss: 7.3348e-04 - mean_absolute_error: 7.3348e-04 - mean_squared_error: 2.8656e-06 - root_mean_squared_error: 0.0017 - coefficient_of_determination: 0.9999 - val_loss: 0.0056 - val_mean_absolute_error: 0.0056 - val_mean_squared_error: 4.6209e-05 - val_root_mean_squared_error: 0.0068 - val_coefficient_of_determination: 0.8719\n",
      "Epoch 8/8\n",
      "138/138 [==============================] - 17s 126ms/step - loss: 7.1612e-04 - mean_absolute_error: 7.1612e-04 - mean_squared_error: 2.8226e-06 - root_mean_squared_error: 0.0017 - coefficient_of_determination: 0.9999 - val_loss: 0.0056 - val_mean_absolute_error: 0.0056 - val_mean_squared_error: 4.7037e-05 - val_root_mean_squared_error: 0.0069 - val_coefficient_of_determination: 0.8696\n"
     ]
    }
   ],
   "source": [
    "historyOne = model.fit(X_train, y_train, epochs=16, batch_size=32, validation_data=(X_test, y_test), verbose=1)\n",
    "K.set_value(model.optimizer.learning_rate, 0.001)\n",
    "historyTwo = model.fit(X_train, y_train, epochs=12, batch_size=32, validation_data=(X_test, y_test), verbose=1)\n",
    "K.set_value(model.optimizer.learning_rate, 0.0001)\n",
    "historyThree = model.fit(X_train, y_train, epochs=8, batch_size=32, validation_data=(X_test, y_test), verbose=1)"
   ]
  },
  {
   "cell_type": "markdown",
   "metadata": {},
   "source": [
    "### Predict on Test Data"
   ]
  },
  {
   "cell_type": "code",
   "execution_count": 12,
   "metadata": {},
   "outputs": [
    {
     "name": "stdout",
     "output_type": "stream",
     "text": [
      "1/4 [======>.......................] - ETA: 1s"
     ]
    },
    {
     "name": "stderr",
     "output_type": "stream",
     "text": [
      "2022-08-17 16:43:54.474515: W tensorflow/core/grappler/costs/op_level_cost_estimator.cc:690] Error in PredictCost() for the op: op: \"Softmax\" attr { key: \"T\" value { type: DT_FLOAT } } inputs { dtype: DT_FLOAT shape { unknown_rank: true } } device { type: \"CPU\" vendor: \"GenuineIntel\" model: \"110\" frequency: 2400 num_cores: 16 environment { key: \"cpu_instruction_set\" value: \"SSE, SSE2, SSE3, SSSE3, SSE4.1, SSE4.2\" } environment { key: \"eigen\" value: \"3.4.90\" } l1_cache_size: 32768 l2_cache_size: 262144 l3_cache_size: 16777216 memory_size: 268435456 } outputs { dtype: DT_FLOAT shape { unknown_rank: true } }\n"
     ]
    },
    {
     "name": "stdout",
     "output_type": "stream",
     "text": [
      "4/4 [==============================] - 1s 39ms/step\n"
     ]
    }
   ],
   "source": [
    "y_hat = model.predict(X_test)"
   ]
  },
  {
   "cell_type": "markdown",
   "metadata": {},
   "source": [
    "### Unscale Data"
   ]
  },
  {
   "cell_type": "code",
   "execution_count": 13,
   "metadata": {},
   "outputs": [],
   "source": [
    "# Undo normalisation\n",
    "y_test = (y_test * anotherScaler.data_range_[0]) + anotherScaler.data_min_[0]\n",
    "y_hat = (y_hat * anotherScaler.data_range_[0]) + anotherScaler.data_min_[0]\n",
    "# Undo standardisation\n",
    "y_test = (y_test * scaler.scale_[0]) + scaler.mean_[0]\n",
    "y_hat = (y_hat * scaler.scale_[0]) + scaler.mean_[0]"
   ]
  },
  {
   "cell_type": "markdown",
   "metadata": {},
   "source": [
    "### Plot Prediction"
   ]
  },
  {
   "cell_type": "code",
   "execution_count": 14,
   "metadata": {},
   "outputs": [
    {
     "data": {
      "image/png": "[encoded data removed]",
      "text/plain": [
       "<Figure size 1008x360 with 1 Axes>"
      ]
     },
     "metadata": {
      "needs_background": "light"
     },
     "output_type": "display_data"
    }
   ],
   "source": [
    "plt.figure(figsize=(14, 5))\n",
    "plt.plot(y_hat, color='red', label=\"Predicted DJIA Open Price ($)\")\n",
    "plt.plot(y_test, color='blue', label=\"Actual DJIA Open Price ($)\")\n",
    "plt.title('DJIA Open Price Prediction')\n",
    "# plt.xticks(np.arange(dates.shape[0]), dates)\n",
    "xLabel = \"Days since \" + splitDate\n",
    "plt.xlabel(xLabel)\n",
    "plt.ylabel('DJIA Open Price ($)')\n",
    "plt.legend()\n",
    "plt.show()"
   ]
  },
  {
   "cell_type": "markdown",
   "metadata": {},
   "source": [
    "### Performance Metrics"
   ]
  },
  {
   "cell_type": "code",
   "execution_count": 15,
   "metadata": {},
   "outputs": [
    {
     "data": {
      "image/png": "[encoded data removed]",
      "text/plain": [
       "<Figure size 1008x360 with 2 Axes>"
      ]
     },
     "metadata": {
      "needs_background": "light"
     },
     "output_type": "display_data"
    }
   ],
   "source": [
    "totalLoss = np.concatenate([historyOne.history['loss'], historyTwo.history['loss'], historyThree.history['loss']])\n",
    "totaValLoss = np.concatenate([historyOne.history['val_loss'], historyTwo.history['val_loss'], historyThree.history['val_loss']])\n",
    "\n",
    "plt.figure(figsize=(14, 5))\n",
    "\n",
    "plt.subplot(1, 2, 1)\n",
    "plt.plot(totalLoss, color='red')\n",
    "plt.axvspan(0, 16, facecolor='black', alpha=0.6, label=\"LR = 0.01\")\n",
    "plt.axvspan(16, 16+12, facecolor='black', alpha=0.4, label=\"LR = 0.001\")\n",
    "plt.axvspan(16+12, 16+12+8, facecolor='black', alpha=0.2, label=\"LR = 0.0001\")\n",
    "plt.xlim(0, 16+12+8)\n",
    "plt.xticks([2*i for i in range(int((16+12+8)/2))], [(2*j)+1 for j in range(int((16+12+8)/2))])\n",
    "plt.xlabel(\"Epoch\")\n",
    "plt.ylabel(\"Mean Absolute Error\")\n",
    "plt.title(\"Loss\")\n",
    "plt.legend()\n",
    "\n",
    "plt.subplot(1, 2, 2)\n",
    "plt.plot(totaValLoss, color='red')\n",
    "plt.axvspan(0, 16, facecolor='black', alpha=0.6, label=\"LR = 0.01\")\n",
    "plt.axvspan(16, 16+12, facecolor='black', alpha=0.4, label=\"LR = 0.001\")\n",
    "plt.axvspan(16+12, 16+12+8, facecolor='black', alpha=0.2, label=\"LR = 0.0001\")\n",
    "plt.xlim(0, 16+12+8)\n",
    "plt.xticks([2*i for i in range(int((16+12+8)/2))], [(2*j)+1 for j in range(int((16+12+8)/2))])\n",
    "plt.xlabel(\"Epoch\")\n",
    "plt.ylabel(\"Mean Absolute Error\")\n",
    "plt.title(\"Validation Loss\")\n",
    "plt.legend()\n",
    "\n",
    "plt.show()"
   ]
  },
  {
   "cell_type": "code",
   "execution_count": 16,
   "metadata": {},
   "outputs": [
    {
     "name": "stdout",
     "output_type": "stream",
     "text": [
      "Mean Absolute Error (MAE): 0.0007161210523918271\n",
      "Mean Squared Error (MSE): 2.82263340523059e-06\n",
      "Root Mean Squared Error (RMSE): 0.0016800694866105914\n",
      "Coefficient of Determination (R2): 0.9999410510063171\n"
     ]
    }
   ],
   "source": [
    "mae = historyThree.history['mean_absolute_error']\n",
    "mse = historyThree.history['mean_squared_error']\n",
    "rmse = historyThree.history['root_mean_squared_error']\n",
    "r2 = historyThree.history['coefficient_of_determination']\n",
    "\n",
    "print('Mean Absolute Error (MAE): ' + str(mae[-1]))\n",
    "print('Mean Squared Error (MSE): ' + str(mse[-1]))\n",
    "print('Root Mean Squared Error (RMSE): ' + str(rmse[-1]))\n",
    "print('Coefficient of Determination (R2): ' + str(r2[-1]))"
   ]
  },
  {
   "cell_type": "code",
   "execution_count": 17,
   "metadata": {},
   "outputs": [
    {
     "name": "stdout",
     "output_type": "stream",
     "text": [
      "Validation Mean Absolute Error (MAE): 0.005627542268484831\n",
      "Validation Mean Squared Error (MSE): 4.7036581236170605e-05\n",
      "Validation Root Mean Squared Error (RMSE): 0.006858321838080883\n",
      "Validation Coefficient of Determination (R2): 0.8696346879005432\n"
     ]
    }
   ],
   "source": [
    "valmae = historyThree.history['val_mean_absolute_error']\n",
    "valmse = historyThree.history['val_mean_squared_error']\n",
    "valrmse = historyThree.history['val_root_mean_squared_error']\n",
    "valr2 = historyThree.history['val_coefficient_of_determination']\n",
    "\n",
    "print('Validation Mean Absolute Error (MAE): ' + str(valmae[-1]))\n",
    "print('Validation Mean Squared Error (MSE): ' + str(valmse[-1]))\n",
    "print('Validation Root Mean Squared Error (RMSE): ' + str(valrmse[-1]))\n",
    "print('Validation Coefficient of Determination (R2): ' + str(valr2[-1]))"
   ]
  },
  {
   "cell_type": "markdown",
   "metadata": {},
   "source": [
    "### Trading Strategy"
   ]
  },
  {
   "cell_type": "code",
   "execution_count": 18,
   "metadata": {},
   "outputs": [
    {
     "name": "stdout",
     "output_type": "stream",
     "text": [
      "----------------------------------------------------------------\n",
      "Trading over 125 days\n",
      "Initial Balance: $1000000\n",
      "----------------------------------------------------------------\n",
      "Random Trading Strategy\n",
      "Profit: $15998.462296394864\n",
      "Balance Percentage Change: 1.5998462296394864%\n",
      "----------------------------------------------------------------\n",
      "Buying on day one and holding\n",
      "Profit: $162509.80005976406\n",
      "Balance Percentage Change: 16.250980005976405%\n",
      "----------------------------------------------------------------\n",
      "Trading strategy based on price predictions\n",
      "Profit: $242921.25123665063\n",
      "Balance Percentage Change: 24.292125123665063%\n",
      "----------------------------------------------------------------\n"
     ]
    }
   ],
   "source": [
    "initialBalance = 1000000\n",
    "actionThreshold = 0.01\n",
    "sentimentInfluence = 0.005\n",
    "betProportion = 1\n",
    "\n",
    "# Random strategy\n",
    "controlBalance = initialBalance\n",
    "controlOwnedShares = 0\n",
    "controlBet = controlBalance / betProportion\n",
    "controlBuyOrders = 0\n",
    "controlSellOrders = 0\n",
    "\n",
    "# Trading the price predictions\n",
    "balance = initialBalance\n",
    "ownedShares = 0\n",
    "bet = balance / betProportion\n",
    "buyOrders = 0\n",
    "sellOrders = 0\n",
    "\n",
    "def Buy(price, bet, balance, ownedShares):\n",
    "    if (balance > 0):\n",
    "            numShares = 0\n",
    "            if (balance >= bet):\n",
    "                numShares = bet / price\n",
    "                balance -= bet\n",
    "                ownedShares += numShares\n",
    "            else:\n",
    "                numShares = balance / price\n",
    "                balance = 0\n",
    "                ownedShares += numShares\n",
    "            # print(\"BUY - \" + str(numShares) + \" shares at $\" + str(price))\n",
    "            bet = (balance + (ownedShares * price)) / betProportion\n",
    "    return bet, balance, ownedShares\n",
    "\n",
    "def Sell(price, bet, balance, ownedShares):\n",
    "    if (ownedShares > 0):\n",
    "        numShares = bet / price\n",
    "        if (ownedShares >= numShares):\n",
    "            balance += bet\n",
    "            ownedShares -= numShares\n",
    "            # print(\"SELL - \" + str(numShares) + \" shares at $\" + str(price))\n",
    "        else:\n",
    "            value = ownedShares * price\n",
    "            balance += value\n",
    "            ownedShares = 0\n",
    "            # print(\"SELL - \" + str(ownedShares) + \" shares at $\" + str(price))\n",
    "        bet = (balance + (ownedShares * price)) / betProportion\n",
    "    return bet, balance, ownedShares\n",
    "\n",
    "# Random trading strategy\n",
    "for i in range(len(y_hat)-1):\n",
    "    if (randint(0, 1) == 0): # ! Buy\n",
    "        controlBet, controlBalance, controlOwnedShares = Buy(y_test[i], controlBet, controlBalance, controlOwnedShares)\n",
    "    else: # ! Sell\n",
    "        controlBet, controlBalance, controlOwnedShares = Sell(y_test[i], controlBet, controlBalance, controlOwnedShares)\n",
    "\n",
    "# Trading strategy based on price prediction\n",
    "for i in range(len(y_hat)-1):\n",
    "    \n",
    "    currentPrice = y_test[i]\n",
    "    predictedPrice = y_hat[i+1]\n",
    "    difference = predictedPrice - currentPrice\n",
    "    percentageChange = difference / currentPrice\n",
    "\n",
    "    # No sentiment\n",
    "    if (abs(percentageChange) < actionThreshold): # ! Hold\n",
    "        pass\n",
    "    elif (currentPrice < predictedPrice): # ! Buy\n",
    "        bet, balance, ownedShares = Buy(y_test[i], bet, balance, ownedShares)\n",
    "    elif (currentPrice > predictedPrice): # ! Sell\n",
    "        bet, balance, ownedShares = Sell(y_test[i], bet, balance, ownedShares)\n",
    "\n",
    "controlTotalShareValue = controlOwnedShares * y_test[-1]\n",
    "controlFinalBalance = controlBalance + controlTotalShareValue\n",
    "controlProfit = controlFinalBalance-initialBalance\n",
    "controlBalancePercentageChange = ((controlFinalBalance-initialBalance)/initialBalance) * 100\n",
    "\n",
    "totalShareValue = ownedShares * y_test[-1]\n",
    "finalBalance = balance + totalShareValue\n",
    "profit = finalBalance-initialBalance\n",
    "balancePercentageChange = ((finalBalance-initialBalance)/initialBalance) * 100\n",
    "\n",
    "pricePercentageChange = ((y_test[-1]-y_test[0])/y_test[0]) * 100\n",
    "\n",
    "print(\"----------------------------------------------------------------\")\n",
    "\n",
    "print(\"Trading over \" + str(y_hat.shape[0]) + \" days\")\n",
    "print(\"Initial Balance: $\" + str(initialBalance))\n",
    "\n",
    "print(\"----------------------------------------------------------------\")\n",
    "\n",
    "print(\"Random Trading Strategy\")\n",
    "# print(\"Final Balance: $\" + str(controlFinalBalance))\n",
    "print(\"Profit: $\" + str(controlProfit))\n",
    "print(\"Balance Percentage Change: \" + str(controlBalancePercentageChange) + \"%\")\n",
    "\n",
    "print(\"----------------------------------------------------------------\")\n",
    "\n",
    "print(\"Buying on day one and holding\")\n",
    "print(\"Profit: $\" + str(initialBalance * (pricePercentageChange/100)))\n",
    "print(\"Balance Percentage Change: \" + str(pricePercentageChange) + \"%\")\n",
    "\n",
    "print(\"----------------------------------------------------------------\")\n",
    "\n",
    "print(\"Trading strategy based on price predictions\")\n",
    "# print(\"Final Balance: $\" + str(finalBalance))\n",
    "print(\"Profit: $\" + str(profit))\n",
    "print(\"Balance Percentage Change: \" + str(balancePercentageChange) + \"%\")\n",
    "\n",
    "print(\"----------------------------------------------------------------\")"
   ]
  }
 ],
 "metadata": {
  "kernelspec": {
   "display_name": "Python 3.9.13 64-bit",
   "language": "python",
   "name": "python3"
  },
  "language_info": {
   "codemirror_mode": {
    "name": "ipython",
    "version": 3
   },
   "file_extension": ".py",
   "mimetype": "text/x-python",
   "name": "python",
   "nbconvert_exporter": "python",
   "pygments_lexer": "ipython3",
   "version": "3.10.6"
  },
  "orig_nbformat": 4,
  "vscode": {
   "interpreter": {
    "hash": "aee8b7b246df8f9039afb4144a1f6fd8d2ca17a180786b69acc140d282b71a49"
   }
  }
 },
 "nbformat": 4,
 "nbformat_minor": 2
}
