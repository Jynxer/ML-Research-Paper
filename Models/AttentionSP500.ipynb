{
 "cells": [
  {
   "cell_type": "markdown",
   "metadata": {},
   "source": [
    "# S&P 500 Price Prediction LSTM with an Attention Mechanism"
   ]
  },
  {
   "cell_type": "markdown",
   "metadata": {},
   "source": [
    "### Imports"
   ]
  },
  {
   "cell_type": "code",
   "execution_count": 1,
   "metadata": {},
   "outputs": [],
   "source": [
    "import pandas as pd\n",
    "import numpy as np\n",
    "from sklearn.preprocessing import StandardScaler, MinMaxScaler\n",
    "from keras.models import Sequential\n",
    "from keras.layers import LSTM, Dense\n",
    "from attention import Attention\n",
    "from keras.optimizers import Adam\n",
    "from keras import metrics\n",
    "import keras.utils.vis_utils\n",
    "from importlib import reload\n",
    "reload(keras.utils.vis_utils)\n",
    "from keras.utils.vis_utils import plot_model\n",
    "from keras import backend as K\n",
    "import matplotlib.pyplot as plt\n",
    "from random import randint"
   ]
  },
  {
   "cell_type": "markdown",
   "metadata": {},
   "source": [
    "### Load Dataset"
   ]
  },
  {
   "cell_type": "code",
   "execution_count": 2,
   "metadata": {},
   "outputs": [],
   "source": [
    "df = pd.read_csv(\"./Datasets/S&P500.csv\")"
   ]
  },
  {
   "cell_type": "markdown",
   "metadata": {},
   "source": [
    "### Check Dataset is Clean"
   ]
  },
  {
   "cell_type": "code",
   "execution_count": 3,
   "metadata": {},
   "outputs": [
    {
     "name": "stdout",
     "output_type": "stream",
     "text": [
      "Dataset is clean!\n"
     ]
    }
   ],
   "source": [
    "nulls = df.isnull().sum().sum() + df.isna().sum().sum()\n",
    "boolSeries = df.duplicated().to_numpy()\n",
    "if ((boolSeries.sum() == 0) and (nulls == 0)):\n",
    "    print('Dataset is clean!')\n",
    "else:\n",
    "    print('Dataset is unclean!')"
   ]
  },
  {
   "cell_type": "markdown",
   "metadata": {},
   "source": [
    "### Split Dataset"
   ]
  },
  {
   "cell_type": "code",
   "execution_count": 4,
   "metadata": {},
   "outputs": [],
   "source": [
    "splitDate = '2019-05-16'\n",
    "trainingDataUnscaled = df[df['Date'] <= splitDate].copy()\n",
    "trainingDataUnscaled.drop(['Date', 'Adj Close'], axis=1, inplace=True)"
   ]
  },
  {
   "cell_type": "markdown",
   "metadata": {},
   "source": [
    "### Data Scaling"
   ]
  },
  {
   "cell_type": "code",
   "execution_count": 5,
   "metadata": {},
   "outputs": [],
   "source": [
    "scaler = StandardScaler()\n",
    "anotherScaler = MinMaxScaler()\n",
    "trainingDataStandardised = scaler.fit_transform(trainingDataUnscaled)\n",
    "trainingData = anotherScaler.fit_transform(trainingDataStandardised)"
   ]
  },
  {
   "cell_type": "markdown",
   "metadata": {},
   "source": [
    "### Build Training Input and Output Series"
   ]
  },
  {
   "cell_type": "code",
   "execution_count": 6,
   "metadata": {},
   "outputs": [
    {
     "name": "stdout",
     "output_type": "stream",
     "text": [
      "(4414, 365, 5)\n",
      "(4414,)\n"
     ]
    }
   ],
   "source": [
    "exposureSize = 365\n",
    "\n",
    "X_train = []\n",
    "y_train = []\n",
    "\n",
    "for i in range(exposureSize, trainingData.shape[0]):\n",
    "    X_train.append(trainingData[i-exposureSize:i])\n",
    "    y_train.append(trainingData[i, 0])\n",
    "\n",
    "X_train, y_train = np.array(X_train), np.array(y_train)\n",
    "\n",
    "print(X_train.shape)\n",
    "print(y_train.shape)"
   ]
  },
  {
   "cell_type": "markdown",
   "metadata": {},
   "source": [
    "### Build Test Input and Output Series"
   ]
  },
  {
   "cell_type": "code",
   "execution_count": 7,
   "metadata": {},
   "outputs": [
    {
     "name": "stdout",
     "output_type": "stream",
     "text": [
      "(125, 365, 5)\n",
      "(125,)\n"
     ]
    }
   ],
   "source": [
    "testData = df[df['Date'] > splitDate].copy()\n",
    "previousDays = trainingDataUnscaled.tail(exposureSize)\n",
    "testInputs = pd.concat([previousDays, testData], ignore_index=True)\n",
    "dates = testData['Date'].copy()\n",
    "testInputs.drop(['Date', 'Adj Close'], axis=1, inplace=True)\n",
    "\n",
    "testInputsStandardised = scaler.transform(testInputs)\n",
    "testInputsNormalised = anotherScaler.transform(testInputsStandardised)\n",
    "\n",
    "X_test = []\n",
    "y_test = []\n",
    "\n",
    "for i in range(exposureSize, testInputs.shape[0]):\n",
    "    X_test.append(testInputsNormalised[i-exposureSize:i])\n",
    "    y_test.append(testInputsNormalised[i, 0])\n",
    "\n",
    "X_test, y_test = np.array(X_test), np.array(y_test)\n",
    "\n",
    "print(X_test.shape)\n",
    "print(y_test.shape)"
   ]
  },
  {
   "cell_type": "markdown",
   "metadata": {},
   "source": [
    "### Coefficient of Determination Function"
   ]
  },
  {
   "cell_type": "code",
   "execution_count": 8,
   "metadata": {},
   "outputs": [],
   "source": [
    "# REF: https://jmlb.github.io/ml/2017/03/20/CoeffDetermination_CustomMetric4Keras/\n",
    "def coefficient_of_determination(y_true, y_pred):\n",
    "    SS_res =  K.sum(K.square( y_true-y_pred )) \n",
    "    SS_tot = K.sum(K.square( y_true - K.mean(y_true) ) ) \n",
    "    return ( 1 - SS_res/(SS_tot + K.epsilon()) )"
   ]
  },
  {
   "cell_type": "markdown",
   "metadata": {},
   "source": [
    "### Define Model"
   ]
  },
  {
   "cell_type": "code",
   "execution_count": 9,
   "metadata": {},
   "outputs": [
    {
     "name": "stderr",
     "output_type": "stream",
     "text": [
      "2022-08-17 15:22:24.793857: I tensorflow/core/platform/cpu_feature_guard.cc:193] This TensorFlow binary is optimized with oneAPI Deep Neural Network Library (oneDNN) to use the following CPU instructions in performance-critical operations:  AVX2 FMA\n",
      "To enable them in other operations, rebuild TensorFlow with the appropriate compiler flags.\n"
     ]
    },
    {
     "name": "stdout",
     "output_type": "stream",
     "text": [
      "Model: \"sequential\"\n",
      "_________________________________________________________________\n",
      " Layer (type)                Output Shape              Param #   \n",
      "=================================================================\n",
      " lstm (LSTM)                 (None, 365, 50)           11200     \n",
      "                                                                 \n",
      " attention (Attention)       (None, 16)                4100      \n",
      "                                                                 \n",
      " dense (Dense)               (None, 1)                 17        \n",
      "                                                                 \n",
      "=================================================================\n",
      "Total params: 15,317\n",
      "Trainable params: 15,317\n",
      "Non-trainable params: 0\n",
      "_________________________________________________________________\n",
      "None\n"
     ]
    },
    {
     "data": {
      "image/png": "[encoded data removed]",
      "text/plain": [
       "<IPython.core.display.Image object>"
      ]
     },
     "execution_count": 9,
     "metadata": {},
     "output_type": "execute_result"
    }
   ],
   "source": [
    "model = Sequential()\n",
    "model.add(LSTM(50, input_shape=(X_train.shape[1], X_train.shape[2]), return_sequences=True))\n",
    "model.add(Attention(units=16))\n",
    "model.add(Dense(1))\n",
    "optimiser = Adam(learning_rate=0.01)\n",
    "model.compile(loss='mae', optimizer=optimiser, metrics=[metrics.MeanAbsoluteError(), metrics.MeanSquaredError(), metrics.RootMeanSquaredError(), coefficient_of_determination])\n",
    "print(model.summary())\n",
    "plot_model(model, to_file='./AttentionSP500Model.png', show_shapes=True)"
   ]
  },
  {
   "cell_type": "markdown",
   "metadata": {},
   "source": [
    "### Train Model"
   ]
  },
  {
   "cell_type": "code",
   "execution_count": 10,
   "metadata": {},
   "outputs": [
    {
     "name": "stdout",
     "output_type": "stream",
     "text": [
      "Epoch 1/16\n"
     ]
    },
    {
     "name": "stderr",
     "output_type": "stream",
     "text": [
      "2022-08-17 15:22:27.602931: W tensorflow/core/grappler/costs/op_level_cost_estimator.cc:690] Error in PredictCost() for the op: op: \"Softmax\" attr { key: \"T\" value { type: DT_FLOAT } } inputs { dtype: DT_FLOAT shape { unknown_rank: true } } device { type: \"CPU\" vendor: \"GenuineIntel\" model: \"110\" frequency: 2400 num_cores: 16 environment { key: \"cpu_instruction_set\" value: \"SSE, SSE2, SSE3, SSSE3, SSE4.1, SSE4.2\" } environment { key: \"eigen\" value: \"3.4.90\" } l1_cache_size: 32768 l2_cache_size: 262144 l3_cache_size: 16777216 memory_size: 268435456 } outputs { dtype: DT_FLOAT shape { unknown_rank: true } }\n"
     ]
    },
    {
     "name": "stdout",
     "output_type": "stream",
     "text": [
      "138/138 [==============================] - ETA: 0s - loss: 0.0373 - mean_absolute_error: 0.0373 - mean_squared_error: 0.0094 - root_mean_squared_error: 0.0969 - coefficient_of_determination: 0.8420"
     ]
    },
    {
     "name": "stderr",
     "output_type": "stream",
     "text": [
      "2022-08-17 15:22:54.600878: W tensorflow/core/grappler/costs/op_level_cost_estimator.cc:690] Error in PredictCost() for the op: op: \"Softmax\" attr { key: \"T\" value { type: DT_FLOAT } } inputs { dtype: DT_FLOAT shape { unknown_rank: true } } device { type: \"CPU\" vendor: \"GenuineIntel\" model: \"110\" frequency: 2400 num_cores: 16 environment { key: \"cpu_instruction_set\" value: \"SSE, SSE2, SSE3, SSSE3, SSE4.1, SSE4.2\" } environment { key: \"eigen\" value: \"3.4.90\" } l1_cache_size: 32768 l2_cache_size: 262144 l3_cache_size: 16777216 memory_size: 268435456 } outputs { dtype: DT_FLOAT shape { unknown_rank: true } }\n"
     ]
    },
    {
     "name": "stdout",
     "output_type": "stream",
     "text": [
      "138/138 [==============================] - 29s 192ms/step - loss: 0.0373 - mean_absolute_error: 0.0373 - mean_squared_error: 0.0094 - root_mean_squared_error: 0.0969 - coefficient_of_determination: 0.8420 - val_loss: 0.0315 - val_mean_absolute_error: 0.0315 - val_mean_squared_error: 0.0011 - val_root_mean_squared_error: 0.0328 - val_coefficient_of_determination: -2.1683\n",
      "Epoch 2/16\n",
      "138/138 [==============================] - 18s 132ms/step - loss: 0.0089 - mean_absolute_error: 0.0089 - mean_squared_error: 1.4172e-04 - root_mean_squared_error: 0.0119 - coefficient_of_determination: 0.9973 - val_loss: 0.0280 - val_mean_absolute_error: 0.0280 - val_mean_squared_error: 8.5406e-04 - val_root_mean_squared_error: 0.0292 - val_coefficient_of_determination: -1.5097\n",
      "Epoch 3/16\n",
      "138/138 [==============================] - 28s 205ms/step - loss: 0.0126 - mean_absolute_error: 0.0126 - mean_squared_error: 3.0032e-04 - root_mean_squared_error: 0.0173 - coefficient_of_determination: 0.9943 - val_loss: 0.0380 - val_mean_absolute_error: 0.0380 - val_mean_squared_error: 0.0015 - val_root_mean_squared_error: 0.0388 - val_coefficient_of_determination: -3.5026\n",
      "Epoch 4/16\n",
      "138/138 [==============================] - 30s 217ms/step - loss: 0.0078 - mean_absolute_error: 0.0078 - mean_squared_error: 1.1517e-04 - root_mean_squared_error: 0.0107 - coefficient_of_determination: 0.9978 - val_loss: 0.0251 - val_mean_absolute_error: 0.0251 - val_mean_squared_error: 6.8190e-04 - val_root_mean_squared_error: 0.0261 - val_coefficient_of_determination: -1.0092\n",
      "Epoch 5/16\n",
      "138/138 [==============================] - 26s 190ms/step - loss: 0.0090 - mean_absolute_error: 0.0090 - mean_squared_error: 1.5837e-04 - root_mean_squared_error: 0.0126 - coefficient_of_determination: 0.9971 - val_loss: 0.0151 - val_mean_absolute_error: 0.0151 - val_mean_squared_error: 2.7081e-04 - val_root_mean_squared_error: 0.0165 - val_coefficient_of_determination: 0.2074\n",
      "Epoch 6/16\n",
      "138/138 [==============================] - 23s 170ms/step - loss: 0.0072 - mean_absolute_error: 0.0072 - mean_squared_error: 1.0205e-04 - root_mean_squared_error: 0.0101 - coefficient_of_determination: 0.9980 - val_loss: 0.0045 - val_mean_absolute_error: 0.0045 - val_mean_squared_error: 3.4287e-05 - val_root_mean_squared_error: 0.0059 - val_coefficient_of_determination: 0.9131\n",
      "Epoch 7/16\n",
      "138/138 [==============================] - 15s 107ms/step - loss: 0.0057 - mean_absolute_error: 0.0057 - mean_squared_error: 6.3073e-05 - root_mean_squared_error: 0.0079 - coefficient_of_determination: 0.9988 - val_loss: 0.0175 - val_mean_absolute_error: 0.0175 - val_mean_squared_error: 3.4429e-04 - val_root_mean_squared_error: 0.0186 - val_coefficient_of_determination: -0.0260\n",
      "Epoch 8/16\n",
      "138/138 [==============================] - 14s 103ms/step - loss: 0.0078 - mean_absolute_error: 0.0078 - mean_squared_error: 1.1815e-04 - root_mean_squared_error: 0.0109 - coefficient_of_determination: 0.9975 - val_loss: 0.0106 - val_mean_absolute_error: 0.0106 - val_mean_squared_error: 1.3945e-04 - val_root_mean_squared_error: 0.0118 - val_coefficient_of_determination: 0.5834\n",
      "Epoch 9/16\n",
      "138/138 [==============================] - 18s 131ms/step - loss: 0.0057 - mean_absolute_error: 0.0057 - mean_squared_error: 6.8265e-05 - root_mean_squared_error: 0.0083 - coefficient_of_determination: 0.9987 - val_loss: 0.0047 - val_mean_absolute_error: 0.0047 - val_mean_squared_error: 3.6561e-05 - val_root_mean_squared_error: 0.0060 - val_coefficient_of_determination: 0.9032\n",
      "Epoch 10/16\n",
      "138/138 [==============================] - 24s 177ms/step - loss: 0.0049 - mean_absolute_error: 0.0049 - mean_squared_error: 4.6700e-05 - root_mean_squared_error: 0.0068 - coefficient_of_determination: 0.9991 - val_loss: 0.0065 - val_mean_absolute_error: 0.0065 - val_mean_squared_error: 6.8795e-05 - val_root_mean_squared_error: 0.0083 - val_coefficient_of_determination: 0.8007\n",
      "Epoch 11/16\n",
      "138/138 [==============================] - 16s 113ms/step - loss: 0.0051 - mean_absolute_error: 0.0051 - mean_squared_error: 5.4381e-05 - root_mean_squared_error: 0.0074 - coefficient_of_determination: 0.9990 - val_loss: 0.0045 - val_mean_absolute_error: 0.0045 - val_mean_squared_error: 3.4593e-05 - val_root_mean_squared_error: 0.0059 - val_coefficient_of_determination: 0.9068\n",
      "Epoch 12/16\n",
      "138/138 [==============================] - 15s 108ms/step - loss: 0.0048 - mean_absolute_error: 0.0048 - mean_squared_error: 4.4088e-05 - root_mean_squared_error: 0.0066 - coefficient_of_determination: 0.9991 - val_loss: 0.0083 - val_mean_absolute_error: 0.0083 - val_mean_squared_error: 8.8937e-05 - val_root_mean_squared_error: 0.0094 - val_coefficient_of_determination: 0.7479\n",
      "Epoch 13/16\n",
      "138/138 [==============================] - 14s 99ms/step - loss: 0.0066 - mean_absolute_error: 0.0066 - mean_squared_error: 9.2144e-05 - root_mean_squared_error: 0.0096 - coefficient_of_determination: 0.9982 - val_loss: 0.0136 - val_mean_absolute_error: 0.0136 - val_mean_squared_error: 2.1810e-04 - val_root_mean_squared_error: 0.0148 - val_coefficient_of_determination: 0.3532\n",
      "Epoch 14/16\n",
      "138/138 [==============================] - 14s 102ms/step - loss: 0.0079 - mean_absolute_error: 0.0079 - mean_squared_error: 1.1947e-04 - root_mean_squared_error: 0.0109 - coefficient_of_determination: 0.9977 - val_loss: 0.0085 - val_mean_absolute_error: 0.0085 - val_mean_squared_error: 9.3156e-05 - val_root_mean_squared_error: 0.0097 - val_coefficient_of_determination: 0.7316\n",
      "Epoch 15/16\n",
      "138/138 [==============================] - 15s 111ms/step - loss: 0.0061 - mean_absolute_error: 0.0061 - mean_squared_error: 7.1602e-05 - root_mean_squared_error: 0.0085 - coefficient_of_determination: 0.9986 - val_loss: 0.0134 - val_mean_absolute_error: 0.0134 - val_mean_squared_error: 2.1513e-04 - val_root_mean_squared_error: 0.0147 - val_coefficient_of_determination: 0.3572\n",
      "Epoch 16/16\n",
      "138/138 [==============================] - 15s 110ms/step - loss: 0.0051 - mean_absolute_error: 0.0051 - mean_squared_error: 5.1405e-05 - root_mean_squared_error: 0.0072 - coefficient_of_determination: 0.9990 - val_loss: 0.0046 - val_mean_absolute_error: 0.0046 - val_mean_squared_error: 3.4819e-05 - val_root_mean_squared_error: 0.0059 - val_coefficient_of_determination: 0.9112\n",
      "Epoch 1/12\n",
      "138/138 [==============================] - 15s 112ms/step - loss: 0.0014 - mean_absolute_error: 0.0014 - mean_squared_error: 5.2432e-06 - root_mean_squared_error: 0.0023 - coefficient_of_determination: 0.9999 - val_loss: 0.0066 - val_mean_absolute_error: 0.0066 - val_mean_squared_error: 5.7629e-05 - val_root_mean_squared_error: 0.0076 - val_coefficient_of_determination: 0.8423\n",
      "Epoch 2/12\n",
      "138/138 [==============================] - 16s 115ms/step - loss: 0.0014 - mean_absolute_error: 0.0014 - mean_squared_error: 4.9444e-06 - root_mean_squared_error: 0.0022 - coefficient_of_determination: 0.9999 - val_loss: 0.0079 - val_mean_absolute_error: 0.0079 - val_mean_squared_error: 7.9979e-05 - val_root_mean_squared_error: 0.0089 - val_coefficient_of_determination: 0.7768\n",
      "Epoch 3/12\n",
      "138/138 [==============================] - 16s 114ms/step - loss: 0.0014 - mean_absolute_error: 0.0014 - mean_squared_error: 4.8423e-06 - root_mean_squared_error: 0.0022 - coefficient_of_determination: 0.9999 - val_loss: 0.0043 - val_mean_absolute_error: 0.0043 - val_mean_squared_error: 3.1456e-05 - val_root_mean_squared_error: 0.0056 - val_coefficient_of_determination: 0.9173\n",
      "Epoch 4/12\n",
      "138/138 [==============================] - 15s 111ms/step - loss: 0.0013 - mean_absolute_error: 0.0013 - mean_squared_error: 4.4591e-06 - root_mean_squared_error: 0.0021 - coefficient_of_determination: 0.9999 - val_loss: 0.0055 - val_mean_absolute_error: 0.0055 - val_mean_squared_error: 4.2336e-05 - val_root_mean_squared_error: 0.0065 - val_coefficient_of_determination: 0.8877\n",
      "Epoch 5/12\n",
      "138/138 [==============================] - 16s 113ms/step - loss: 0.0013 - mean_absolute_error: 0.0013 - mean_squared_error: 4.5591e-06 - root_mean_squared_error: 0.0021 - coefficient_of_determination: 0.9999 - val_loss: 0.0049 - val_mean_absolute_error: 0.0049 - val_mean_squared_error: 3.6730e-05 - val_root_mean_squared_error: 0.0061 - val_coefficient_of_determination: 0.9035\n",
      "Epoch 6/12\n",
      "138/138 [==============================] - 15s 111ms/step - loss: 0.0013 - mean_absolute_error: 0.0013 - mean_squared_error: 4.3132e-06 - root_mean_squared_error: 0.0021 - coefficient_of_determination: 0.9999 - val_loss: 0.0056 - val_mean_absolute_error: 0.0056 - val_mean_squared_error: 4.3881e-05 - val_root_mean_squared_error: 0.0066 - val_coefficient_of_determination: 0.8843\n",
      "Epoch 7/12\n",
      "138/138 [==============================] - 16s 114ms/step - loss: 0.0013 - mean_absolute_error: 0.0013 - mean_squared_error: 4.5563e-06 - root_mean_squared_error: 0.0021 - coefficient_of_determination: 0.9999 - val_loss: 0.0045 - val_mean_absolute_error: 0.0045 - val_mean_squared_error: 3.2347e-05 - val_root_mean_squared_error: 0.0057 - val_coefficient_of_determination: 0.9159\n",
      "Epoch 8/12\n",
      "138/138 [==============================] - 16s 119ms/step - loss: 0.0013 - mean_absolute_error: 0.0013 - mean_squared_error: 4.7731e-06 - root_mean_squared_error: 0.0022 - coefficient_of_determination: 0.9999 - val_loss: 0.0063 - val_mean_absolute_error: 0.0063 - val_mean_squared_error: 5.3167e-05 - val_root_mean_squared_error: 0.0073 - val_coefficient_of_determination: 0.8578\n",
      "Epoch 9/12\n",
      "138/138 [==============================] - 17s 124ms/step - loss: 0.0013 - mean_absolute_error: 0.0013 - mean_squared_error: 4.1599e-06 - root_mean_squared_error: 0.0020 - coefficient_of_determination: 0.9999 - val_loss: 0.0042 - val_mean_absolute_error: 0.0042 - val_mean_squared_error: 2.9713e-05 - val_root_mean_squared_error: 0.0055 - val_coefficient_of_determination: 0.9217\n",
      "Epoch 10/12\n",
      "138/138 [==============================] - 16s 117ms/step - loss: 0.0014 - mean_absolute_error: 0.0014 - mean_squared_error: 4.9393e-06 - root_mean_squared_error: 0.0022 - coefficient_of_determination: 0.9999 - val_loss: 0.0046 - val_mean_absolute_error: 0.0046 - val_mean_squared_error: 3.3188e-05 - val_root_mean_squared_error: 0.0058 - val_coefficient_of_determination: 0.9139\n",
      "Epoch 11/12\n",
      "138/138 [==============================] - 16s 119ms/step - loss: 0.0014 - mean_absolute_error: 0.0014 - mean_squared_error: 4.8049e-06 - root_mean_squared_error: 0.0022 - coefficient_of_determination: 0.9999 - val_loss: 0.0043 - val_mean_absolute_error: 0.0043 - val_mean_squared_error: 3.4371e-05 - val_root_mean_squared_error: 0.0059 - val_coefficient_of_determination: 0.9063\n",
      "Epoch 12/12\n",
      "138/138 [==============================] - 17s 123ms/step - loss: 0.0012 - mean_absolute_error: 0.0012 - mean_squared_error: 4.1695e-06 - root_mean_squared_error: 0.0020 - coefficient_of_determination: 0.9999 - val_loss: 0.0042 - val_mean_absolute_error: 0.0042 - val_mean_squared_error: 2.9373e-05 - val_root_mean_squared_error: 0.0054 - val_coefficient_of_determination: 0.9238\n",
      "Epoch 1/8\n",
      "138/138 [==============================] - 16s 118ms/step - loss: 0.0011 - mean_absolute_error: 0.0011 - mean_squared_error: 3.5900e-06 - root_mean_squared_error: 0.0019 - coefficient_of_determination: 0.9999 - val_loss: 0.0047 - val_mean_absolute_error: 0.0047 - val_mean_squared_error: 3.3454e-05 - val_root_mean_squared_error: 0.0058 - val_coefficient_of_determination: 0.9133\n",
      "Epoch 2/8\n",
      "138/138 [==============================] - 16s 115ms/step - loss: 0.0011 - mean_absolute_error: 0.0011 - mean_squared_error: 3.4852e-06 - root_mean_squared_error: 0.0019 - coefficient_of_determination: 0.9999 - val_loss: 0.0049 - val_mean_absolute_error: 0.0049 - val_mean_squared_error: 3.5786e-05 - val_root_mean_squared_error: 0.0060 - val_coefficient_of_determination: 0.9069\n",
      "Epoch 3/8\n",
      "138/138 [==============================] - 16s 113ms/step - loss: 0.0011 - mean_absolute_error: 0.0011 - mean_squared_error: 3.5352e-06 - root_mean_squared_error: 0.0019 - coefficient_of_determination: 0.9999 - val_loss: 0.0042 - val_mean_absolute_error: 0.0042 - val_mean_squared_error: 2.9413e-05 - val_root_mean_squared_error: 0.0054 - val_coefficient_of_determination: 0.9238\n",
      "Epoch 4/8\n",
      "138/138 [==============================] - 15s 111ms/step - loss: 0.0011 - mean_absolute_error: 0.0011 - mean_squared_error: 3.4984e-06 - root_mean_squared_error: 0.0019 - coefficient_of_determination: 0.9999 - val_loss: 0.0045 - val_mean_absolute_error: 0.0045 - val_mean_squared_error: 3.1345e-05 - val_root_mean_squared_error: 0.0056 - val_coefficient_of_determination: 0.9192\n",
      "Epoch 5/8\n",
      "138/138 [==============================] - 15s 111ms/step - loss: 0.0011 - mean_absolute_error: 0.0011 - mean_squared_error: 3.4683e-06 - root_mean_squared_error: 0.0019 - coefficient_of_determination: 0.9999 - val_loss: 0.0044 - val_mean_absolute_error: 0.0044 - val_mean_squared_error: 3.0607e-05 - val_root_mean_squared_error: 0.0055 - val_coefficient_of_determination: 0.9210\n",
      "Epoch 6/8\n",
      "138/138 [==============================] - 15s 112ms/step - loss: 0.0011 - mean_absolute_error: 0.0011 - mean_squared_error: 3.4990e-06 - root_mean_squared_error: 0.0019 - coefficient_of_determination: 0.9999 - val_loss: 0.0049 - val_mean_absolute_error: 0.0049 - val_mean_squared_error: 3.5795e-05 - val_root_mean_squared_error: 0.0060 - val_coefficient_of_determination: 0.9072\n",
      "Epoch 7/8\n",
      "138/138 [==============================] - 18s 127ms/step - loss: 0.0011 - mean_absolute_error: 0.0011 - mean_squared_error: 3.4974e-06 - root_mean_squared_error: 0.0019 - coefficient_of_determination: 0.9999 - val_loss: 0.0045 - val_mean_absolute_error: 0.0045 - val_mean_squared_error: 3.1646e-05 - val_root_mean_squared_error: 0.0056 - val_coefficient_of_determination: 0.9185\n",
      "Epoch 8/8\n",
      "138/138 [==============================] - 17s 126ms/step - loss: 0.0011 - mean_absolute_error: 0.0011 - mean_squared_error: 3.5989e-06 - root_mean_squared_error: 0.0019 - coefficient_of_determination: 0.9999 - val_loss: 0.0045 - val_mean_absolute_error: 0.0045 - val_mean_squared_error: 3.2186e-05 - val_root_mean_squared_error: 0.0057 - val_coefficient_of_determination: 0.9171\n"
     ]
    }
   ],
   "source": [
    "historyOne = model.fit(X_train, y_train, epochs=16, batch_size=32, validation_data=(X_test, y_test), verbose=1)\n",
    "K.set_value(model.optimizer.learning_rate, 0.001)\n",
    "historyTwo = model.fit(X_train, y_train, epochs=12, batch_size=32, validation_data=(X_test, y_test), verbose=1)\n",
    "K.set_value(model.optimizer.learning_rate, 0.0001)\n",
    "historyThree = model.fit(X_train, y_train, epochs=8, batch_size=32, validation_data=(X_test, y_test), verbose=1)"
   ]
  },
  {
   "cell_type": "markdown",
   "metadata": {},
   "source": [
    "### Predict on Test Data"
   ]
  },
  {
   "cell_type": "code",
   "execution_count": 11,
   "metadata": {},
   "outputs": [
    {
     "name": "stdout",
     "output_type": "stream",
     "text": [
      "1/4 [======>.......................] - ETA: 1s"
     ]
    },
    {
     "name": "stderr",
     "output_type": "stream",
     "text": [
      "2022-08-17 15:33:03.095153: W tensorflow/core/grappler/costs/op_level_cost_estimator.cc:690] Error in PredictCost() for the op: op: \"Softmax\" attr { key: \"T\" value { type: DT_FLOAT } } inputs { dtype: DT_FLOAT shape { unknown_rank: true } } device { type: \"CPU\" vendor: \"GenuineIntel\" model: \"110\" frequency: 2400 num_cores: 16 environment { key: \"cpu_instruction_set\" value: \"SSE, SSE2, SSE3, SSSE3, SSE4.1, SSE4.2\" } environment { key: \"eigen\" value: \"3.4.90\" } l1_cache_size: 32768 l2_cache_size: 262144 l3_cache_size: 16777216 memory_size: 268435456 } outputs { dtype: DT_FLOAT shape { unknown_rank: true } }\n"
     ]
    },
    {
     "name": "stdout",
     "output_type": "stream",
     "text": [
      "4/4 [==============================] - 1s 47ms/step\n"
     ]
    }
   ],
   "source": [
    "y_hat = model.predict(X_test)"
   ]
  },
  {
   "cell_type": "markdown",
   "metadata": {},
   "source": [
    "### Unscale Data"
   ]
  },
  {
   "cell_type": "code",
   "execution_count": 12,
   "metadata": {},
   "outputs": [],
   "source": [
    "# Undo normalisation\n",
    "y_test = (y_test * anotherScaler.data_range_[0]) + anotherScaler.data_min_[0]\n",
    "y_hat = (y_hat * anotherScaler.data_range_[0]) + anotherScaler.data_min_[0]\n",
    "# Undo standardisation\n",
    "y_test = (y_test * scaler.scale_[0]) + scaler.mean_[0]\n",
    "y_hat = (y_hat * scaler.scale_[0]) + scaler.mean_[0]"
   ]
  },
  {
   "cell_type": "markdown",
   "metadata": {},
   "source": [
    "### Plot Prediction"
   ]
  },
  {
   "cell_type": "code",
   "execution_count": 13,
   "metadata": {},
   "outputs": [
    {
     "data": {
      "image/png": "[encoded data removed]",
      "text/plain": [
       "<Figure size 1008x360 with 1 Axes>"
      ]
     },
     "metadata": {
      "needs_background": "light"
     },
     "output_type": "display_data"
    }
   ],
   "source": [
    "plt.figure(figsize=(14, 5))\n",
    "plt.plot(y_hat, color='red', label=\"Predicted S&P 500 Open Price ($)\")\n",
    "plt.plot(y_test, color='blue', label=\"Actual S&P 500 Open Price ($)\")\n",
    "plt.title('S&P 500 Open Price Prediction')\n",
    "# plt.xticks(np.arange(dates.shape[0]), dates)\n",
    "xLabel = \"Days since \" + splitDate\n",
    "plt.xlabel(xLabel)\n",
    "plt.ylabel('S&P 500 Open Price ($)')\n",
    "plt.legend()\n",
    "plt.show()"
   ]
  },
  {
   "cell_type": "markdown",
   "metadata": {},
   "source": [
    "### Performance Metrics"
   ]
  },
  {
   "cell_type": "code",
   "execution_count": 14,
   "metadata": {},
   "outputs": [
    {
     "data": {
      "image/png": "[encoded data removed]",
      "text/plain": [
       "<Figure size 1008x360 with 2 Axes>"
      ]
     },
     "metadata": {
      "needs_background": "light"
     },
     "output_type": "display_data"
    }
   ],
   "source": [
    "totalLoss = np.concatenate([historyOne.history['loss'], historyTwo.history['loss'], historyThree.history['loss']])\n",
    "totaValLoss = np.concatenate([historyOne.history['val_loss'], historyTwo.history['val_loss'], historyThree.history['val_loss']])\n",
    "\n",
    "plt.figure(figsize=(14, 5))\n",
    "\n",
    "plt.subplot(1, 2, 1)\n",
    "plt.plot(totalLoss, color='red')\n",
    "plt.axvspan(0, 16, facecolor='black', alpha=0.6, label=\"LR = 0.01\")\n",
    "plt.axvspan(16, 16+12, facecolor='black', alpha=0.4, label=\"LR = 0.001\")\n",
    "plt.axvspan(16+12, 16+12+8, facecolor='black', alpha=0.2, label=\"LR = 0.0001\")\n",
    "plt.xlim(0, 16+12+8)\n",
    "plt.xticks([2*i for i in range(int((16+12+8)/2))], [(2*j)+1 for j in range(int((16+12+8)/2))])\n",
    "plt.xlabel(\"Epoch\")\n",
    "plt.ylabel(\"Mean Absolute Error\")\n",
    "plt.title(\"Loss\")\n",
    "plt.legend()\n",
    "\n",
    "plt.subplot(1, 2, 2)\n",
    "plt.plot(totaValLoss, color='red')\n",
    "plt.axvspan(0, 16, facecolor='black', alpha=0.6, label=\"LR = 0.01\")\n",
    "plt.axvspan(16, 16+12, facecolor='black', alpha=0.4, label=\"LR = 0.001\")\n",
    "plt.axvspan(16+12, 16+12+8, facecolor='black', alpha=0.2, label=\"LR = 0.0001\")\n",
    "plt.xlim(0, 16+12+8)\n",
    "plt.xticks([2*i for i in range(int((16+12+8)/2))], [(2*j)+1 for j in range(int((16+12+8)/2))])\n",
    "plt.xlabel(\"Epoch\")\n",
    "plt.ylabel(\"Mean Absolute Error\")\n",
    "plt.title(\"Validation Loss\")\n",
    "plt.legend()\n",
    "\n",
    "plt.show()"
   ]
  },
  {
   "cell_type": "code",
   "execution_count": 15,
   "metadata": {},
   "outputs": [
    {
     "name": "stdout",
     "output_type": "stream",
     "text": [
      "Mean Absolute Error (MAE): 0.0010743344901129603\n",
      "Mean Squared Error (MSE): 3.5988866784464335e-06\n",
      "Root Mean Squared Error (RMSE): 0.0018970732344314456\n",
      "Coefficient of Determination (R2): 0.9999335408210754\n"
     ]
    }
   ],
   "source": [
    "mae = historyThree.history['mean_absolute_error']\n",
    "mse = historyThree.history['mean_squared_error']\n",
    "rmse = historyThree.history['root_mean_squared_error']\n",
    "r2 = historyThree.history['coefficient_of_determination']\n",
    "\n",
    "print('Mean Absolute Error (MAE): ' + str(mae[-1]))\n",
    "print('Mean Squared Error (MSE): ' + str(mse[-1]))\n",
    "print('Root Mean Squared Error (RMSE): ' + str(rmse[-1]))\n",
    "print('Coefficient of Determination (R2): ' + str(r2[-1]))"
   ]
  },
  {
   "cell_type": "code",
   "execution_count": 16,
   "metadata": {},
   "outputs": [
    {
     "name": "stdout",
     "output_type": "stream",
     "text": [
      "Validation Mean Absolute Error (MAE): 0.004548672586679459\n",
      "Validation Mean Squared Error (MSE): 3.218640267732553e-05\n",
      "Validation Root Mean Squared Error (RMSE): 0.0056733060628175735\n",
      "Validation Coefficient of Determination (R2): 0.9170546531677246\n"
     ]
    }
   ],
   "source": [
    "valmae = historyThree.history['val_mean_absolute_error']\n",
    "valmse = historyThree.history['val_mean_squared_error']\n",
    "valrmse = historyThree.history['val_root_mean_squared_error']\n",
    "valr2 = historyThree.history['val_coefficient_of_determination']\n",
    "\n",
    "print('Validation Mean Absolute Error (MAE): ' + str(valmae[-1]))\n",
    "print('Validation Mean Squared Error (MSE): ' + str(valmse[-1]))\n",
    "print('Validation Root Mean Squared Error (RMSE): ' + str(valrmse[-1]))\n",
    "print('Validation Coefficient of Determination (R2): ' + str(valr2[-1]))"
   ]
  },
  {
   "cell_type": "markdown",
   "metadata": {},
   "source": [
    "### Trading Strategy"
   ]
  },
  {
   "cell_type": "code",
   "execution_count": 17,
   "metadata": {},
   "outputs": [
    {
     "name": "stdout",
     "output_type": "stream",
     "text": [
      "----------------------------------------------------------------\n",
      "Trading over 125 days\n",
      "Initial Balance: $1000000\n",
      "----------------------------------------------------------------\n",
      "Random Trading Strategy\n",
      "Profit: $119276.76167026581\n",
      "Balance Percentage Change: 11.927676167026581%\n",
      "----------------------------------------------------------------\n",
      "Buying on day one and holding\n",
      "Profit: $199619.67847085418\n",
      "Balance Percentage Change: 19.96196784708542%\n",
      "----------------------------------------------------------------\n",
      "Trading strategy based on price predictions\n",
      "Profit: $237681.4554064162\n",
      "Balance Percentage Change: 23.768145540641623%\n",
      "----------------------------------------------------------------\n"
     ]
    }
   ],
   "source": [
    "initialBalance = 1000000\n",
    "actionThreshold = 0.01\n",
    "sentimentInfluence = 0.005\n",
    "betProportion = 1\n",
    "\n",
    "# Random strategy\n",
    "controlBalance = initialBalance\n",
    "controlOwnedShares = 0\n",
    "controlBet = controlBalance / betProportion\n",
    "controlBuyOrders = 0\n",
    "controlSellOrders = 0\n",
    "\n",
    "# Trading the price predictions\n",
    "balance = initialBalance\n",
    "ownedShares = 0\n",
    "bet = balance / betProportion\n",
    "buyOrders = 0\n",
    "sellOrders = 0\n",
    "\n",
    "def Buy(price, bet, balance, ownedShares):\n",
    "    if (balance > 0):\n",
    "            numShares = 0\n",
    "            if (balance >= bet):\n",
    "                numShares = bet / price\n",
    "                balance -= bet\n",
    "                ownedShares += numShares\n",
    "            else:\n",
    "                numShares = balance / price\n",
    "                balance = 0\n",
    "                ownedShares += numShares\n",
    "            # print(\"BUY - \" + str(numShares) + \" shares at $\" + str(price))\n",
    "            bet = (balance + (ownedShares * price)) / betProportion\n",
    "    return bet, balance, ownedShares\n",
    "\n",
    "def Sell(price, bet, balance, ownedShares):\n",
    "    if (ownedShares > 0):\n",
    "        numShares = bet / price\n",
    "        if (ownedShares >= numShares):\n",
    "            balance += bet\n",
    "            ownedShares -= numShares\n",
    "            # print(\"SELL - \" + str(numShares) + \" shares at $\" + str(price))\n",
    "        else:\n",
    "            value = ownedShares * price\n",
    "            balance += value\n",
    "            ownedShares = 0\n",
    "            # print(\"SELL - \" + str(ownedShares) + \" shares at $\" + str(price))\n",
    "        bet = (balance + (ownedShares * price)) / betProportion\n",
    "    return bet, balance, ownedShares\n",
    "\n",
    "# Random trading strategy\n",
    "for i in range(len(y_hat)-1):\n",
    "    if (randint(0, 1) == 0): # ! Buy\n",
    "        controlBet, controlBalance, controlOwnedShares = Buy(y_test[i], controlBet, controlBalance, controlOwnedShares)\n",
    "    else: # ! Sell\n",
    "        controlBet, controlBalance, controlOwnedShares = Sell(y_test[i], controlBet, controlBalance, controlOwnedShares)\n",
    "\n",
    "# Trading strategy based on price prediction\n",
    "for i in range(len(y_hat)-1):\n",
    "    \n",
    "    currentPrice = y_test[i]\n",
    "    predictedPrice = y_hat[i+1]\n",
    "    difference = predictedPrice - currentPrice\n",
    "    percentageChange = difference / currentPrice\n",
    "\n",
    "    # No sentiment\n",
    "    if (abs(percentageChange) < actionThreshold): # ! Hold\n",
    "        pass\n",
    "    elif (currentPrice < predictedPrice): # ! Buy\n",
    "        bet, balance, ownedShares = Buy(y_test[i], bet, balance, ownedShares)\n",
    "    elif (currentPrice > predictedPrice): # ! Sell\n",
    "        bet, balance, ownedShares = Sell(y_test[i], bet, balance, ownedShares)\n",
    "\n",
    "controlTotalShareValue = controlOwnedShares * y_test[-1]\n",
    "controlFinalBalance = controlBalance + controlTotalShareValue\n",
    "controlProfit = controlFinalBalance-initialBalance\n",
    "controlBalancePercentageChange = ((controlFinalBalance-initialBalance)/initialBalance) * 100\n",
    "\n",
    "totalShareValue = ownedShares * y_test[-1]\n",
    "finalBalance = balance + totalShareValue\n",
    "profit = finalBalance-initialBalance\n",
    "balancePercentageChange = ((finalBalance-initialBalance)/initialBalance) * 100\n",
    "\n",
    "pricePercentageChange = ((y_test[-1]-y_test[0])/y_test[0]) * 100\n",
    "\n",
    "print(\"----------------------------------------------------------------\")\n",
    "\n",
    "print(\"Trading over \" + str(y_hat.shape[0]) + \" days\")\n",
    "print(\"Initial Balance: $\" + str(initialBalance))\n",
    "\n",
    "print(\"----------------------------------------------------------------\")\n",
    "\n",
    "print(\"Random Trading Strategy\")\n",
    "# print(\"Final Balance: $\" + str(controlFinalBalance))\n",
    "print(\"Profit: $\" + str(controlProfit))\n",
    "print(\"Balance Percentage Change: \" + str(controlBalancePercentageChange) + \"%\")\n",
    "\n",
    "print(\"----------------------------------------------------------------\")\n",
    "\n",
    "print(\"Buying on day one and holding\")\n",
    "print(\"Profit: $\" + str(initialBalance * (pricePercentageChange/100)))\n",
    "print(\"Balance Percentage Change: \" + str(pricePercentageChange) + \"%\")\n",
    "\n",
    "print(\"----------------------------------------------------------------\")\n",
    "\n",
    "print(\"Trading strategy based on price predictions\")\n",
    "# print(\"Final Balance: $\" + str(finalBalance))\n",
    "print(\"Profit: $\" + str(profit))\n",
    "print(\"Balance Percentage Change: \" + str(balancePercentageChange) + \"%\")\n",
    "\n",
    "print(\"----------------------------------------------------------------\")"
   ]
  }
 ],
 "metadata": {
  "kernelspec": {
   "display_name": "Python 3.10.5 64-bit",
   "language": "python",
   "name": "python3"
  },
  "language_info": {
   "codemirror_mode": {
    "name": "ipython",
    "version": 3
   },
   "file_extension": ".py",
   "mimetype": "text/x-python",
   "name": "python",
   "nbconvert_exporter": "python",
   "pygments_lexer": "ipython3",
   "version": "3.10.6"
  },
  "orig_nbformat": 4,
  "vscode": {
   "interpreter": {
    "hash": "7e1998ff7f8aa20ada591c520b972326324e5ea05489af9e422744c7c09f6dad"
   }
  }
 },
 "nbformat": 4,
 "nbformat_minor": 2
}
