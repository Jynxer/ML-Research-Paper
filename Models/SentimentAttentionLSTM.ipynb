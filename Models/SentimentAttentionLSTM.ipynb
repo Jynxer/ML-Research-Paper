{
 "cells": [
  {
   "cell_type": "markdown",
   "metadata": {},
   "source": [
    "# Sentiment Analysis of Financial News Headlines with an Attention Mechanism"
   ]
  },
  {
   "cell_type": "markdown",
   "metadata": {},
   "source": [
    "### Imports"
   ]
  },
  {
   "cell_type": "code",
   "execution_count": 1,
   "metadata": {},
   "outputs": [],
   "source": [
    "import pandas as pd\n",
    "import seaborn as sb\n",
    "import re\n",
    "import gensim\n",
    "import numpy as np\n",
    "from keras.utils import to_categorical\n",
    "from sklearn.model_selection import train_test_split\n",
    "from keras.models import Sequential\n",
    "from keras.layers import LSTM, Dense\n",
    "from attention import Attention\n",
    "from keras.optimizers import Adam\n",
    "from keras import backend as K\n",
    "import keras.utils.vis_utils\n",
    "from importlib import reload\n",
    "reload(keras.utils.vis_utils)\n",
    "from keras.utils.vis_utils import plot_model\n",
    "import matplotlib.pyplot as plt"
   ]
  },
  {
   "cell_type": "markdown",
   "metadata": {},
   "source": [
    "### Loading the Dataset"
   ]
  },
  {
   "cell_type": "code",
   "execution_count": 2,
   "metadata": {},
   "outputs": [],
   "source": [
    "df = pd.read_csv(\"./Datasets/SentimentData.csv\")"
   ]
  },
  {
   "cell_type": "markdown",
   "metadata": {},
   "source": [
    "### Data Visualisation"
   ]
  },
  {
   "cell_type": "code",
   "execution_count": 3,
   "metadata": {},
   "outputs": [
    {
     "name": "stdout",
     "output_type": "stream",
     "text": [
      "<class 'pandas.core.frame.DataFrame'>\n",
      "RangeIndex: 5847 entries, 0 to 5846\n",
      "Data columns (total 2 columns):\n",
      " #   Column     Non-Null Count  Dtype \n",
      "---  ------     --------------  ----- \n",
      " 0   Sentence   5847 non-null   object\n",
      " 1   Sentiment  5847 non-null   object\n",
      "dtypes: object(2)\n",
      "memory usage: 91.5+ KB\n",
      "None\n"
     ]
    },
    {
     "data": {
      "text/plain": [
       "<AxesSubplot:xlabel='Sentiment', ylabel='count'>"
      ]
     },
     "execution_count": 3,
     "metadata": {},
     "output_type": "execute_result"
    },
    {
     "data": {
      "image/png": "[encoded data removed]",
      "text/plain": [
       "<Figure size 432x288 with 1 Axes>"
      ]
     },
     "metadata": {
      "needs_background": "light"
     },
     "output_type": "display_data"
    }
   ],
   "source": [
    "print(df.info())\n",
    "sb.countplot(x=\"Sentiment\", data=df)"
   ]
  },
  {
   "cell_type": "markdown",
   "metadata": {},
   "source": [
    "### Data Preprocessing"
   ]
  },
  {
   "cell_type": "code",
   "execution_count": 4,
   "metadata": {},
   "outputs": [
    {
     "name": "stdout",
     "output_type": "stream",
     "text": [
      "0    [the, geosolutions, technology, will, leverage...\n",
      "1    [esi, on, lows, down, to, bk, a, real, possibi...\n",
      "2    [for, the, last, quarter, of, componenta, s, n...\n",
      "3    [according, to, the, finnish, russian, chamber...\n",
      "4    [the, swedish, buyout, firm, has, sold, its, r...\n",
      "Name: Sentence, dtype: object\n"
     ]
    }
   ],
   "source": [
    "sentences = df[\"Sentence\"].apply(gensim.utils.simple_preprocess)\n",
    "print(sentences[:5])"
   ]
  },
  {
   "cell_type": "markdown",
   "metadata": {},
   "source": [
    "### Denominate Sentiment Values"
   ]
  },
  {
   "cell_type": "code",
   "execution_count": 5,
   "metadata": {},
   "outputs": [
    {
     "name": "stdout",
     "output_type": "stream",
     "text": [
      "0    0\n",
      "1    2\n",
      "2    0\n",
      "3    1\n",
      "4    1\n",
      "Name: Sentiment, dtype: object\n"
     ]
    }
   ],
   "source": [
    "labels = df[\"Sentiment\"].copy()\n",
    "\n",
    "for i in range(labels.shape[0]):\n",
    "    if (df[\"Sentiment\"].iloc[i] == \"positive\"):\n",
    "        labels.iloc[i] = 0\n",
    "    elif (df[\"Sentiment\"].iloc[i] == \"neutral\"):\n",
    "        labels.iloc[i] = 1\n",
    "    elif (df[\"Sentiment\"].iloc[i] == \"negative\"):\n",
    "        labels.iloc[i] = 2\n",
    "        \n",
    "print(labels[:5])"
   ]
  },
  {
   "cell_type": "markdown",
   "metadata": {},
   "source": [
    "### Word to Vector Transformation"
   ]
  },
  {
   "cell_type": "code",
   "execution_count": 6,
   "metadata": {},
   "outputs": [
    {
     "data": {
      "text/plain": [
       "(7582740, 10642700)"
      ]
     },
     "execution_count": 6,
     "metadata": {},
     "output_type": "execute_result"
    }
   ],
   "source": [
    "word2vecModel = gensim.models.Word2Vec(window=10, min_count=2, workers=4)\n",
    "word2vecModel.build_vocab(sentences, progress_per=1000)\n",
    "word2vecModel.train(sentences, total_examples=word2vecModel.corpus_count, epochs=100)"
   ]
  },
  {
   "cell_type": "markdown",
   "metadata": {},
   "source": [
    "### Embedding and Padding"
   ]
  },
  {
   "cell_type": "code",
   "execution_count": 7,
   "metadata": {},
   "outputs": [
    {
     "name": "stdout",
     "output_type": "stream",
     "text": [
      "(5847, 50, 100)\n",
      "float32\n",
      "(5847,)\n",
      "float32\n"
     ]
    }
   ],
   "source": [
    "maxLength = 0\n",
    "\n",
    "for sentence in sentences:\n",
    "    if (len(sentence) > maxLength):\n",
    "        maxLength = len(sentence)\n",
    "\n",
    "X = []\n",
    "y = []\n",
    "\n",
    "for i in range(sentences.shape[0]):\n",
    "    sentence = sentences[i]\n",
    "    wordVec = []\n",
    "    # Embedding\n",
    "    for word in sentence:\n",
    "        if (word in word2vecModel.wv):\n",
    "            wordVec.append(word2vecModel.wv[word].tolist())\n",
    "    # Padding\n",
    "    for j in range(maxLength-len(wordVec)):\n",
    "        wordVec.append([0 for index in range(100)])\n",
    "    X.append(wordVec)\n",
    "    y.append(labels[i])\n",
    "    \n",
    "X = np.array(X)\n",
    "y = np.array(y)\n",
    "X = X.astype(np.float32)\n",
    "y = y.astype(np.float32)\n",
    "\n",
    "print(X.shape)\n",
    "print(X.dtype)\n",
    "print(y.shape)\n",
    "print(y.dtype)"
   ]
  },
  {
   "cell_type": "markdown",
   "metadata": {},
   "source": [
    "### One Hot Encoding"
   ]
  },
  {
   "cell_type": "code",
   "execution_count": 8,
   "metadata": {},
   "outputs": [],
   "source": [
    "y_hot = to_categorical(y)"
   ]
  },
  {
   "cell_type": "markdown",
   "metadata": {},
   "source": [
    "### Train-Test Split"
   ]
  },
  {
   "cell_type": "code",
   "execution_count": 9,
   "metadata": {},
   "outputs": [
    {
     "name": "stdout",
     "output_type": "stream",
     "text": [
      "(5262, 50, 100)\n",
      "(5262, 3)\n",
      "(585, 50, 100)\n",
      "(585, 3)\n"
     ]
    }
   ],
   "source": [
    "X_train, X_test, y_train, y_test = train_test_split(X, y_hot, test_size=0.1, random_state=42)\n",
    "\n",
    "print(X_train.shape)\n",
    "print(y_train.shape)\n",
    "print(X_test.shape)\n",
    "print(y_test.shape)"
   ]
  },
  {
   "cell_type": "markdown",
   "metadata": {},
   "source": [
    "### Define Model"
   ]
  },
  {
   "cell_type": "code",
   "execution_count": 10,
   "metadata": {},
   "outputs": [
    {
     "name": "stderr",
     "output_type": "stream",
     "text": [
      "2022-08-18 19:19:10.430631: I tensorflow/core/platform/cpu_feature_guard.cc:193] This TensorFlow binary is optimized with oneAPI Deep Neural Network Library (oneDNN) to use the following CPU instructions in performance-critical operations:  AVX2 FMA\n",
      "To enable them in other operations, rebuild TensorFlow with the appropriate compiler flags.\n"
     ]
    },
    {
     "name": "stdout",
     "output_type": "stream",
     "text": [
      "Model: \"sequential\"\n",
      "_________________________________________________________________\n",
      " Layer (type)                Output Shape              Param #   \n",
      "=================================================================\n",
      " lstm (LSTM)                 (None, 50, 32)            17024     \n",
      "                                                                 \n",
      " attention (Attention)       (None, 32)                3072      \n",
      "                                                                 \n",
      " dense (Dense)               (None, 3)                 99        \n",
      "                                                                 \n",
      "=================================================================\n",
      "Total params: 20,195\n",
      "Trainable params: 20,195\n",
      "Non-trainable params: 0\n",
      "_________________________________________________________________\n",
      "None\n"
     ]
    },
    {
     "data": {
      "image/png": "[encoded data removed]",
      "text/plain": [
       "<IPython.core.display.Image object>"
      ]
     },
     "execution_count": 10,
     "metadata": {},
     "output_type": "execute_result"
    }
   ],
   "source": [
    "model = Sequential()\n",
    "model.add(LSTM(32, return_sequences=True, input_shape=(X.shape[1], X.shape[2])))\n",
    "model.add(Attention(units=32))\n",
    "model.add(Dense(3, activation='sigmoid'))\n",
    "optimiser = Adam(learning_rate=0.01)\n",
    "model.compile(loss='categorical_crossentropy', optimizer=optimiser, metrics=['acc'])\n",
    "print(model.summary())\n",
    "plot_model(model, to_file='./SentimentAttentionModel.png', show_shapes=True)"
   ]
  },
  {
   "cell_type": "markdown",
   "metadata": {},
   "source": [
    "### Train Model"
   ]
  },
  {
   "cell_type": "code",
   "execution_count": 11,
   "metadata": {},
   "outputs": [
    {
     "name": "stdout",
     "output_type": "stream",
     "text": [
      "Epoch 1/10\n"
     ]
    },
    {
     "name": "stderr",
     "output_type": "stream",
     "text": [
      "2022-08-18 19:19:18.837677: W tensorflow/core/grappler/costs/op_level_cost_estimator.cc:690] Error in PredictCost() for the op: op: \"Softmax\" attr { key: \"T\" value { type: DT_FLOAT } } inputs { dtype: DT_FLOAT shape { unknown_rank: true } } device { type: \"CPU\" vendor: \"GenuineIntel\" model: \"110\" frequency: 2400 num_cores: 16 environment { key: \"cpu_instruction_set\" value: \"SSE, SSE2, SSE3, SSSE3, SSE4.1, SSE4.2\" } environment { key: \"eigen\" value: \"3.4.90\" } l1_cache_size: 32768 l2_cache_size: 262144 l3_cache_size: 16777216 memory_size: 268435456 } outputs { dtype: DT_FLOAT shape { unknown_rank: true } }\n"
     ]
    },
    {
     "name": "stdout",
     "output_type": "stream",
     "text": [
      "329/329 [==============================] - ETA: 0s - loss: 0.7736 - acc: 0.6537"
     ]
    },
    {
     "name": "stderr",
     "output_type": "stream",
     "text": [
      "2022-08-18 19:19:34.277851: W tensorflow/core/grappler/costs/op_level_cost_estimator.cc:690] Error in PredictCost() for the op: op: \"Softmax\" attr { key: \"T\" value { type: DT_FLOAT } } inputs { dtype: DT_FLOAT shape { unknown_rank: true } } device { type: \"CPU\" vendor: \"GenuineIntel\" model: \"110\" frequency: 2400 num_cores: 16 environment { key: \"cpu_instruction_set\" value: \"SSE, SSE2, SSE3, SSSE3, SSE4.1, SSE4.2\" } environment { key: \"eigen\" value: \"3.4.90\" } l1_cache_size: 32768 l2_cache_size: 262144 l3_cache_size: 16777216 memory_size: 268435456 } outputs { dtype: DT_FLOAT shape { unknown_rank: true } }\n"
     ]
    },
    {
     "name": "stdout",
     "output_type": "stream",
     "text": [
      "329/329 [==============================] - 22s 43ms/step - loss: 0.7736 - acc: 0.6537 - val_loss: 0.6614 - val_acc: 0.7179\n",
      "Epoch 2/10\n",
      "329/329 [==============================] - 11s 32ms/step - loss: 0.6028 - acc: 0.7358 - val_loss: 0.6637 - val_acc: 0.7282\n",
      "Epoch 3/10\n",
      "329/329 [==============================] - 11s 32ms/step - loss: 0.5257 - acc: 0.7689 - val_loss: 0.6613 - val_acc: 0.7162\n",
      "Epoch 4/10\n",
      "329/329 [==============================] - 11s 33ms/step - loss: 0.4684 - acc: 0.7910 - val_loss: 0.6560 - val_acc: 0.7350\n",
      "Epoch 5/10\n",
      "329/329 [==============================] - 11s 33ms/step - loss: 0.4214 - acc: 0.8081 - val_loss: 0.6647 - val_acc: 0.7197\n",
      "Epoch 6/10\n",
      "329/329 [==============================] - 11s 34ms/step - loss: 0.3762 - acc: 0.8240 - val_loss: 0.7126 - val_acc: 0.7231\n",
      "Epoch 7/10\n",
      "329/329 [==============================] - 10s 30ms/step - loss: 0.3647 - acc: 0.8271 - val_loss: 0.7100 - val_acc: 0.7145\n",
      "Epoch 8/10\n",
      "329/329 [==============================] - 11s 33ms/step - loss: 0.3310 - acc: 0.8451 - val_loss: 0.7859 - val_acc: 0.7026\n",
      "Epoch 9/10\n",
      "329/329 [==============================] - 11s 34ms/step - loss: 0.3060 - acc: 0.8540 - val_loss: 0.8271 - val_acc: 0.7094\n",
      "Epoch 10/10\n",
      "329/329 [==============================] - 11s 35ms/step - loss: 0.2746 - acc: 0.8620 - val_loss: 0.9778 - val_acc: 0.7077\n"
     ]
    }
   ],
   "source": [
    "history = model.fit(X_train, y_train, validation_data=(X_test, y_test), batch_size=16, epochs=10, verbose=1)"
   ]
  },
  {
   "cell_type": "markdown",
   "metadata": {},
   "source": [
    "### Predict on Test Data"
   ]
  },
  {
   "cell_type": "code",
   "execution_count": 12,
   "metadata": {},
   "outputs": [
    {
     "name": "stderr",
     "output_type": "stream",
     "text": [
      "2022-08-18 19:21:21.035992: W tensorflow/core/grappler/costs/op_level_cost_estimator.cc:690] Error in PredictCost() for the op: op: \"Softmax\" attr { key: \"T\" value { type: DT_FLOAT } } inputs { dtype: DT_FLOAT shape { unknown_rank: true } } device { type: \"CPU\" vendor: \"GenuineIntel\" model: \"110\" frequency: 2400 num_cores: 16 environment { key: \"cpu_instruction_set\" value: \"SSE, SSE2, SSE3, SSSE3, SSE4.1, SSE4.2\" } environment { key: \"eigen\" value: \"3.4.90\" } l1_cache_size: 32768 l2_cache_size: 262144 l3_cache_size: 16777216 memory_size: 268435456 } outputs { dtype: DT_FLOAT shape { unknown_rank: true } }\n"
     ]
    },
    {
     "name": "stdout",
     "output_type": "stream",
     "text": [
      "19/19 [==============================] - 2s 10ms/step\n"
     ]
    }
   ],
   "source": [
    "y_hat = model.predict(X_test)"
   ]
  },
  {
   "cell_type": "markdown",
   "metadata": {},
   "source": [
    "### Decode Prediction"
   ]
  },
  {
   "cell_type": "code",
   "execution_count": 13,
   "metadata": {},
   "outputs": [],
   "source": [
    "yHatAbsolute = y_hat.copy()\n",
    "yHatText = []\n",
    "\n",
    "for i in range(len(y_hat)):\n",
    "    for j in range(len(y_hat[i])):\n",
    "        yHatAbsolute[i, j] = round(y_hat[i, j])\n",
    "    if (yHatAbsolute[i, 0] == 1):\n",
    "        yHatText.append(\"positive\")\n",
    "    elif (yHatAbsolute[i, 1] == 1):\n",
    "        yHatText.append(\"negative\")\n",
    "    elif (yHatAbsolute[i, 2] == 1):\n",
    "        yHatText.append(\"neutral\")"
   ]
  },
  {
   "cell_type": "markdown",
   "metadata": {},
   "source": [
    "### Performance Metrics"
   ]
  },
  {
   "cell_type": "code",
   "execution_count": 14,
   "metadata": {},
   "outputs": [
    {
     "name": "stdout",
     "output_type": "stream",
     "text": [
      "Training Accuracy: 0.8620296716690063\n",
      "Validation Accuracy: 0.7076923251152039\n"
     ]
    }
   ],
   "source": [
    "trainingAccuracy = history.history['acc']\n",
    "validationAccuracy = history.history['val_acc']\n",
    "\n",
    "print(\"Training Accuracy: \" + str(trainingAccuracy[-1]))\n",
    "print(\"Validation Accuracy: \" + str(validationAccuracy[-1]))"
   ]
  }
 ],
 "metadata": {
  "kernelspec": {
   "display_name": "Python 3.9.13 64-bit",
   "language": "python",
   "name": "python3"
  },
  "language_info": {
   "codemirror_mode": {
    "name": "ipython",
    "version": 3
   },
   "file_extension": ".py",
   "mimetype": "text/x-python",
   "name": "python",
   "nbconvert_exporter": "python",
   "pygments_lexer": "ipython3",
   "version": "3.10.6"
  },
  "orig_nbformat": 4,
  "vscode": {
   "interpreter": {
    "hash": "aee8b7b246df8f9039afb4144a1f6fd8d2ca17a180786b69acc140d282b71a49"
   }
  }
 },
 "nbformat": 4,
 "nbformat_minor": 2
}
